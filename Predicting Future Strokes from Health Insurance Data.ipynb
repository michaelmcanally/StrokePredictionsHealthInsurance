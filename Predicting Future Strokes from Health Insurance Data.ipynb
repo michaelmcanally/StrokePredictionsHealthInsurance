{
 "cells": [
  {
   "cell_type": "markdown",
   "metadata": {
    "collapsed": true
   },
   "source": [
    "# Predicting Future Stroke Patients from Health Insurance Records\n",
    "\n",
    "\n",
    "## *Michael McAnally*\n",
    "## *20 September, 2019*"
   ]
  },
  {
   "cell_type": "markdown",
   "metadata": {},
   "source": [
    "# *Executive Summary:*\n",
    "\n",
    "## Accountable Care Organization (ACO) contracted the McAnally Consulting Group to develop a predictive modeling solution to reduce the prevalence of strokes in the population they manage. ACO provided the McAnally Consulting Group a labeled dataset of their population that includes a variety of demographic and health-related data, along with a label indicating if the person had a stroke within six months. \n",
    "\n",
    "## the McAnally Consulting Group performed the following tasks for ACO:\n",
    " 1. Cleaned the data for numerical outliers, \n",
    " 2. Transformed the data by imputing missing values and converting to a generalizable modeling dataset, \n",
    " 3. Modeled stroke predictions using a variety of machine learning techniques. \n",
    "\n",
    "## Model results showed that a stroke could be predicted well using a variety of models for in-sample trained data, but no model displayed adequate performance for generalization and deployment. \n",
    "\n",
    "## If the ACO wants the McAnally Consulting Group to continue pursuing a predictive data model for strokes, the McAnally Consulting Group has the following recommendations:\n",
    "1. Collect and provide more data either from current patients or look at engineering a larger dataset from legacy records,\n",
    "2. If possible, provide time series datasets of patients to look for dynamic behavior in the response variable to be predicted.\n",
    "\n",
    "## the McAnally Consulting Group is ready to contract with the ACO to pursue both recommendations and provide a robust, generalizable model for stroke predictions."
   ]
  },
  {
   "cell_type": "markdown",
   "metadata": {},
   "source": [
    "# *Data Scientist Executive Summary*\n",
    "\n",
    "## As the Data Scientist team has different concerns than the general Executive Summary, the following is a 'technical' Executive Summary of the work. Data from the ACO was imported in to python and placed in a pandas dataframe. Exploratory data analysis showed numerical outliers in the 'age' factor, these observations were removed from the dataframe as they did not contribute information to the unbalanced class (stroke). \n",
    "\n",
    "## Once the outlier observations were removed, the dataset was split 80/20 into train and test sets.\n",
    "\n",
    "## Missing values in 'metric_2' were imputed based on the median value in the dataframe. Missing values in the 'smoking_status' were substantial, so the missing values were imputed using a knn classifier on the numerical data. Following imputation, the dataframe was converted to a 'one-hot' dataframe to allow for generalizability in future modeling efforts. Then a dimensionality reduction was pursued using Principal Components Analysis on the one-hot dataframe. The top ten vectors were kept for a final training dataframe. Identical transformations were performed on the test set.\n",
    "\n",
    "## The following models were trained and evaluated on both in-sample and out-of-sample data to consider generalizability. \n",
    " - Logistic Regression\n",
    " - Regularized Logistic Regression\n",
    " - k-Nearest Neighbors\n",
    " - Decision Tree\n",
    " - Support Vector Machine\n",
    " - Outlier detection SVM (one-class)\n",
    " - Hyperparameter-tuned Random Forest\n",
    " - AdaBoost\n",
    " - Naive Bayes\n",
    " - Quadratic Discriminant Analysis\n",
    " - Multilayer Perceptron\n",
    "\n",
    "\n",
    "## Because the ACO cares about both precision and recall, not just accuracy, F1-scores were used when optimizing parameters in the models."
   ]
  },
  {
   "cell_type": "markdown",
   "metadata": {},
   "source": [
    "## *Provided problem statement:*\n",
    "\n",
    "## Background\n",
    "\n",
    "### An Accountable Care Organization (ACO) has engaged us to assist in helping them develop a predictive modeling solution to reduce the prevalence of strokes in the population they manage. Their plan is to develop an outreach program where a team of health coaches will work with members to reduce their risk of stroke. However, they do not have enough resources to engage every member of their population. Therefore, they would like us to develop a model that can be used to match the health coaches with those individuals who have the highest risk of stroke.\n",
    "\n",
    " \n",
    "\n",
    "## Task\n",
    "\n",
    "### Your task, as a new member of the team, is to develop a predictive model to predict the probability that a member will have a stroke in the next six months. When building the model keep in mind that there is a limited number of health coaches, so it is important to minimize the amount of false positives and false negatives. The ACO has provided a sample dataset in order to gauge the feasibility of developing such a model. We have provided a link to this dataset below. Please train a model on this data. The dependent variable you are trying to predict is the “stroke” column.\n",
    "\n",
    "## *Mike McAnally's quick take on the problem*:\n",
    "\n",
    "### Alright this is a supervised learning problem with labeled response variable data. Since the ACO cares about resourcing we need to balance sensitivity in the model, and optimize not for accuracy, but precision and recall (F1-scores).\n",
    "\n",
    "### The main branching point for model development will be if the data represents:\n",
    " 1. 'Static' classification problem, or\n",
    " 2. Longitudinal/repeated measures multivariate time series classification problem. \n",
    " \n",
    "### If it is a static classification problem, I'll start with the following models:\n",
    "1. Logistic regression \n",
    "2. k-Nearest neighbors (kNN)\n",
    "3. Decision trees\n",
    "4. Support vector machine (SVM)\n",
    "\n",
    "\n",
    "### If the problem is a multivariate time series classification problem, I'd also consider using the following methods:\n",
    "1. Mixed-effects logistic regression with autoregressive feature to deal with correlation\n",
    "2. Hierarchical generalized additive model (HGAM) with spline fitting on the time variable\n",
    "3. Long short term memory recurrent neural network (LSTM - RNN) \n",
    "  * *provided adequate amounts of data and my interest in paying for compute time*\n",
    "4. Temporal convolutional neural network (TempCNN) \n",
    "  * *provided adequate amounts of data and my interest in paying for compute time*\n"
   ]
  },
  {
   "cell_type": "markdown",
   "metadata": {},
   "source": [
    "# The notebook will be organized in the following sections:\n",
    "1. Data Wrangling\n",
    "2. Exploratory Data Analysis\n",
    "3. Data Cleaning and Transformation\n",
    "4. Data Modeling\n",
    "5. Results"
   ]
  },
  {
   "cell_type": "markdown",
   "metadata": {},
   "source": [
    "# Data Wrangling\n",
    "\n",
    "### First I import some python packages that I plan to use in this analysis."
   ]
  },
  {
   "cell_type": "code",
   "execution_count": 1,
   "metadata": {},
   "outputs": [],
   "source": [
    "import numpy as np\n",
    "import pandas as pd\n",
    "import matplotlib.pyplot as plt\n",
    "from matplotlib.ticker import NullFormatter\n",
    "import matplotlib.ticker as ticker\n",
    "import itertools\n",
    "\n",
    "\n",
    "from sklearn import preprocessing\n",
    "from sklearn.model_selection import train_test_split\n",
    "from sklearn.impute import SimpleImputer\n",
    "from sklearn.metrics import log_loss\n",
    "from sklearn.linear_model import LogisticRegression\n",
    "from sklearn.metrics import classification_report, confusion_matrix\n",
    "from sklearn.metrics import accuracy_score\n",
    "from sklearn.tree import DecisionTreeClassifier\n",
    "from sklearn.metrics import f1_score\n",
    "from sklearn import svm\n",
    "from sklearn.metrics import jaccard_similarity_score\n",
    "from sklearn.ensemble import RandomForestClassifier\n",
    "from sklearn.model_selection import RandomizedSearchCV# Number of trees in random forest\n",
    "from pprint import pprint\n",
    "from sklearn.neighbors import KNeighborsClassifier\n",
    "from sklearn.svm import OneClassSVM\n",
    "from sklearn.decomposition import PCA\n",
    "from sklearn.neural_network import MLPClassifier\n",
    "from sklearn.ensemble import RandomForestClassifier, AdaBoostClassifier\n",
    "from sklearn.discriminant_analysis import QuadraticDiscriminantAnalysis\n",
    "from sklearn.naive_bayes import GaussianNB\n",
    "\n",
    "\n",
    "%matplotlib inline"
   ]
  },
  {
   "cell_type": "markdown",
   "metadata": {},
   "source": [
    "### Downloading the data using wget"
   ]
  },
  {
   "cell_type": "code",
   "execution_count": 2,
   "metadata": {},
   "outputs": [
    {
     "name": "stdout",
     "output_type": "stream",
     "text": [
      "--2019-09-19 13:09:23--  https://case2019.blob.core.windows.net/ds-case-study-2019/case_study_data.csv\n",
      "Resolving case2019.blob.core.windows.net (case2019.blob.core.windows.net)... 13.67.155.16\n",
      "Connecting to case2019.blob.core.windows.net (case2019.blob.core.windows.net)|13.67.155.16|:443... connected.\n",
      "HTTP request sent, awaiting response... 200 OK\n",
      "Length: 2931066 (2.8M) [application/vnd.ms-excel]\n",
      "Saving to: ‘stroke_data.csv’\n",
      "\n",
      "100%[======================================>] 2,931,066   9.04MB/s   in 0.3s   \n",
      "\n",
      "2019-09-19 13:09:24 (9.04 MB/s) - ‘stroke_data.csv’ saved [2931066/2931066]\n",
      "\n"
     ]
    }
   ],
   "source": [
    "!wget -O stroke_data.csv https://case2019.blob.core.windows.net/ds-case-study-2019/case_study_data.csv"
   ]
  },
  {
   "cell_type": "markdown",
   "metadata": {},
   "source": [
    "### Load data from .csv file"
   ]
  },
  {
   "cell_type": "code",
   "execution_count": 3,
   "metadata": {},
   "outputs": [
    {
     "data": {
      "text/html": [
       "<div>\n",
       "<style scoped>\n",
       "    .dataframe tbody tr th:only-of-type {\n",
       "        vertical-align: middle;\n",
       "    }\n",
       "\n",
       "    .dataframe tbody tr th {\n",
       "        vertical-align: top;\n",
       "    }\n",
       "\n",
       "    .dataframe thead th {\n",
       "        text-align: right;\n",
       "    }\n",
       "</style>\n",
       "<table border=\"1\" class=\"dataframe\">\n",
       "  <thead>\n",
       "    <tr style=\"text-align: right;\">\n",
       "      <th></th>\n",
       "      <th>id</th>\n",
       "      <th>gender</th>\n",
       "      <th>age</th>\n",
       "      <th>married</th>\n",
       "      <th>hypertension</th>\n",
       "      <th>heart_disease</th>\n",
       "      <th>occupation</th>\n",
       "      <th>residence</th>\n",
       "      <th>metric_1</th>\n",
       "      <th>metric_2</th>\n",
       "      <th>metric_3</th>\n",
       "      <th>metric_4</th>\n",
       "      <th>metric_5</th>\n",
       "      <th>smoking_status</th>\n",
       "      <th>stroke</th>\n",
       "    </tr>\n",
       "  </thead>\n",
       "  <tbody>\n",
       "    <tr>\n",
       "      <th>0</th>\n",
       "      <td>1</td>\n",
       "      <td>Male</td>\n",
       "      <td>3.0</td>\n",
       "      <td>No</td>\n",
       "      <td>0</td>\n",
       "      <td>0</td>\n",
       "      <td>A</td>\n",
       "      <td>Rural</td>\n",
       "      <td>95.12</td>\n",
       "      <td>18.0</td>\n",
       "      <td>0</td>\n",
       "      <td>99.31</td>\n",
       "      <td>95.12</td>\n",
       "      <td>NaN</td>\n",
       "      <td>0</td>\n",
       "    </tr>\n",
       "    <tr>\n",
       "      <th>1</th>\n",
       "      <td>2</td>\n",
       "      <td>Male</td>\n",
       "      <td>58.0</td>\n",
       "      <td>Yes</td>\n",
       "      <td>1</td>\n",
       "      <td>0</td>\n",
       "      <td>B</td>\n",
       "      <td>Urban</td>\n",
       "      <td>87.96</td>\n",
       "      <td>39.2</td>\n",
       "      <td>0</td>\n",
       "      <td>95.06</td>\n",
       "      <td>87.96</td>\n",
       "      <td>never smoked</td>\n",
       "      <td>0</td>\n",
       "    </tr>\n",
       "    <tr>\n",
       "      <th>2</th>\n",
       "      <td>3</td>\n",
       "      <td>Female</td>\n",
       "      <td>8.0</td>\n",
       "      <td>No</td>\n",
       "      <td>0</td>\n",
       "      <td>0</td>\n",
       "      <td>B</td>\n",
       "      <td>Urban</td>\n",
       "      <td>110.89</td>\n",
       "      <td>17.6</td>\n",
       "      <td>0</td>\n",
       "      <td>98.82</td>\n",
       "      <td>110.89</td>\n",
       "      <td>NaN</td>\n",
       "      <td>0</td>\n",
       "    </tr>\n",
       "    <tr>\n",
       "      <th>3</th>\n",
       "      <td>4</td>\n",
       "      <td>Female</td>\n",
       "      <td>70.0</td>\n",
       "      <td>Yes</td>\n",
       "      <td>0</td>\n",
       "      <td>0</td>\n",
       "      <td>B</td>\n",
       "      <td>Rural</td>\n",
       "      <td>69.04</td>\n",
       "      <td>35.9</td>\n",
       "      <td>0</td>\n",
       "      <td>98.36</td>\n",
       "      <td>69.04</td>\n",
       "      <td>formerly smoked</td>\n",
       "      <td>0</td>\n",
       "    </tr>\n",
       "    <tr>\n",
       "      <th>4</th>\n",
       "      <td>5</td>\n",
       "      <td>Male</td>\n",
       "      <td>14.0</td>\n",
       "      <td>No</td>\n",
       "      <td>0</td>\n",
       "      <td>0</td>\n",
       "      <td>C</td>\n",
       "      <td>Rural</td>\n",
       "      <td>161.28</td>\n",
       "      <td>19.1</td>\n",
       "      <td>1</td>\n",
       "      <td>97.44</td>\n",
       "      <td>161.28</td>\n",
       "      <td>NaN</td>\n",
       "      <td>0</td>\n",
       "    </tr>\n",
       "  </tbody>\n",
       "</table>\n",
       "</div>"
      ],
      "text/plain": [
       "   id  gender   age married  hypertension  heart_disease occupation residence  \\\n",
       "0   1    Male   3.0      No             0              0          A     Rural   \n",
       "1   2    Male  58.0     Yes             1              0          B     Urban   \n",
       "2   3  Female   8.0      No             0              0          B     Urban   \n",
       "3   4  Female  70.0     Yes             0              0          B     Rural   \n",
       "4   5    Male  14.0      No             0              0          C     Rural   \n",
       "\n",
       "   metric_1  metric_2  metric_3  metric_4  metric_5   smoking_status  stroke  \n",
       "0     95.12      18.0         0     99.31     95.12              NaN       0  \n",
       "1     87.96      39.2         0     95.06     87.96     never smoked       0  \n",
       "2    110.89      17.6         0     98.82    110.89              NaN       0  \n",
       "3     69.04      35.9         0     98.36     69.04  formerly smoked       0  \n",
       "4    161.28      19.1         1     97.44    161.28              NaN       0  "
      ]
     },
     "execution_count": 3,
     "metadata": {},
     "output_type": "execute_result"
    }
   ],
   "source": [
    "df = pd.read_csv('stroke_data.csv')\n",
    "df.head()"
   ]
  },
  {
   "cell_type": "markdown",
   "metadata": {},
   "source": [
    "### Looking at the first few rows of the dataframe I can tell:\n",
    " 1. This is a static classification problem,\n",
    " 2. there is missing data in at least the 'smoking_status' feature,\n",
    " 3. there are categorical variables that I can encode to be 'one-hot' to allow for later scalability if there is more data and flexibility between algorithms.\n",
    " "
   ]
  },
  {
   "cell_type": "markdown",
   "metadata": {},
   "source": [
    "# Exploratory Data Analysis\n",
    "\n",
    "### Looking at the info of the dataframe to see full size and object types"
   ]
  },
  {
   "cell_type": "code",
   "execution_count": 4,
   "metadata": {},
   "outputs": [
    {
     "name": "stdout",
     "output_type": "stream",
     "text": [
      "<class 'pandas.core.frame.DataFrame'>\n",
      "RangeIndex: 43400 entries, 0 to 43399\n",
      "Data columns (total 15 columns):\n",
      "id                43400 non-null int64\n",
      "gender            43400 non-null object\n",
      "age               43400 non-null float64\n",
      "married           43400 non-null object\n",
      "hypertension      43400 non-null int64\n",
      "heart_disease     43400 non-null int64\n",
      "occupation        43400 non-null object\n",
      "residence         43400 non-null object\n",
      "metric_1          43400 non-null float64\n",
      "metric_2          41938 non-null float64\n",
      "metric_3          43400 non-null int64\n",
      "metric_4          43400 non-null float64\n",
      "metric_5          43400 non-null float64\n",
      "smoking_status    30108 non-null object\n",
      "stroke            43400 non-null int64\n",
      "dtypes: float64(5), int64(5), object(5)\n",
      "memory usage: 5.0+ MB\n"
     ]
    }
   ],
   "source": [
    "df.info()"
   ]
  },
  {
   "cell_type": "markdown",
   "metadata": {},
   "source": [
    "### Ok, so the data frame has 43400 observations. The amount of 'NA' in 'smoking_status' is too high to ignore by dropping rows to only use complete cases. Also looks like numeric 'metric_2' feature is missing values. \n",
    "\n",
    "### First though, a quick data dictionary / reference table for later use"
   ]
  },
  {
   "cell_type": "markdown",
   "metadata": {},
   "source": [
    "## Data dictionary:\n",
    "\n",
    "| feature        | type           | desc  |\n",
    "| ------------- |-------------| -----|\n",
    "| id      | int| integer factor corresponding to observation |\n",
    "| gender      | char     |   categorical factor for gender  |\n",
    "| age | dbl | numeric factor of age|\n",
    "| married | char | categorical factor indicating marriage status |\n",
    "| hypertension | int | binary factor corresponding to hypertension status |\n",
    "| heart_disease | int | binary factor corresponding to heart disease status |\n",
    "| occupation | char | dummy coded categorical factor for job |\n",
    "| residence | char | categorical factor describing residence location |\n",
    "| metric_1 | dbl | some numeric factor |\n",
    "| metric_2 | dbl | some numeric factor |\n",
    "| metric_3 | int | some integer factor |\n",
    "| metric_4 | dbl | some numeric factor |\n",
    "| metric_5 | dbl | some numeric factor |\n",
    "| smoking_status | char | categorical factor indicating smoking status |\n",
    "| stroke | int | target variable, integer indicating stroke or no stroke"
   ]
  },
  {
   "cell_type": "markdown",
   "metadata": {},
   "source": [
    "### There are a few ways to deal with missing values, easiest is to impute the median, but I'm confident that the smoking_status can be better imputed by using knn imputation. We'll use knn for smoking_status and median values for metric_2. We'll just check that it isn't filled with tons of outliers."
   ]
  },
  {
   "cell_type": "code",
   "execution_count": 5,
   "metadata": {},
   "outputs": [
    {
     "data": {
      "text/html": [
       "<div>\n",
       "<style scoped>\n",
       "    .dataframe tbody tr th:only-of-type {\n",
       "        vertical-align: middle;\n",
       "    }\n",
       "\n",
       "    .dataframe tbody tr th {\n",
       "        vertical-align: top;\n",
       "    }\n",
       "\n",
       "    .dataframe thead th {\n",
       "        text-align: right;\n",
       "    }\n",
       "</style>\n",
       "<table border=\"1\" class=\"dataframe\">\n",
       "  <thead>\n",
       "    <tr style=\"text-align: right;\">\n",
       "      <th></th>\n",
       "      <th>id</th>\n",
       "      <th>gender</th>\n",
       "      <th>age</th>\n",
       "      <th>married</th>\n",
       "      <th>hypertension</th>\n",
       "      <th>heart_disease</th>\n",
       "      <th>occupation</th>\n",
       "      <th>residence</th>\n",
       "      <th>metric_1</th>\n",
       "      <th>metric_2</th>\n",
       "      <th>metric_3</th>\n",
       "      <th>metric_4</th>\n",
       "      <th>metric_5</th>\n",
       "      <th>smoking_status</th>\n",
       "      <th>stroke</th>\n",
       "    </tr>\n",
       "  </thead>\n",
       "  <tbody>\n",
       "    <tr>\n",
       "      <th>count</th>\n",
       "      <td>43400.000000</td>\n",
       "      <td>43400</td>\n",
       "      <td>43400.000000</td>\n",
       "      <td>43400</td>\n",
       "      <td>43400.000000</td>\n",
       "      <td>43400.000000</td>\n",
       "      <td>43400</td>\n",
       "      <td>43400</td>\n",
       "      <td>43400.000000</td>\n",
       "      <td>41938.000000</td>\n",
       "      <td>43400.000000</td>\n",
       "      <td>43400.000000</td>\n",
       "      <td>43400.000000</td>\n",
       "      <td>30108</td>\n",
       "      <td>43400.000000</td>\n",
       "    </tr>\n",
       "    <tr>\n",
       "      <th>unique</th>\n",
       "      <td>NaN</td>\n",
       "      <td>3</td>\n",
       "      <td>NaN</td>\n",
       "      <td>2</td>\n",
       "      <td>NaN</td>\n",
       "      <td>NaN</td>\n",
       "      <td>5</td>\n",
       "      <td>2</td>\n",
       "      <td>NaN</td>\n",
       "      <td>NaN</td>\n",
       "      <td>NaN</td>\n",
       "      <td>NaN</td>\n",
       "      <td>NaN</td>\n",
       "      <td>3</td>\n",
       "      <td>NaN</td>\n",
       "    </tr>\n",
       "    <tr>\n",
       "      <th>top</th>\n",
       "      <td>NaN</td>\n",
       "      <td>Female</td>\n",
       "      <td>NaN</td>\n",
       "      <td>Yes</td>\n",
       "      <td>NaN</td>\n",
       "      <td>NaN</td>\n",
       "      <td>B</td>\n",
       "      <td>Urban</td>\n",
       "      <td>NaN</td>\n",
       "      <td>NaN</td>\n",
       "      <td>NaN</td>\n",
       "      <td>NaN</td>\n",
       "      <td>NaN</td>\n",
       "      <td>never smoked</td>\n",
       "      <td>NaN</td>\n",
       "    </tr>\n",
       "    <tr>\n",
       "      <th>freq</th>\n",
       "      <td>NaN</td>\n",
       "      <td>25665</td>\n",
       "      <td>NaN</td>\n",
       "      <td>27938</td>\n",
       "      <td>NaN</td>\n",
       "      <td>NaN</td>\n",
       "      <td>24834</td>\n",
       "      <td>21756</td>\n",
       "      <td>NaN</td>\n",
       "      <td>NaN</td>\n",
       "      <td>NaN</td>\n",
       "      <td>NaN</td>\n",
       "      <td>NaN</td>\n",
       "      <td>16053</td>\n",
       "      <td>NaN</td>\n",
       "    </tr>\n",
       "    <tr>\n",
       "      <th>mean</th>\n",
       "      <td>21700.500000</td>\n",
       "      <td>NaN</td>\n",
       "      <td>42.261212</td>\n",
       "      <td>NaN</td>\n",
       "      <td>0.093571</td>\n",
       "      <td>0.047512</td>\n",
       "      <td>NaN</td>\n",
       "      <td>NaN</td>\n",
       "      <td>104.482750</td>\n",
       "      <td>28.605038</td>\n",
       "      <td>0.293594</td>\n",
       "      <td>97.525894</td>\n",
       "      <td>104.482750</td>\n",
       "      <td>NaN</td>\n",
       "      <td>0.018041</td>\n",
       "    </tr>\n",
       "    <tr>\n",
       "      <th>std</th>\n",
       "      <td>12528.645178</td>\n",
       "      <td>NaN</td>\n",
       "      <td>23.438911</td>\n",
       "      <td>NaN</td>\n",
       "      <td>0.291235</td>\n",
       "      <td>0.212733</td>\n",
       "      <td>NaN</td>\n",
       "      <td>NaN</td>\n",
       "      <td>43.111751</td>\n",
       "      <td>7.770020</td>\n",
       "      <td>0.455414</td>\n",
       "      <td>1.469159</td>\n",
       "      <td>43.111751</td>\n",
       "      <td>NaN</td>\n",
       "      <td>0.133103</td>\n",
       "    </tr>\n",
       "    <tr>\n",
       "      <th>min</th>\n",
       "      <td>1.000000</td>\n",
       "      <td>NaN</td>\n",
       "      <td>-10.000000</td>\n",
       "      <td>NaN</td>\n",
       "      <td>0.000000</td>\n",
       "      <td>0.000000</td>\n",
       "      <td>NaN</td>\n",
       "      <td>NaN</td>\n",
       "      <td>55.000000</td>\n",
       "      <td>10.100000</td>\n",
       "      <td>0.000000</td>\n",
       "      <td>86.920000</td>\n",
       "      <td>55.000000</td>\n",
       "      <td>NaN</td>\n",
       "      <td>0.000000</td>\n",
       "    </tr>\n",
       "    <tr>\n",
       "      <th>25%</th>\n",
       "      <td>10850.750000</td>\n",
       "      <td>NaN</td>\n",
       "      <td>24.000000</td>\n",
       "      <td>NaN</td>\n",
       "      <td>0.000000</td>\n",
       "      <td>0.000000</td>\n",
       "      <td>NaN</td>\n",
       "      <td>NaN</td>\n",
       "      <td>77.540000</td>\n",
       "      <td>23.200000</td>\n",
       "      <td>0.000000</td>\n",
       "      <td>96.580000</td>\n",
       "      <td>77.540000</td>\n",
       "      <td>NaN</td>\n",
       "      <td>0.000000</td>\n",
       "    </tr>\n",
       "    <tr>\n",
       "      <th>50%</th>\n",
       "      <td>21700.500000</td>\n",
       "      <td>NaN</td>\n",
       "      <td>44.000000</td>\n",
       "      <td>NaN</td>\n",
       "      <td>0.000000</td>\n",
       "      <td>0.000000</td>\n",
       "      <td>NaN</td>\n",
       "      <td>NaN</td>\n",
       "      <td>91.580000</td>\n",
       "      <td>27.700000</td>\n",
       "      <td>0.000000</td>\n",
       "      <td>97.600000</td>\n",
       "      <td>91.580000</td>\n",
       "      <td>NaN</td>\n",
       "      <td>0.000000</td>\n",
       "    </tr>\n",
       "    <tr>\n",
       "      <th>75%</th>\n",
       "      <td>32550.250000</td>\n",
       "      <td>NaN</td>\n",
       "      <td>60.000000</td>\n",
       "      <td>NaN</td>\n",
       "      <td>0.000000</td>\n",
       "      <td>0.000000</td>\n",
       "      <td>NaN</td>\n",
       "      <td>NaN</td>\n",
       "      <td>112.070000</td>\n",
       "      <td>32.900000</td>\n",
       "      <td>1.000000</td>\n",
       "      <td>98.700000</td>\n",
       "      <td>112.070000</td>\n",
       "      <td>NaN</td>\n",
       "      <td>0.000000</td>\n",
       "    </tr>\n",
       "    <tr>\n",
       "      <th>max</th>\n",
       "      <td>43400.000000</td>\n",
       "      <td>NaN</td>\n",
       "      <td>1000.000000</td>\n",
       "      <td>NaN</td>\n",
       "      <td>1.000000</td>\n",
       "      <td>1.000000</td>\n",
       "      <td>NaN</td>\n",
       "      <td>NaN</td>\n",
       "      <td>291.050000</td>\n",
       "      <td>97.600000</td>\n",
       "      <td>1.000000</td>\n",
       "      <td>100.000000</td>\n",
       "      <td>291.050000</td>\n",
       "      <td>NaN</td>\n",
       "      <td>1.000000</td>\n",
       "    </tr>\n",
       "  </tbody>\n",
       "</table>\n",
       "</div>"
      ],
      "text/plain": [
       "                  id  gender           age married  hypertension  \\\n",
       "count   43400.000000   43400  43400.000000   43400  43400.000000   \n",
       "unique           NaN       3           NaN       2           NaN   \n",
       "top              NaN  Female           NaN     Yes           NaN   \n",
       "freq             NaN   25665           NaN   27938           NaN   \n",
       "mean    21700.500000     NaN     42.261212     NaN      0.093571   \n",
       "std     12528.645178     NaN     23.438911     NaN      0.291235   \n",
       "min         1.000000     NaN    -10.000000     NaN      0.000000   \n",
       "25%     10850.750000     NaN     24.000000     NaN      0.000000   \n",
       "50%     21700.500000     NaN     44.000000     NaN      0.000000   \n",
       "75%     32550.250000     NaN     60.000000     NaN      0.000000   \n",
       "max     43400.000000     NaN   1000.000000     NaN      1.000000   \n",
       "\n",
       "        heart_disease occupation residence      metric_1      metric_2  \\\n",
       "count    43400.000000      43400     43400  43400.000000  41938.000000   \n",
       "unique            NaN          5         2           NaN           NaN   \n",
       "top               NaN          B     Urban           NaN           NaN   \n",
       "freq              NaN      24834     21756           NaN           NaN   \n",
       "mean         0.047512        NaN       NaN    104.482750     28.605038   \n",
       "std          0.212733        NaN       NaN     43.111751      7.770020   \n",
       "min          0.000000        NaN       NaN     55.000000     10.100000   \n",
       "25%          0.000000        NaN       NaN     77.540000     23.200000   \n",
       "50%          0.000000        NaN       NaN     91.580000     27.700000   \n",
       "75%          0.000000        NaN       NaN    112.070000     32.900000   \n",
       "max          1.000000        NaN       NaN    291.050000     97.600000   \n",
       "\n",
       "            metric_3      metric_4      metric_5 smoking_status        stroke  \n",
       "count   43400.000000  43400.000000  43400.000000          30108  43400.000000  \n",
       "unique           NaN           NaN           NaN              3           NaN  \n",
       "top              NaN           NaN           NaN   never smoked           NaN  \n",
       "freq             NaN           NaN           NaN          16053           NaN  \n",
       "mean        0.293594     97.525894    104.482750            NaN      0.018041  \n",
       "std         0.455414      1.469159     43.111751            NaN      0.133103  \n",
       "min         0.000000     86.920000     55.000000            NaN      0.000000  \n",
       "25%         0.000000     96.580000     77.540000            NaN      0.000000  \n",
       "50%         0.000000     97.600000     91.580000            NaN      0.000000  \n",
       "75%         1.000000     98.700000    112.070000            NaN      0.000000  \n",
       "max         1.000000    100.000000    291.050000            NaN      1.000000  "
      ]
     },
     "execution_count": 5,
     "metadata": {},
     "output_type": "execute_result"
    }
   ],
   "source": [
    "df.describe(include = 'all')"
   ]
  },
  {
   "cell_type": "markdown",
   "metadata": {},
   "source": [
    "### How unbalanced is this data set? ie: How many total strokes were there?"
   ]
  },
  {
   "cell_type": "code",
   "execution_count": 6,
   "metadata": {},
   "outputs": [
    {
     "data": {
      "text/plain": [
       "0    42617\n",
       "1      783\n",
       "Name: stroke, dtype: int64"
      ]
     },
     "execution_count": 6,
     "metadata": {},
     "output_type": "execute_result"
    }
   ],
   "source": [
    "df['stroke'].value_counts()"
   ]
  },
  {
   "cell_type": "markdown",
   "metadata": {},
   "source": [
    "### Not a ton, I'll address the more obvious issues in the data set now, ie: age outliers and the missing values for smoking / metric_2"
   ]
  },
  {
   "cell_type": "code",
   "execution_count": 7,
   "metadata": {},
   "outputs": [
    {
     "data": {
      "image/png": "[encoded data removed]",
      "text/plain": [
       "<Figure size 432x216 with 2 Axes>"
      ]
     },
     "metadata": {
      "needs_background": "light"
     },
     "output_type": "display_data"
    }
   ],
   "source": [
    "import seaborn as sns\n",
    "\n",
    "bins = np.linspace(df.metric_2.min(), df.metric_2.max(), 10)\n",
    "g = sns.FacetGrid(df, col=\"stroke\", palette=\"Set1\", col_wrap=2)\n",
    "g.map(plt.hist, 'metric_2', bins=bins, ec=\"k\")\n",
    "\n",
    "plt.show()"
   ]
  },
  {
   "cell_type": "markdown",
   "metadata": {},
   "source": [
    "### OK metric_2 isn't crazy skewed in distribution, also it may not be a strong predictor for stroke. I'll still impute it though with knn.\n",
    "\n",
    "### Also there is something weird with age. At least one value of 1000 and at least one below 0. Will take a quick look at that distribution and maybe just exclude those values, particularly if they aren't positive values for stroke.\n",
    "\n",
    "### First looking at the age distribution, then I'll do a bit of exploratory data analysis."
   ]
  },
  {
   "cell_type": "code",
   "execution_count": 8,
   "metadata": {},
   "outputs": [
    {
     "data": {
      "image/png": "[encoded data removed]",
      "text/plain": [
       "<Figure size 432x288 with 1 Axes>"
      ]
     },
     "metadata": {
      "needs_background": "light"
     },
     "output_type": "display_data"
    }
   ],
   "source": [
    "plt.scatter('age', 'id', c= 'stroke', data = df)\n",
    "\n",
    "plt.show()"
   ]
  },
  {
   "cell_type": "markdown",
   "metadata": {},
   "source": [
    "### No crazy age distibution, scatterplot shows just a few values at the extremes. I'll just drop them from the dataset since they aren't positive stroke values. If they were, I would have changed the values to 'NA' then knn imputed the age."
   ]
  },
  {
   "cell_type": "markdown",
   "metadata": {},
   "source": [
    "### Dropping the extreme outliers for age. Making all observations have values greater than or equal to 0 and less than 150."
   ]
  },
  {
   "cell_type": "code",
   "execution_count": 9,
   "metadata": {},
   "outputs": [
    {
     "data": {
      "text/html": [
       "<div>\n",
       "<style scoped>\n",
       "    .dataframe tbody tr th:only-of-type {\n",
       "        vertical-align: middle;\n",
       "    }\n",
       "\n",
       "    .dataframe tbody tr th {\n",
       "        vertical-align: top;\n",
       "    }\n",
       "\n",
       "    .dataframe thead th {\n",
       "        text-align: right;\n",
       "    }\n",
       "</style>\n",
       "<table border=\"1\" class=\"dataframe\">\n",
       "  <thead>\n",
       "    <tr style=\"text-align: right;\">\n",
       "      <th></th>\n",
       "      <th>id</th>\n",
       "      <th>gender</th>\n",
       "      <th>age</th>\n",
       "      <th>married</th>\n",
       "      <th>hypertension</th>\n",
       "      <th>heart_disease</th>\n",
       "      <th>occupation</th>\n",
       "      <th>residence</th>\n",
       "      <th>metric_1</th>\n",
       "      <th>metric_2</th>\n",
       "      <th>metric_3</th>\n",
       "      <th>metric_4</th>\n",
       "      <th>metric_5</th>\n",
       "      <th>smoking_status</th>\n",
       "      <th>stroke</th>\n",
       "    </tr>\n",
       "  </thead>\n",
       "  <tbody>\n",
       "    <tr>\n",
       "      <th>6123</th>\n",
       "      <td>6124</td>\n",
       "      <td>Female</td>\n",
       "      <td>1000.0</td>\n",
       "      <td>Yes</td>\n",
       "      <td>1</td>\n",
       "      <td>1</td>\n",
       "      <td>B</td>\n",
       "      <td>Rural</td>\n",
       "      <td>74.38</td>\n",
       "      <td>30.0</td>\n",
       "      <td>0</td>\n",
       "      <td>99.61</td>\n",
       "      <td>74.38</td>\n",
       "      <td>formerly smoked</td>\n",
       "      <td>0</td>\n",
       "    </tr>\n",
       "    <tr>\n",
       "      <th>19352</th>\n",
       "      <td>19353</td>\n",
       "      <td>Male</td>\n",
       "      <td>-10.0</td>\n",
       "      <td>Yes</td>\n",
       "      <td>0</td>\n",
       "      <td>0</td>\n",
       "      <td>B</td>\n",
       "      <td>Rural</td>\n",
       "      <td>180.48</td>\n",
       "      <td>40.1</td>\n",
       "      <td>0</td>\n",
       "      <td>96.56</td>\n",
       "      <td>180.48</td>\n",
       "      <td>smokes</td>\n",
       "      <td>0</td>\n",
       "    </tr>\n",
       "    <tr>\n",
       "      <th>36604</th>\n",
       "      <td>36605</td>\n",
       "      <td>Female</td>\n",
       "      <td>999.0</td>\n",
       "      <td>No</td>\n",
       "      <td>0</td>\n",
       "      <td>0</td>\n",
       "      <td>A</td>\n",
       "      <td>Rural</td>\n",
       "      <td>58.24</td>\n",
       "      <td>17.6</td>\n",
       "      <td>0</td>\n",
       "      <td>97.82</td>\n",
       "      <td>58.24</td>\n",
       "      <td>NaN</td>\n",
       "      <td>0</td>\n",
       "    </tr>\n",
       "  </tbody>\n",
       "</table>\n",
       "</div>"
      ],
      "text/plain": [
       "          id  gender     age married  hypertension  heart_disease occupation  \\\n",
       "6123    6124  Female  1000.0     Yes             1              1          B   \n",
       "19352  19353    Male   -10.0     Yes             0              0          B   \n",
       "36604  36605  Female   999.0      No             0              0          A   \n",
       "\n",
       "      residence  metric_1  metric_2  metric_3  metric_4  metric_5  \\\n",
       "6123      Rural     74.38      30.0         0     99.61     74.38   \n",
       "19352     Rural    180.48      40.1         0     96.56    180.48   \n",
       "36604     Rural     58.24      17.6         0     97.82     58.24   \n",
       "\n",
       "        smoking_status  stroke  \n",
       "6123   formerly smoked       0  \n",
       "19352           smokes       0  \n",
       "36604              NaN       0  "
      ]
     },
     "execution_count": 9,
     "metadata": {},
     "output_type": "execute_result"
    }
   ],
   "source": [
    "df2 = df[(df['age'] >= 0) & (df['age'] < 150)]\n",
    "df3 = df[(df['age'] < 0) | (df['age'] >= 150)]\n",
    "df3.head()"
   ]
  },
  {
   "cell_type": "markdown",
   "metadata": {},
   "source": [
    "### Ok, none of these age outliers are positive for stroke so we'll move on without them in the dataframe"
   ]
  },
  {
   "cell_type": "code",
   "execution_count": 10,
   "metadata": {},
   "outputs": [],
   "source": [
    "df = df2"
   ]
  },
  {
   "cell_type": "markdown",
   "metadata": {},
   "source": [
    "### Quick correlation map of the numeric factors to stroke to get an exploratory feel for potentially important factors"
   ]
  },
  {
   "cell_type": "code",
   "execution_count": 11,
   "metadata": {},
   "outputs": [
    {
     "data": {
      "text/plain": [
       "<matplotlib.axes._subplots.AxesSubplot at 0x7ff858665d30>"
      ]
     },
     "execution_count": 11,
     "metadata": {},
     "output_type": "execute_result"
    },
    {
     "data": {
      "image/png": "[encoded data removed]",
      "text/plain": [
       "<Figure size 792x648 with 2 Axes>"
      ]
     },
     "metadata": {
      "needs_background": "light"
     },
     "output_type": "display_data"
    }
   ],
   "source": [
    "# Compute the correlation matrix\n",
    "corr = df.drop('id', axis = 1).corr()\n",
    "\n",
    "# Generate a mask for the upper triangle\n",
    "mask = np.zeros_like(corr, dtype=np.bool)\n",
    "mask[np.triu_indices_from(mask)] = True\n",
    "\n",
    "# Set up the matplotlib figure\n",
    "f, ax = plt.subplots(figsize=(11, 9))\n",
    "\n",
    "# Generate a custom diverging colormap\n",
    "cmap = sns.diverging_palette(220, 10, as_cmap=True)\n",
    "\n",
    "# Draw the heatmap with the mask and correct aspect ratio\n",
    "sns.heatmap(corr, mask=mask, cmap=cmap, vmax=.3, center=0,\n",
    "            square=True, linewidths=.5, cbar_kws={\"shrink\": .5})\n"
   ]
  },
  {
   "cell_type": "markdown",
   "metadata": {},
   "source": [
    "### That correlation map is kind of disappointing. Nothing super correlated to stroke. This suggests a PCA dimensionality reduction could be useful.\n",
    "\n",
    "### Looks like age, hypertension, heart_disease, metric_1, and metric_5 have some weight to predicting stroke.\n",
    "\n",
    "### We'll do quick tables of percentages for the categorical factors."
   ]
  },
  {
   "cell_type": "code",
   "execution_count": 12,
   "metadata": {},
   "outputs": [
    {
     "data": {
      "text/plain": [
       "gender  stroke\n",
       "Female  0         0.983205\n",
       "        1         0.016795\n",
       "Male    0         0.980139\n",
       "        1         0.019861\n",
       "Other   0         1.000000\n",
       "Name: stroke, dtype: float64"
      ]
     },
     "execution_count": 12,
     "metadata": {},
     "output_type": "execute_result"
    }
   ],
   "source": [
    "df.groupby(['gender'])['stroke'].value_counts(normalize=True)"
   ]
  },
  {
   "cell_type": "code",
   "execution_count": 13,
   "metadata": {},
   "outputs": [
    {
     "data": {
      "text/plain": [
       "married  stroke\n",
       "No       0         0.994826\n",
       "         1         0.005174\n",
       "Yes      0         0.974835\n",
       "         1         0.025165\n",
       "Name: stroke, dtype: float64"
      ]
     },
     "execution_count": 13,
     "metadata": {},
     "output_type": "execute_result"
    }
   ],
   "source": [
    "df.groupby(['married'])['stroke'].value_counts(normalize=True)"
   ]
  },
  {
   "cell_type": "code",
   "execution_count": 14,
   "metadata": {},
   "outputs": [
    {
     "data": {
      "text/plain": [
       "occupation  stroke\n",
       "A           0         0.999675\n",
       "            1         0.000325\n",
       "B           0         0.982241\n",
       "            1         0.017759\n",
       "C           0         1.000000\n",
       "D           0         0.963050\n",
       "            1         0.036950\n",
       "E           0         0.983640\n",
       "            1         0.016360\n",
       "Name: stroke, dtype: float64"
      ]
     },
     "execution_count": 14,
     "metadata": {},
     "output_type": "execute_result"
    }
   ],
   "source": [
    "df.groupby(['occupation'])['stroke'].value_counts(normalize=True)"
   ]
  },
  {
   "cell_type": "code",
   "execution_count": 15,
   "metadata": {},
   "outputs": [
    {
     "data": {
      "text/plain": [
       "residence  stroke\n",
       "Rural      0         0.982256\n",
       "           1         0.017744\n",
       "Urban      0         0.981660\n",
       "           1         0.018340\n",
       "Name: stroke, dtype: float64"
      ]
     },
     "execution_count": 15,
     "metadata": {},
     "output_type": "execute_result"
    }
   ],
   "source": [
    "df.groupby(['residence'])['stroke'].value_counts(normalize=True)"
   ]
  },
  {
   "cell_type": "code",
   "execution_count": 16,
   "metadata": {},
   "outputs": [
    {
     "data": {
      "text/plain": [
       "smoking_status   stroke\n",
       "formerly smoked  0         0.970502\n",
       "                 1         0.029498\n",
       "never smoked     0         0.982309\n",
       "                 1         0.017691\n",
       "smokes           0         0.979729\n",
       "                 1         0.020271\n",
       "Name: stroke, dtype: float64"
      ]
     },
     "execution_count": 16,
     "metadata": {},
     "output_type": "execute_result"
    }
   ],
   "source": [
    "df.groupby(['smoking_status'])['stroke'].value_counts(normalize=True)"
   ]
  },
  {
   "cell_type": "markdown",
   "metadata": {},
   "source": [
    "### Quick glance at the percentages suggests that smoking status, occupation, and marriage status may have strong effects on the stroke outcome.\n"
   ]
  },
  {
   "cell_type": "markdown",
   "metadata": {},
   "source": [
    "# Data Cleaning and Transformation"
   ]
  },
  {
   "cell_type": "markdown",
   "metadata": {},
   "source": [
    "## Now it is time to split the data into test / train sets. "
   ]
  },
  {
   "cell_type": "code",
   "execution_count": 17,
   "metadata": {},
   "outputs": [
    {
     "name": "stdout",
     "output_type": "stream",
     "text": [
      "Train set: (34717, 15) (34717,)\n",
      "Test set: (8680, 14) (8680,)\n"
     ]
    },
    {
     "name": "stderr",
     "output_type": "stream",
     "text": [
      "/opt/conda/envs/Python36/lib/python3.6/site-packages/ipykernel/__main__.py:6: SettingWithCopyWarning: \n",
      "A value is trying to be set on a copy of a slice from a DataFrame.\n",
      "Try using .loc[row_indexer,col_indexer] = value instead\n",
      "\n",
      "See the caveats in the documentation: http://pandas.pydata.org/pandas-docs/stable/indexing.html#indexing-view-versus-copy\n"
     ]
    }
   ],
   "source": [
    "X = df.drop(['stroke'], axis = 1)\n",
    "\n",
    "y = df['stroke']\n",
    "\n",
    "X_train, X_test, y_train, y_test = train_test_split(X, y, test_size=0.2, random_state=4)\n",
    "X_train['copy_index'] = X_train.index\n",
    "print ('Train set:', X_train.shape,  y_train.shape)\n",
    "print ('Test set:', X_test.shape,  y_test.shape)\n"
   ]
  },
  {
   "cell_type": "markdown",
   "metadata": {},
   "source": [
    "## Data imputation\n",
    "\n",
    "### First I'm going to split the dataframes into numeric and categorical factors. \n",
    "### Numeric I will impute medians, categorical I will use knn."
   ]
  },
  {
   "cell_type": "code",
   "execution_count": 18,
   "metadata": {},
   "outputs": [],
   "source": [
    "X_num = X_train.drop(['gender', 'married', 'occupation', 'residence', 'smoking_status'], \n",
    "                 axis = 1)"
   ]
  },
  {
   "cell_type": "code",
   "execution_count": 19,
   "metadata": {},
   "outputs": [],
   "source": [
    "X_cat = X_train.drop(['age', 'hypertension', 'heart_disease', 'metric_1', 'metric_2', 'metric_3', 'metric_4', 'metric_5'], \n",
    "                 axis = 1)"
   ]
  },
  {
   "cell_type": "markdown",
   "metadata": {},
   "source": [
    "### First, I'll impute the median for metric_2 to fill NA. This is a general imputer that can work on future numeric data as well by imputing the median."
   ]
  },
  {
   "cell_type": "code",
   "execution_count": 20,
   "metadata": {},
   "outputs": [],
   "source": [
    "imputer = SimpleImputer(missing_values=np.nan, strategy='median')\n",
    "\n",
    "X_num = pd.DataFrame(imputer.fit_transform(X_num), columns = X_num.columns)"
   ]
  },
  {
   "cell_type": "code",
   "execution_count": 21,
   "metadata": {},
   "outputs": [
    {
     "name": "stdout",
     "output_type": "stream",
     "text": [
      "<class 'pandas.core.frame.DataFrame'>\n",
      "RangeIndex: 34717 entries, 0 to 34716\n",
      "Data columns (total 10 columns):\n",
      "id               34717 non-null float64\n",
      "age              34717 non-null float64\n",
      "hypertension     34717 non-null float64\n",
      "heart_disease    34717 non-null float64\n",
      "metric_1         34717 non-null float64\n",
      "metric_2         34717 non-null float64\n",
      "metric_3         34717 non-null float64\n",
      "metric_4         34717 non-null float64\n",
      "metric_5         34717 non-null float64\n",
      "copy_index       34717 non-null float64\n",
      "dtypes: float64(10)\n",
      "memory usage: 2.6 MB\n"
     ]
    }
   ],
   "source": [
    "X_num.info()"
   ]
  },
  {
   "cell_type": "code",
   "execution_count": 22,
   "metadata": {},
   "outputs": [
    {
     "name": "stdout",
     "output_type": "stream",
     "text": [
      "<class 'pandas.core.frame.DataFrame'>\n",
      "Int64Index: 34717 entries, 6234 to 17531\n",
      "Data columns (total 7 columns):\n",
      "id                34717 non-null int64\n",
      "gender            34717 non-null object\n",
      "married           34717 non-null object\n",
      "occupation        34717 non-null object\n",
      "residence         34717 non-null object\n",
      "smoking_status    24092 non-null object\n",
      "copy_index        34717 non-null int64\n",
      "dtypes: int64(2), object(5)\n",
      "memory usage: 2.1+ MB\n"
     ]
    }
   ],
   "source": [
    "X_cat.info()"
   ]
  },
  {
   "cell_type": "markdown",
   "metadata": {},
   "source": [
    "### Now I will create the imputers / transformers for the categorical data.\n",
    "\n",
    "### First is the knn of the smoking_status using the numeric vars. \n",
    "\n",
    "### Start off by making a dataframe adequate for training the knn classifier."
   ]
  },
  {
   "cell_type": "code",
   "execution_count": 23,
   "metadata": {},
   "outputs": [],
   "source": [
    "X_knn_train_df = X_num.merge(X_cat[['smoking_status','id']].dropna(), on = 'id')"
   ]
  },
  {
   "cell_type": "markdown",
   "metadata": {},
   "source": [
    "### Make the dataframe that contains the smoking_statuses to be predicted."
   ]
  },
  {
   "cell_type": "code",
   "execution_count": 24,
   "metadata": {},
   "outputs": [],
   "source": [
    "X_knn_na = X_num.merge(X_cat[['id','smoking_status']][X_cat[['smoking_status']].isnull().any(axis=1)], on = 'id').set_index('copy_index') "
   ]
  },
  {
   "cell_type": "markdown",
   "metadata": {},
   "source": [
    "### Test for the best value of k in knn based on F1 score."
   ]
  },
  {
   "cell_type": "code",
   "execution_count": 36,
   "metadata": {},
   "outputs": [
    {
     "data": {
      "text/plain": [
       "array([1.        , 0.67821225, 0.67746343, 0.6291386 , 0.59757074,\n",
       "       0.58533172, 0.56823205, 0.5560808 , 0.55091008, 0.53521348,\n",
       "       0.52639469, 0.52583778, 0.51691949, 0.51127349])"
      ]
     },
     "execution_count": 36,
     "metadata": {},
     "output_type": "execute_result"
    }
   ],
   "source": [
    "Ks = 15\n",
    "mean_f1 = np.zeros((Ks-1))\n",
    "ConfustionMx = [];\n",
    "for n in range(1,Ks):\n",
    "    \n",
    "    #Train Model and Predict  \n",
    "    neigh = KNeighborsClassifier(n_neighbors = n).fit(X_knn_train_df.drop(['smoking_status','id'], axis = 1).set_index('copy_index'), X_knn_train_df['smoking_status'])\n",
    "    yhat=neigh.predict(X_knn_train_df.drop(['smoking_status', 'id'], axis = 1).set_index('copy_index'))\n",
    "    mean_f1[n-1] = f1_score(X_knn_train_df['smoking_status'], yhat, average = 'weighted')\n",
    "\n",
    "mean_f1"
   ]
  },
  {
   "cell_type": "markdown",
   "metadata": {},
   "source": [
    "### Plot the F1 scores from analyzing a variety of k in knn"
   ]
  },
  {
   "cell_type": "code",
   "execution_count": 37,
   "metadata": {},
   "outputs": [
    {
     "data": {
      "image/png": "[encoded data removed]",
      "text/plain": [
       "<Figure size 432x288 with 1 Axes>"
      ]
     },
     "metadata": {
      "needs_background": "light"
     },
     "output_type": "display_data"
    }
   ],
   "source": [
    "plt.plot(range(1,Ks),mean_f1,'g')\n",
    "plt.legend(('F1 Score '))\n",
    "plt.ylabel('F1 Score ')\n",
    "plt.xlabel('Number of Nabors (K)')\n",
    "plt.tight_layout()\n",
    "plt.show()"
   ]
  },
  {
   "cell_type": "markdown",
   "metadata": {},
   "source": [
    "### Train the knn learner"
   ]
  },
  {
   "cell_type": "code",
   "execution_count": 38,
   "metadata": {},
   "outputs": [],
   "source": [
    "n = 1\n",
    "trained_model = KNeighborsClassifier(n_neighbors = 1).fit(X_knn_train_df.drop(['smoking_status', 'id'], axis = 1).set_index('copy_index'), X_knn_train_df['smoking_status'])"
   ]
  },
  {
   "cell_type": "markdown",
   "metadata": {},
   "source": [
    "### Predict the missing values in smoking status"
   ]
  },
  {
   "cell_type": "code",
   "execution_count": 39,
   "metadata": {},
   "outputs": [
    {
     "data": {
      "text/html": [
       "<div>\n",
       "<style scoped>\n",
       "    .dataframe tbody tr th:only-of-type {\n",
       "        vertical-align: middle;\n",
       "    }\n",
       "\n",
       "    .dataframe tbody tr th {\n",
       "        vertical-align: top;\n",
       "    }\n",
       "\n",
       "    .dataframe thead th {\n",
       "        text-align: right;\n",
       "    }\n",
       "</style>\n",
       "<table border=\"1\" class=\"dataframe\">\n",
       "  <thead>\n",
       "    <tr style=\"text-align: right;\">\n",
       "      <th></th>\n",
       "      <th>id</th>\n",
       "      <th>age</th>\n",
       "      <th>hypertension</th>\n",
       "      <th>heart_disease</th>\n",
       "      <th>metric_1</th>\n",
       "      <th>metric_2</th>\n",
       "      <th>metric_3</th>\n",
       "      <th>metric_4</th>\n",
       "      <th>metric_5</th>\n",
       "      <th>smoking_status</th>\n",
       "    </tr>\n",
       "    <tr>\n",
       "      <th>copy_index</th>\n",
       "      <th></th>\n",
       "      <th></th>\n",
       "      <th></th>\n",
       "      <th></th>\n",
       "      <th></th>\n",
       "      <th></th>\n",
       "      <th></th>\n",
       "      <th></th>\n",
       "      <th></th>\n",
       "      <th></th>\n",
       "    </tr>\n",
       "  </thead>\n",
       "  <tbody>\n",
       "    <tr>\n",
       "      <th>38370.0</th>\n",
       "      <td>38371.0</td>\n",
       "      <td>16.0</td>\n",
       "      <td>0.0</td>\n",
       "      <td>0.0</td>\n",
       "      <td>89.30</td>\n",
       "      <td>35.3</td>\n",
       "      <td>1.0</td>\n",
       "      <td>98.44</td>\n",
       "      <td>89.30</td>\n",
       "      <td>never smoked</td>\n",
       "    </tr>\n",
       "    <tr>\n",
       "      <th>17307.0</th>\n",
       "      <td>17308.0</td>\n",
       "      <td>16.0</td>\n",
       "      <td>0.0</td>\n",
       "      <td>0.0</td>\n",
       "      <td>77.47</td>\n",
       "      <td>23.7</td>\n",
       "      <td>0.0</td>\n",
       "      <td>96.15</td>\n",
       "      <td>77.47</td>\n",
       "      <td>smokes</td>\n",
       "    </tr>\n",
       "    <tr>\n",
       "      <th>32424.0</th>\n",
       "      <td>32425.0</td>\n",
       "      <td>29.0</td>\n",
       "      <td>0.0</td>\n",
       "      <td>0.0</td>\n",
       "      <td>74.34</td>\n",
       "      <td>26.0</td>\n",
       "      <td>0.0</td>\n",
       "      <td>96.01</td>\n",
       "      <td>74.34</td>\n",
       "      <td>never smoked</td>\n",
       "    </tr>\n",
       "    <tr>\n",
       "      <th>24290.0</th>\n",
       "      <td>24291.0</td>\n",
       "      <td>29.0</td>\n",
       "      <td>0.0</td>\n",
       "      <td>0.0</td>\n",
       "      <td>109.22</td>\n",
       "      <td>26.5</td>\n",
       "      <td>0.0</td>\n",
       "      <td>96.54</td>\n",
       "      <td>109.22</td>\n",
       "      <td>formerly smoked</td>\n",
       "    </tr>\n",
       "    <tr>\n",
       "      <th>23620.0</th>\n",
       "      <td>23621.0</td>\n",
       "      <td>15.0</td>\n",
       "      <td>0.0</td>\n",
       "      <td>0.0</td>\n",
       "      <td>78.96</td>\n",
       "      <td>19.9</td>\n",
       "      <td>0.0</td>\n",
       "      <td>97.67</td>\n",
       "      <td>78.96</td>\n",
       "      <td>never smoked</td>\n",
       "    </tr>\n",
       "  </tbody>\n",
       "</table>\n",
       "</div>"
      ],
      "text/plain": [
       "                 id   age  hypertension  heart_disease  metric_1  metric_2  \\\n",
       "copy_index                                                                   \n",
       "38370.0     38371.0  16.0           0.0            0.0     89.30      35.3   \n",
       "17307.0     17308.0  16.0           0.0            0.0     77.47      23.7   \n",
       "32424.0     32425.0  29.0           0.0            0.0     74.34      26.0   \n",
       "24290.0     24291.0  29.0           0.0            0.0    109.22      26.5   \n",
       "23620.0     23621.0  15.0           0.0            0.0     78.96      19.9   \n",
       "\n",
       "            metric_3  metric_4  metric_5   smoking_status  \n",
       "copy_index                                                 \n",
       "38370.0          1.0     98.44     89.30     never smoked  \n",
       "17307.0          0.0     96.15     77.47           smokes  \n",
       "32424.0          0.0     96.01     74.34     never smoked  \n",
       "24290.0          0.0     96.54    109.22  formerly smoked  \n",
       "23620.0          0.0     97.67     78.96     never smoked  "
      ]
     },
     "execution_count": 39,
     "metadata": {},
     "output_type": "execute_result"
    }
   ],
   "source": [
    "imputed_values = trained_model.predict(X_knn_na.drop(['smoking_status', 'id'], axis = 1))\n",
    "\n",
    "X_knn_na['smoking_status'] = imputed_values\n",
    "\n",
    "X_knn_na.head()"
   ]
  },
  {
   "cell_type": "markdown",
   "metadata": {},
   "source": [
    "### Merge together the original categorical dataframe with the imputed dataframe"
   ]
  },
  {
   "cell_type": "code",
   "execution_count": 40,
   "metadata": {},
   "outputs": [
    {
     "data": {
      "text/html": [
       "<div>\n",
       "<style scoped>\n",
       "    .dataframe tbody tr th:only-of-type {\n",
       "        vertical-align: middle;\n",
       "    }\n",
       "\n",
       "    .dataframe tbody tr th {\n",
       "        vertical-align: top;\n",
       "    }\n",
       "\n",
       "    .dataframe thead th {\n",
       "        text-align: right;\n",
       "    }\n",
       "</style>\n",
       "<table border=\"1\" class=\"dataframe\">\n",
       "  <thead>\n",
       "    <tr style=\"text-align: right;\">\n",
       "      <th></th>\n",
       "      <th>id</th>\n",
       "      <th>gender</th>\n",
       "      <th>married</th>\n",
       "      <th>occupation</th>\n",
       "      <th>residence</th>\n",
       "      <th>smoking_status_x</th>\n",
       "      <th>age</th>\n",
       "      <th>hypertension</th>\n",
       "      <th>heart_disease</th>\n",
       "      <th>metric_1</th>\n",
       "      <th>metric_2</th>\n",
       "      <th>metric_3</th>\n",
       "      <th>metric_4</th>\n",
       "      <th>metric_5</th>\n",
       "      <th>smoking_status_y</th>\n",
       "    </tr>\n",
       "    <tr>\n",
       "      <th>copy_index</th>\n",
       "      <th></th>\n",
       "      <th></th>\n",
       "      <th></th>\n",
       "      <th></th>\n",
       "      <th></th>\n",
       "      <th></th>\n",
       "      <th></th>\n",
       "      <th></th>\n",
       "      <th></th>\n",
       "      <th></th>\n",
       "      <th></th>\n",
       "      <th></th>\n",
       "      <th></th>\n",
       "      <th></th>\n",
       "      <th></th>\n",
       "    </tr>\n",
       "  </thead>\n",
       "  <tbody>\n",
       "    <tr>\n",
       "      <th>6234</th>\n",
       "      <td>6235</td>\n",
       "      <td>Female</td>\n",
       "      <td>Yes</td>\n",
       "      <td>B</td>\n",
       "      <td>Rural</td>\n",
       "      <td>never smoked</td>\n",
       "      <td>NaN</td>\n",
       "      <td>NaN</td>\n",
       "      <td>NaN</td>\n",
       "      <td>NaN</td>\n",
       "      <td>NaN</td>\n",
       "      <td>NaN</td>\n",
       "      <td>NaN</td>\n",
       "      <td>NaN</td>\n",
       "      <td>NaN</td>\n",
       "    </tr>\n",
       "    <tr>\n",
       "      <th>6947</th>\n",
       "      <td>6948</td>\n",
       "      <td>Female</td>\n",
       "      <td>Yes</td>\n",
       "      <td>B</td>\n",
       "      <td>Rural</td>\n",
       "      <td>never smoked</td>\n",
       "      <td>NaN</td>\n",
       "      <td>NaN</td>\n",
       "      <td>NaN</td>\n",
       "      <td>NaN</td>\n",
       "      <td>NaN</td>\n",
       "      <td>NaN</td>\n",
       "      <td>NaN</td>\n",
       "      <td>NaN</td>\n",
       "      <td>NaN</td>\n",
       "    </tr>\n",
       "    <tr>\n",
       "      <th>17708</th>\n",
       "      <td>17709</td>\n",
       "      <td>Female</td>\n",
       "      <td>Yes</td>\n",
       "      <td>B</td>\n",
       "      <td>Urban</td>\n",
       "      <td>smokes</td>\n",
       "      <td>NaN</td>\n",
       "      <td>NaN</td>\n",
       "      <td>NaN</td>\n",
       "      <td>NaN</td>\n",
       "      <td>NaN</td>\n",
       "      <td>NaN</td>\n",
       "      <td>NaN</td>\n",
       "      <td>NaN</td>\n",
       "      <td>NaN</td>\n",
       "    </tr>\n",
       "    <tr>\n",
       "      <th>39122</th>\n",
       "      <td>39123</td>\n",
       "      <td>Female</td>\n",
       "      <td>Yes</td>\n",
       "      <td>B</td>\n",
       "      <td>Urban</td>\n",
       "      <td>formerly smoked</td>\n",
       "      <td>NaN</td>\n",
       "      <td>NaN</td>\n",
       "      <td>NaN</td>\n",
       "      <td>NaN</td>\n",
       "      <td>NaN</td>\n",
       "      <td>NaN</td>\n",
       "      <td>NaN</td>\n",
       "      <td>NaN</td>\n",
       "      <td>NaN</td>\n",
       "    </tr>\n",
       "    <tr>\n",
       "      <th>38370</th>\n",
       "      <td>38371</td>\n",
       "      <td>Female</td>\n",
       "      <td>No</td>\n",
       "      <td>B</td>\n",
       "      <td>Urban</td>\n",
       "      <td>NaN</td>\n",
       "      <td>16.0</td>\n",
       "      <td>0.0</td>\n",
       "      <td>0.0</td>\n",
       "      <td>89.3</td>\n",
       "      <td>35.3</td>\n",
       "      <td>1.0</td>\n",
       "      <td>98.44</td>\n",
       "      <td>89.3</td>\n",
       "      <td>never smoked</td>\n",
       "    </tr>\n",
       "  </tbody>\n",
       "</table>\n",
       "</div>"
      ],
      "text/plain": [
       "               id  gender married occupation residence smoking_status_x   age  \\\n",
       "copy_index                                                                      \n",
       "6234         6235  Female     Yes          B     Rural     never smoked   NaN   \n",
       "6947         6948  Female     Yes          B     Rural     never smoked   NaN   \n",
       "17708       17709  Female     Yes          B     Urban           smokes   NaN   \n",
       "39122       39123  Female     Yes          B     Urban  formerly smoked   NaN   \n",
       "38370       38371  Female      No          B     Urban              NaN  16.0   \n",
       "\n",
       "            hypertension  heart_disease  metric_1  metric_2  metric_3  \\\n",
       "copy_index                                                              \n",
       "6234                 NaN            NaN       NaN       NaN       NaN   \n",
       "6947                 NaN            NaN       NaN       NaN       NaN   \n",
       "17708                NaN            NaN       NaN       NaN       NaN   \n",
       "39122                NaN            NaN       NaN       NaN       NaN   \n",
       "38370                0.0            0.0      89.3      35.3       1.0   \n",
       "\n",
       "            metric_4  metric_5 smoking_status_y  \n",
       "copy_index                                       \n",
       "6234             NaN       NaN              NaN  \n",
       "6947             NaN       NaN              NaN  \n",
       "17708            NaN       NaN              NaN  \n",
       "39122            NaN       NaN              NaN  \n",
       "38370          98.44      89.3     never smoked  "
      ]
     },
     "execution_count": 40,
     "metadata": {},
     "output_type": "execute_result"
    }
   ],
   "source": [
    "X_cat_imputed = X_cat.merge(X_knn_na, on = 'id', how = 'left').set_index('copy_index') \n",
    "\n",
    "X_cat_imputed.head()"
   ]
  },
  {
   "cell_type": "markdown",
   "metadata": {},
   "source": [
    "### Drop out the numeric variables out of the imputed categorical dataframe."
   ]
  },
  {
   "cell_type": "code",
   "execution_count": 41,
   "metadata": {},
   "outputs": [
    {
     "data": {
      "text/html": [
       "<div>\n",
       "<style scoped>\n",
       "    .dataframe tbody tr th:only-of-type {\n",
       "        vertical-align: middle;\n",
       "    }\n",
       "\n",
       "    .dataframe tbody tr th {\n",
       "        vertical-align: top;\n",
       "    }\n",
       "\n",
       "    .dataframe thead th {\n",
       "        text-align: right;\n",
       "    }\n",
       "</style>\n",
       "<table border=\"1\" class=\"dataframe\">\n",
       "  <thead>\n",
       "    <tr style=\"text-align: right;\">\n",
       "      <th></th>\n",
       "      <th>id</th>\n",
       "      <th>gender</th>\n",
       "      <th>married</th>\n",
       "      <th>occupation</th>\n",
       "      <th>residence</th>\n",
       "      <th>smoking_status_x</th>\n",
       "      <th>smoking_status_y</th>\n",
       "    </tr>\n",
       "    <tr>\n",
       "      <th>copy_index</th>\n",
       "      <th></th>\n",
       "      <th></th>\n",
       "      <th></th>\n",
       "      <th></th>\n",
       "      <th></th>\n",
       "      <th></th>\n",
       "      <th></th>\n",
       "    </tr>\n",
       "  </thead>\n",
       "  <tbody>\n",
       "    <tr>\n",
       "      <th>6234</th>\n",
       "      <td>6235</td>\n",
       "      <td>Female</td>\n",
       "      <td>Yes</td>\n",
       "      <td>B</td>\n",
       "      <td>Rural</td>\n",
       "      <td>never smoked</td>\n",
       "      <td>NaN</td>\n",
       "    </tr>\n",
       "    <tr>\n",
       "      <th>6947</th>\n",
       "      <td>6948</td>\n",
       "      <td>Female</td>\n",
       "      <td>Yes</td>\n",
       "      <td>B</td>\n",
       "      <td>Rural</td>\n",
       "      <td>never smoked</td>\n",
       "      <td>NaN</td>\n",
       "    </tr>\n",
       "    <tr>\n",
       "      <th>17708</th>\n",
       "      <td>17709</td>\n",
       "      <td>Female</td>\n",
       "      <td>Yes</td>\n",
       "      <td>B</td>\n",
       "      <td>Urban</td>\n",
       "      <td>smokes</td>\n",
       "      <td>NaN</td>\n",
       "    </tr>\n",
       "    <tr>\n",
       "      <th>39122</th>\n",
       "      <td>39123</td>\n",
       "      <td>Female</td>\n",
       "      <td>Yes</td>\n",
       "      <td>B</td>\n",
       "      <td>Urban</td>\n",
       "      <td>formerly smoked</td>\n",
       "      <td>NaN</td>\n",
       "    </tr>\n",
       "    <tr>\n",
       "      <th>38370</th>\n",
       "      <td>38371</td>\n",
       "      <td>Female</td>\n",
       "      <td>No</td>\n",
       "      <td>B</td>\n",
       "      <td>Urban</td>\n",
       "      <td>NaN</td>\n",
       "      <td>never smoked</td>\n",
       "    </tr>\n",
       "  </tbody>\n",
       "</table>\n",
       "</div>"
      ],
      "text/plain": [
       "               id  gender married occupation residence smoking_status_x  \\\n",
       "copy_index                                                                \n",
       "6234         6235  Female     Yes          B     Rural     never smoked   \n",
       "6947         6948  Female     Yes          B     Rural     never smoked   \n",
       "17708       17709  Female     Yes          B     Urban           smokes   \n",
       "39122       39123  Female     Yes          B     Urban  formerly smoked   \n",
       "38370       38371  Female      No          B     Urban              NaN   \n",
       "\n",
       "           smoking_status_y  \n",
       "copy_index                   \n",
       "6234                    NaN  \n",
       "6947                    NaN  \n",
       "17708                   NaN  \n",
       "39122                   NaN  \n",
       "38370          never smoked  "
      ]
     },
     "execution_count": 41,
     "metadata": {},
     "output_type": "execute_result"
    }
   ],
   "source": [
    "X_cat_imputed = X_cat_imputed.drop(['age', 'hypertension', 'heart_disease', 'metric_1', 'metric_2', 'metric_3', 'metric_4', 'metric_5'], axis = 1)\n",
    "\n",
    "X_cat_imputed.head()"
   ]
  },
  {
   "cell_type": "markdown",
   "metadata": {},
   "source": [
    "### Now I unify the two different smoking status factors into one creating all complete cases in the dataframe"
   ]
  },
  {
   "cell_type": "code",
   "execution_count": 42,
   "metadata": {},
   "outputs": [],
   "source": [
    "X_cat_imputed = X_cat_imputed.fillna('')\n",
    "X_cat_imputed['smoking_status'] = X_cat_imputed['smoking_status_x'] + X_cat_imputed['smoking_status_y']\n",
    "X_cat_imputed = X_cat_imputed.drop(['smoking_status_x', 'smoking_status_y'], axis = 1)"
   ]
  },
  {
   "cell_type": "code",
   "execution_count": 43,
   "metadata": {},
   "outputs": [
    {
     "data": {
      "text/html": [
       "<div>\n",
       "<style scoped>\n",
       "    .dataframe tbody tr th:only-of-type {\n",
       "        vertical-align: middle;\n",
       "    }\n",
       "\n",
       "    .dataframe tbody tr th {\n",
       "        vertical-align: top;\n",
       "    }\n",
       "\n",
       "    .dataframe thead th {\n",
       "        text-align: right;\n",
       "    }\n",
       "</style>\n",
       "<table border=\"1\" class=\"dataframe\">\n",
       "  <thead>\n",
       "    <tr style=\"text-align: right;\">\n",
       "      <th></th>\n",
       "      <th>id</th>\n",
       "      <th>gender</th>\n",
       "      <th>married</th>\n",
       "      <th>occupation</th>\n",
       "      <th>residence</th>\n",
       "      <th>smoking_status</th>\n",
       "    </tr>\n",
       "    <tr>\n",
       "      <th>copy_index</th>\n",
       "      <th></th>\n",
       "      <th></th>\n",
       "      <th></th>\n",
       "      <th></th>\n",
       "      <th></th>\n",
       "      <th></th>\n",
       "    </tr>\n",
       "  </thead>\n",
       "  <tbody>\n",
       "    <tr>\n",
       "      <th>6234</th>\n",
       "      <td>6235</td>\n",
       "      <td>Female</td>\n",
       "      <td>Yes</td>\n",
       "      <td>B</td>\n",
       "      <td>Rural</td>\n",
       "      <td>never smoked</td>\n",
       "    </tr>\n",
       "    <tr>\n",
       "      <th>6947</th>\n",
       "      <td>6948</td>\n",
       "      <td>Female</td>\n",
       "      <td>Yes</td>\n",
       "      <td>B</td>\n",
       "      <td>Rural</td>\n",
       "      <td>never smoked</td>\n",
       "    </tr>\n",
       "    <tr>\n",
       "      <th>17708</th>\n",
       "      <td>17709</td>\n",
       "      <td>Female</td>\n",
       "      <td>Yes</td>\n",
       "      <td>B</td>\n",
       "      <td>Urban</td>\n",
       "      <td>smokes</td>\n",
       "    </tr>\n",
       "    <tr>\n",
       "      <th>39122</th>\n",
       "      <td>39123</td>\n",
       "      <td>Female</td>\n",
       "      <td>Yes</td>\n",
       "      <td>B</td>\n",
       "      <td>Urban</td>\n",
       "      <td>formerly smoked</td>\n",
       "    </tr>\n",
       "    <tr>\n",
       "      <th>38370</th>\n",
       "      <td>38371</td>\n",
       "      <td>Female</td>\n",
       "      <td>No</td>\n",
       "      <td>B</td>\n",
       "      <td>Urban</td>\n",
       "      <td>never smoked</td>\n",
       "    </tr>\n",
       "  </tbody>\n",
       "</table>\n",
       "</div>"
      ],
      "text/plain": [
       "               id  gender married occupation residence   smoking_status\n",
       "copy_index                                                             \n",
       "6234         6235  Female     Yes          B     Rural     never smoked\n",
       "6947         6948  Female     Yes          B     Rural     never smoked\n",
       "17708       17709  Female     Yes          B     Urban           smokes\n",
       "39122       39123  Female     Yes          B     Urban  formerly smoked\n",
       "38370       38371  Female      No          B     Urban     never smoked"
      ]
     },
     "execution_count": 43,
     "metadata": {},
     "output_type": "execute_result"
    }
   ],
   "source": [
    "X_cat = X_cat_imputed\n",
    "X_cat.head()"
   ]
  },
  {
   "cell_type": "markdown",
   "metadata": {},
   "source": [
    "### Next, I one-hot encode the categorical factors. This is useful for many different learning models that don't handle categorical values well."
   ]
  },
  {
   "cell_type": "code",
   "execution_count": 44,
   "metadata": {},
   "outputs": [],
   "source": [
    "X_cat_one_hot = pd.concat([X_cat['id'],pd.get_dummies(X_cat.drop(['id'], axis = 1))], axis=1)"
   ]
  },
  {
   "cell_type": "code",
   "execution_count": 45,
   "metadata": {},
   "outputs": [
    {
     "data": {
      "text/html": [
       "<div>\n",
       "<style scoped>\n",
       "    .dataframe tbody tr th:only-of-type {\n",
       "        vertical-align: middle;\n",
       "    }\n",
       "\n",
       "    .dataframe tbody tr th {\n",
       "        vertical-align: top;\n",
       "    }\n",
       "\n",
       "    .dataframe thead th {\n",
       "        text-align: right;\n",
       "    }\n",
       "</style>\n",
       "<table border=\"1\" class=\"dataframe\">\n",
       "  <thead>\n",
       "    <tr style=\"text-align: right;\">\n",
       "      <th></th>\n",
       "      <th>id</th>\n",
       "      <th>gender_Female</th>\n",
       "      <th>gender_Male</th>\n",
       "      <th>gender_Other</th>\n",
       "      <th>married_No</th>\n",
       "      <th>married_Yes</th>\n",
       "      <th>occupation_A</th>\n",
       "      <th>occupation_B</th>\n",
       "      <th>occupation_C</th>\n",
       "      <th>occupation_D</th>\n",
       "      <th>occupation_E</th>\n",
       "      <th>residence_Rural</th>\n",
       "      <th>residence_Urban</th>\n",
       "      <th>smoking_status_formerly smoked</th>\n",
       "      <th>smoking_status_never smoked</th>\n",
       "      <th>smoking_status_smokes</th>\n",
       "    </tr>\n",
       "    <tr>\n",
       "      <th>copy_index</th>\n",
       "      <th></th>\n",
       "      <th></th>\n",
       "      <th></th>\n",
       "      <th></th>\n",
       "      <th></th>\n",
       "      <th></th>\n",
       "      <th></th>\n",
       "      <th></th>\n",
       "      <th></th>\n",
       "      <th></th>\n",
       "      <th></th>\n",
       "      <th></th>\n",
       "      <th></th>\n",
       "      <th></th>\n",
       "      <th></th>\n",
       "      <th></th>\n",
       "    </tr>\n",
       "  </thead>\n",
       "  <tbody>\n",
       "    <tr>\n",
       "      <th>6234</th>\n",
       "      <td>6235</td>\n",
       "      <td>1</td>\n",
       "      <td>0</td>\n",
       "      <td>0</td>\n",
       "      <td>0</td>\n",
       "      <td>1</td>\n",
       "      <td>0</td>\n",
       "      <td>1</td>\n",
       "      <td>0</td>\n",
       "      <td>0</td>\n",
       "      <td>0</td>\n",
       "      <td>1</td>\n",
       "      <td>0</td>\n",
       "      <td>0</td>\n",
       "      <td>1</td>\n",
       "      <td>0</td>\n",
       "    </tr>\n",
       "    <tr>\n",
       "      <th>6947</th>\n",
       "      <td>6948</td>\n",
       "      <td>1</td>\n",
       "      <td>0</td>\n",
       "      <td>0</td>\n",
       "      <td>0</td>\n",
       "      <td>1</td>\n",
       "      <td>0</td>\n",
       "      <td>1</td>\n",
       "      <td>0</td>\n",
       "      <td>0</td>\n",
       "      <td>0</td>\n",
       "      <td>1</td>\n",
       "      <td>0</td>\n",
       "      <td>0</td>\n",
       "      <td>1</td>\n",
       "      <td>0</td>\n",
       "    </tr>\n",
       "    <tr>\n",
       "      <th>17708</th>\n",
       "      <td>17709</td>\n",
       "      <td>1</td>\n",
       "      <td>0</td>\n",
       "      <td>0</td>\n",
       "      <td>0</td>\n",
       "      <td>1</td>\n",
       "      <td>0</td>\n",
       "      <td>1</td>\n",
       "      <td>0</td>\n",
       "      <td>0</td>\n",
       "      <td>0</td>\n",
       "      <td>0</td>\n",
       "      <td>1</td>\n",
       "      <td>0</td>\n",
       "      <td>0</td>\n",
       "      <td>1</td>\n",
       "    </tr>\n",
       "    <tr>\n",
       "      <th>39122</th>\n",
       "      <td>39123</td>\n",
       "      <td>1</td>\n",
       "      <td>0</td>\n",
       "      <td>0</td>\n",
       "      <td>0</td>\n",
       "      <td>1</td>\n",
       "      <td>0</td>\n",
       "      <td>1</td>\n",
       "      <td>0</td>\n",
       "      <td>0</td>\n",
       "      <td>0</td>\n",
       "      <td>0</td>\n",
       "      <td>1</td>\n",
       "      <td>1</td>\n",
       "      <td>0</td>\n",
       "      <td>0</td>\n",
       "    </tr>\n",
       "    <tr>\n",
       "      <th>38370</th>\n",
       "      <td>38371</td>\n",
       "      <td>1</td>\n",
       "      <td>0</td>\n",
       "      <td>0</td>\n",
       "      <td>1</td>\n",
       "      <td>0</td>\n",
       "      <td>0</td>\n",
       "      <td>1</td>\n",
       "      <td>0</td>\n",
       "      <td>0</td>\n",
       "      <td>0</td>\n",
       "      <td>0</td>\n",
       "      <td>1</td>\n",
       "      <td>0</td>\n",
       "      <td>1</td>\n",
       "      <td>0</td>\n",
       "    </tr>\n",
       "  </tbody>\n",
       "</table>\n",
       "</div>"
      ],
      "text/plain": [
       "               id  gender_Female  gender_Male  gender_Other  married_No  \\\n",
       "copy_index                                                                \n",
       "6234         6235              1            0             0           0   \n",
       "6947         6948              1            0             0           0   \n",
       "17708       17709              1            0             0           0   \n",
       "39122       39123              1            0             0           0   \n",
       "38370       38371              1            0             0           1   \n",
       "\n",
       "            married_Yes  occupation_A  occupation_B  occupation_C  \\\n",
       "copy_index                                                          \n",
       "6234                  1             0             1             0   \n",
       "6947                  1             0             1             0   \n",
       "17708                 1             0             1             0   \n",
       "39122                 1             0             1             0   \n",
       "38370                 0             0             1             0   \n",
       "\n",
       "            occupation_D  occupation_E  residence_Rural  residence_Urban  \\\n",
       "copy_index                                                                 \n",
       "6234                   0             0                1                0   \n",
       "6947                   0             0                1                0   \n",
       "17708                  0             0                0                1   \n",
       "39122                  0             0                0                1   \n",
       "38370                  0             0                0                1   \n",
       "\n",
       "            smoking_status_formerly smoked  smoking_status_never smoked  \\\n",
       "copy_index                                                                \n",
       "6234                                     0                            1   \n",
       "6947                                     0                            1   \n",
       "17708                                    0                            0   \n",
       "39122                                    1                            0   \n",
       "38370                                    0                            1   \n",
       "\n",
       "            smoking_status_smokes  \n",
       "copy_index                         \n",
       "6234                            0  \n",
       "6947                            0  \n",
       "17708                           1  \n",
       "39122                           0  \n",
       "38370                           0  "
      ]
     },
     "execution_count": 45,
     "metadata": {},
     "output_type": "execute_result"
    }
   ],
   "source": [
    "X_cat_one_hot.head()"
   ]
  },
  {
   "cell_type": "markdown",
   "metadata": {},
   "source": [
    "### And now making the unified dataframe in one-hot context."
   ]
  },
  {
   "cell_type": "code",
   "execution_count": 46,
   "metadata": {},
   "outputs": [
    {
     "data": {
      "text/html": [
       "<div>\n",
       "<style scoped>\n",
       "    .dataframe tbody tr th:only-of-type {\n",
       "        vertical-align: middle;\n",
       "    }\n",
       "\n",
       "    .dataframe tbody tr th {\n",
       "        vertical-align: top;\n",
       "    }\n",
       "\n",
       "    .dataframe thead th {\n",
       "        text-align: right;\n",
       "    }\n",
       "</style>\n",
       "<table border=\"1\" class=\"dataframe\">\n",
       "  <thead>\n",
       "    <tr style=\"text-align: right;\">\n",
       "      <th></th>\n",
       "      <th>id</th>\n",
       "      <th>gender_Female</th>\n",
       "      <th>gender_Male</th>\n",
       "      <th>gender_Other</th>\n",
       "      <th>married_No</th>\n",
       "      <th>married_Yes</th>\n",
       "      <th>occupation_A</th>\n",
       "      <th>occupation_B</th>\n",
       "      <th>occupation_C</th>\n",
       "      <th>occupation_D</th>\n",
       "      <th>...</th>\n",
       "      <th>smoking_status_never smoked</th>\n",
       "      <th>smoking_status_smokes</th>\n",
       "      <th>age</th>\n",
       "      <th>hypertension</th>\n",
       "      <th>heart_disease</th>\n",
       "      <th>metric_1</th>\n",
       "      <th>metric_2</th>\n",
       "      <th>metric_3</th>\n",
       "      <th>metric_4</th>\n",
       "      <th>metric_5</th>\n",
       "    </tr>\n",
       "  </thead>\n",
       "  <tbody>\n",
       "    <tr>\n",
       "      <th>0</th>\n",
       "      <td>6235</td>\n",
       "      <td>1</td>\n",
       "      <td>0</td>\n",
       "      <td>0</td>\n",
       "      <td>0</td>\n",
       "      <td>1</td>\n",
       "      <td>0</td>\n",
       "      <td>1</td>\n",
       "      <td>0</td>\n",
       "      <td>0</td>\n",
       "      <td>...</td>\n",
       "      <td>1</td>\n",
       "      <td>0</td>\n",
       "      <td>54.0</td>\n",
       "      <td>1.0</td>\n",
       "      <td>0.0</td>\n",
       "      <td>68.08</td>\n",
       "      <td>33.0</td>\n",
       "      <td>0.0</td>\n",
       "      <td>97.78</td>\n",
       "      <td>68.08</td>\n",
       "    </tr>\n",
       "    <tr>\n",
       "      <th>1</th>\n",
       "      <td>6948</td>\n",
       "      <td>1</td>\n",
       "      <td>0</td>\n",
       "      <td>0</td>\n",
       "      <td>0</td>\n",
       "      <td>1</td>\n",
       "      <td>0</td>\n",
       "      <td>1</td>\n",
       "      <td>0</td>\n",
       "      <td>0</td>\n",
       "      <td>...</td>\n",
       "      <td>1</td>\n",
       "      <td>0</td>\n",
       "      <td>46.0</td>\n",
       "      <td>0.0</td>\n",
       "      <td>0.0</td>\n",
       "      <td>75.68</td>\n",
       "      <td>27.8</td>\n",
       "      <td>1.0</td>\n",
       "      <td>98.54</td>\n",
       "      <td>75.68</td>\n",
       "    </tr>\n",
       "    <tr>\n",
       "      <th>2</th>\n",
       "      <td>17709</td>\n",
       "      <td>1</td>\n",
       "      <td>0</td>\n",
       "      <td>0</td>\n",
       "      <td>0</td>\n",
       "      <td>1</td>\n",
       "      <td>0</td>\n",
       "      <td>1</td>\n",
       "      <td>0</td>\n",
       "      <td>0</td>\n",
       "      <td>...</td>\n",
       "      <td>0</td>\n",
       "      <td>1</td>\n",
       "      <td>35.0</td>\n",
       "      <td>0.0</td>\n",
       "      <td>0.0</td>\n",
       "      <td>61.57</td>\n",
       "      <td>31.8</td>\n",
       "      <td>0.0</td>\n",
       "      <td>99.33</td>\n",
       "      <td>61.57</td>\n",
       "    </tr>\n",
       "    <tr>\n",
       "      <th>3</th>\n",
       "      <td>39123</td>\n",
       "      <td>1</td>\n",
       "      <td>0</td>\n",
       "      <td>0</td>\n",
       "      <td>0</td>\n",
       "      <td>1</td>\n",
       "      <td>0</td>\n",
       "      <td>1</td>\n",
       "      <td>0</td>\n",
       "      <td>0</td>\n",
       "      <td>...</td>\n",
       "      <td>0</td>\n",
       "      <td>0</td>\n",
       "      <td>47.0</td>\n",
       "      <td>0.0</td>\n",
       "      <td>0.0</td>\n",
       "      <td>60.65</td>\n",
       "      <td>25.2</td>\n",
       "      <td>1.0</td>\n",
       "      <td>98.88</td>\n",
       "      <td>60.65</td>\n",
       "    </tr>\n",
       "    <tr>\n",
       "      <th>4</th>\n",
       "      <td>38371</td>\n",
       "      <td>1</td>\n",
       "      <td>0</td>\n",
       "      <td>0</td>\n",
       "      <td>1</td>\n",
       "      <td>0</td>\n",
       "      <td>0</td>\n",
       "      <td>1</td>\n",
       "      <td>0</td>\n",
       "      <td>0</td>\n",
       "      <td>...</td>\n",
       "      <td>1</td>\n",
       "      <td>0</td>\n",
       "      <td>16.0</td>\n",
       "      <td>0.0</td>\n",
       "      <td>0.0</td>\n",
       "      <td>89.30</td>\n",
       "      <td>35.3</td>\n",
       "      <td>1.0</td>\n",
       "      <td>98.44</td>\n",
       "      <td>89.30</td>\n",
       "    </tr>\n",
       "  </tbody>\n",
       "</table>\n",
       "<p>5 rows × 24 columns</p>\n",
       "</div>"
      ],
      "text/plain": [
       "      id  gender_Female  gender_Male  gender_Other  married_No  married_Yes  \\\n",
       "0   6235              1            0             0           0            1   \n",
       "1   6948              1            0             0           0            1   \n",
       "2  17709              1            0             0           0            1   \n",
       "3  39123              1            0             0           0            1   \n",
       "4  38371              1            0             0           1            0   \n",
       "\n",
       "   occupation_A  occupation_B  occupation_C  occupation_D  ...  \\\n",
       "0             0             1             0             0  ...   \n",
       "1             0             1             0             0  ...   \n",
       "2             0             1             0             0  ...   \n",
       "3             0             1             0             0  ...   \n",
       "4             0             1             0             0  ...   \n",
       "\n",
       "   smoking_status_never smoked  smoking_status_smokes   age  hypertension  \\\n",
       "0                            1                      0  54.0           1.0   \n",
       "1                            1                      0  46.0           0.0   \n",
       "2                            0                      1  35.0           0.0   \n",
       "3                            0                      0  47.0           0.0   \n",
       "4                            1                      0  16.0           0.0   \n",
       "\n",
       "   heart_disease  metric_1  metric_2  metric_3  metric_4  metric_5  \n",
       "0            0.0     68.08      33.0       0.0     97.78     68.08  \n",
       "1            0.0     75.68      27.8       1.0     98.54     75.68  \n",
       "2            0.0     61.57      31.8       0.0     99.33     61.57  \n",
       "3            0.0     60.65      25.2       1.0     98.88     60.65  \n",
       "4            0.0     89.30      35.3       1.0     98.44     89.30  \n",
       "\n",
       "[5 rows x 24 columns]"
      ]
     },
     "execution_count": 46,
     "metadata": {},
     "output_type": "execute_result"
    }
   ],
   "source": [
    "X_train_one_hot = X_cat_one_hot.merge(X_num, on = 'id').drop(['copy_index'], axis = 1)\n",
    "X_train_one_hot.head()"
   ]
  },
  {
   "cell_type": "code",
   "execution_count": 47,
   "metadata": {},
   "outputs": [],
   "source": [
    "X_train_one_hot = X_train_one_hot.drop(['id'], axis = 1)"
   ]
  },
  {
   "cell_type": "markdown",
   "metadata": {},
   "source": [
    "### Now I standardize the values for better computational and model performance."
   ]
  },
  {
   "cell_type": "code",
   "execution_count": 48,
   "metadata": {},
   "outputs": [
    {
     "name": "stderr",
     "output_type": "stream",
     "text": [
      "/opt/conda/envs/Python36/lib/python3.6/site-packages/sklearn/preprocessing/data.py:645: DataConversionWarning: Data with input dtype uint8, float64 were all converted to float64 by StandardScaler.\n",
      "  return self.partial_fit(X, y)\n",
      "/opt/conda/envs/Python36/lib/python3.6/site-packages/ipykernel/__main__.py:1: DataConversionWarning: Data with input dtype uint8, float64 were all converted to float64 by StandardScaler.\n",
      "  if __name__ == '__main__':\n"
     ]
    },
    {
     "data": {
      "text/plain": [
       "array([[ 0.83054372, -0.83009816, -0.01610299, -0.7422295 ,  0.7422295 ,\n",
       "        -0.40567244,  0.86660032, -0.06543159, -0.43068254, -0.38116165,\n",
       "         1.00175861, -1.00175861, -0.55142708,  0.85872794, -0.48630495,\n",
       "         0.52207805,  3.10739825, -0.22323797, -0.84526573,  0.57937237,\n",
       "        -0.64689089,  0.16931153, -0.84526573],\n",
       "       [ 0.83054372, -0.83009816, -0.01610299, -0.7422295 ,  0.7422295 ,\n",
       "        -0.40567244,  0.86660032, -0.06543159, -0.43068254, -0.38116165,\n",
       "         1.00175861, -1.00175861, -0.55142708,  0.85872794, -0.48630495,\n",
       "         0.16695071, -0.32181263, -0.22323797, -0.66943646, -0.10285412,\n",
       "         1.54585575,  0.68726681, -0.66943646],\n",
       "       [ 0.83054372, -0.83009816, -0.01610299, -0.7422295 ,  0.7422295 ,\n",
       "        -0.40567244,  0.86660032, -0.06543159, -0.43068254, -0.38116165,\n",
       "        -0.99824448,  0.99824448, -0.55142708, -1.16451318,  2.0563229 ,\n",
       "        -0.32134937, -0.32181263, -0.22323797, -0.99587738,  0.42193549,\n",
       "        -0.64689089,  1.22566769, -0.99587738],\n",
       "       [ 0.83054372, -0.83009816, -0.01610299, -0.7422295 ,  0.7422295 ,\n",
       "        -0.40567244,  0.86660032, -0.06543159, -0.43068254, -0.38116165,\n",
       "        -0.99824448,  0.99824448,  1.81347642, -1.16451318, -0.48630495,\n",
       "         0.21134163, -0.32181263, -0.22323797, -1.01716198, -0.44396737,\n",
       "         1.54585575,  0.91898364, -1.01716198],\n",
       "       [ 0.83054372, -0.83009816, -0.01610299,  1.34729219, -1.34729219,\n",
       "        -0.40567244,  0.86660032, -0.06543159, -0.43068254, -0.38116165,\n",
       "        -0.99824448,  0.99824448, -0.55142708,  0.85872794, -0.48630495,\n",
       "        -1.16477679, -0.32181263, -0.22323797, -0.35433189,  0.8811264 ,\n",
       "         1.54585575,  0.6191148 , -0.35433189],\n",
       "       [-1.20403053,  1.20467681, -0.01610299, -0.7422295 ,  0.7422295 ,\n",
       "        -0.40567244,  0.86660032, -0.06543159, -0.43068254, -0.38116165,\n",
       "        -0.99824448,  0.99824448, -0.55142708,  0.85872794, -0.48630495,\n",
       "        -0.4101312 , -0.32181263, -0.22323797, -0.21852692,  0.1988999 ,\n",
       "        -0.64689089, -1.75257517, -0.21852692],\n",
       "       [ 0.83054372, -0.83009816, -0.01610299, -0.7422295 ,  0.7422295 ,\n",
       "        -0.40567244,  0.86660032, -0.06543159, -0.43068254, -0.38116165,\n",
       "         1.00175861, -1.00175861, -0.55142708,  0.85872794, -0.48630495,\n",
       "        -0.27695845, -0.32181263, -0.22323797, -0.21413119, -0.45708711,\n",
       "         1.54585575, -0.73711021, -0.21413119],\n",
       "       [-1.20403053,  1.20467681, -0.01610299, -0.7422295 ,  0.7422295 ,\n",
       "        -0.40567244, -1.15393449, -0.06543159,  2.32189584, -0.38116165,\n",
       "        -0.99824448,  0.99824448,  1.81347642, -1.16451318, -0.48630495,\n",
       "         1.4542873 , -0.32181263, -0.22323797,  0.207165  ,  0.15954068,\n",
       "         1.54585575,  0.19657233,  0.207165  ],\n",
       "       [ 0.83054372, -0.83009816, -0.01610299, -0.7422295 ,  0.7422295 ,\n",
       "        -0.40567244, -1.15393449, -0.06543159, -0.43068254,  2.62355881,\n",
       "        -0.99824448,  0.99824448, -0.55142708, -1.16451318,  2.0563229 ,\n",
       "        -0.58769487, -0.32181263, -0.22323797, -1.02410261, -0.52268581,\n",
       "        -0.64689089, -0.23960054, -1.02410261],\n",
       "       [ 0.83054372, -0.83009816, -0.01610299,  1.34729219, -1.34729219,\n",
       "         2.465043  , -1.15393449, -0.06543159, -0.43068254, -0.38116165,\n",
       "         1.00175861, -1.00175861, -0.55142708, -1.16451318,  2.0563229 ,\n",
       "        -1.16477679, -0.32181263, -0.22323797, -0.62802404, -0.64076347,\n",
       "        -0.64689089, -0.94156625, -0.62802404]])"
      ]
     },
     "execution_count": 48,
     "metadata": {},
     "output_type": "execute_result"
    }
   ],
   "source": [
    "X_train_2 = preprocessing.StandardScaler().fit(X_train_one_hot).transform(X_train_one_hot)\n",
    "\n",
    "X_train_2[0:10]"
   ]
  },
  {
   "cell_type": "markdown",
   "metadata": {},
   "source": [
    "### Final transformation will be dimensionality reduction with PCA. \n",
    "### *PCA was pursued after running through the various models below and seeing poor out-of-sample performance. After exploring a few different variants, the first 10 principal components for the standardized one-hot gave the best model performance.*\n",
    " - 10 components covers ~ 70% variance"
   ]
  },
  {
   "cell_type": "code",
   "execution_count": 49,
   "metadata": {},
   "outputs": [],
   "source": [
    "pca = PCA(n_components=10)\n",
    "X_train_pca = pca.fit_transform(X_train_2)"
   ]
  },
  {
   "cell_type": "markdown",
   "metadata": {},
   "source": [
    "### Also I use the same transformations on the test data set for model comparisons."
   ]
  },
  {
   "cell_type": "code",
   "execution_count": 50,
   "metadata": {},
   "outputs": [
    {
     "name": "stderr",
     "output_type": "stream",
     "text": [
      "/opt/conda/envs/Python36/lib/python3.6/site-packages/ipykernel/__main__.py:1: SettingWithCopyWarning: \n",
      "A value is trying to be set on a copy of a slice from a DataFrame.\n",
      "Try using .loc[row_indexer,col_indexer] = value instead\n",
      "\n",
      "See the caveats in the documentation: http://pandas.pydata.org/pandas-docs/stable/indexing.html#indexing-view-versus-copy\n",
      "  if __name__ == '__main__':\n",
      "/opt/conda/envs/Python36/lib/python3.6/site-packages/sklearn/preprocessing/data.py:645: DataConversionWarning: Data with input dtype uint8, float64 were all converted to float64 by StandardScaler.\n",
      "  return self.partial_fit(X, y)\n",
      "/opt/conda/envs/Python36/lib/python3.6/site-packages/ipykernel/__main__.py:35: DataConversionWarning: Data with input dtype uint8, float64 were all converted to float64 by StandardScaler.\n"
     ]
    },
    {
     "data": {
      "text/html": [
       "<div>\n",
       "<style scoped>\n",
       "    .dataframe tbody tr th:only-of-type {\n",
       "        vertical-align: middle;\n",
       "    }\n",
       "\n",
       "    .dataframe tbody tr th {\n",
       "        vertical-align: top;\n",
       "    }\n",
       "\n",
       "    .dataframe thead th {\n",
       "        text-align: right;\n",
       "    }\n",
       "</style>\n",
       "<table border=\"1\" class=\"dataframe\">\n",
       "  <thead>\n",
       "    <tr style=\"text-align: right;\">\n",
       "      <th></th>\n",
       "      <th>gender_Female</th>\n",
       "      <th>gender_Male</th>\n",
       "      <th>gender_Other</th>\n",
       "      <th>married_No</th>\n",
       "      <th>married_Yes</th>\n",
       "      <th>occupation_A</th>\n",
       "      <th>occupation_B</th>\n",
       "      <th>occupation_C</th>\n",
       "      <th>occupation_D</th>\n",
       "      <th>occupation_E</th>\n",
       "      <th>...</th>\n",
       "      <th>smoking_status_never smoked</th>\n",
       "      <th>smoking_status_smokes</th>\n",
       "      <th>age</th>\n",
       "      <th>hypertension</th>\n",
       "      <th>heart_disease</th>\n",
       "      <th>metric_1</th>\n",
       "      <th>metric_2</th>\n",
       "      <th>metric_3</th>\n",
       "      <th>metric_4</th>\n",
       "      <th>metric_5</th>\n",
       "    </tr>\n",
       "  </thead>\n",
       "  <tbody>\n",
       "    <tr>\n",
       "      <th>0</th>\n",
       "      <td>0</td>\n",
       "      <td>1</td>\n",
       "      <td>0</td>\n",
       "      <td>1</td>\n",
       "      <td>0</td>\n",
       "      <td>1</td>\n",
       "      <td>0</td>\n",
       "      <td>0</td>\n",
       "      <td>0</td>\n",
       "      <td>0</td>\n",
       "      <td>...</td>\n",
       "      <td>1</td>\n",
       "      <td>0</td>\n",
       "      <td>9.0</td>\n",
       "      <td>0.0</td>\n",
       "      <td>0.0</td>\n",
       "      <td>85.75</td>\n",
       "      <td>17.6</td>\n",
       "      <td>0.0</td>\n",
       "      <td>98.07</td>\n",
       "      <td>85.75</td>\n",
       "    </tr>\n",
       "    <tr>\n",
       "      <th>1</th>\n",
       "      <td>1</td>\n",
       "      <td>0</td>\n",
       "      <td>0</td>\n",
       "      <td>1</td>\n",
       "      <td>0</td>\n",
       "      <td>0</td>\n",
       "      <td>1</td>\n",
       "      <td>0</td>\n",
       "      <td>0</td>\n",
       "      <td>0</td>\n",
       "      <td>...</td>\n",
       "      <td>0</td>\n",
       "      <td>1</td>\n",
       "      <td>28.0</td>\n",
       "      <td>0.0</td>\n",
       "      <td>0.0</td>\n",
       "      <td>98.95</td>\n",
       "      <td>28.5</td>\n",
       "      <td>0.0</td>\n",
       "      <td>97.98</td>\n",
       "      <td>98.95</td>\n",
       "    </tr>\n",
       "    <tr>\n",
       "      <th>2</th>\n",
       "      <td>0</td>\n",
       "      <td>1</td>\n",
       "      <td>0</td>\n",
       "      <td>0</td>\n",
       "      <td>1</td>\n",
       "      <td>0</td>\n",
       "      <td>1</td>\n",
       "      <td>0</td>\n",
       "      <td>0</td>\n",
       "      <td>0</td>\n",
       "      <td>...</td>\n",
       "      <td>0</td>\n",
       "      <td>1</td>\n",
       "      <td>39.0</td>\n",
       "      <td>0.0</td>\n",
       "      <td>0.0</td>\n",
       "      <td>87.12</td>\n",
       "      <td>31.6</td>\n",
       "      <td>0.0</td>\n",
       "      <td>97.27</td>\n",
       "      <td>87.12</td>\n",
       "    </tr>\n",
       "    <tr>\n",
       "      <th>3</th>\n",
       "      <td>1</td>\n",
       "      <td>0</td>\n",
       "      <td>0</td>\n",
       "      <td>1</td>\n",
       "      <td>0</td>\n",
       "      <td>1</td>\n",
       "      <td>0</td>\n",
       "      <td>0</td>\n",
       "      <td>0</td>\n",
       "      <td>0</td>\n",
       "      <td>...</td>\n",
       "      <td>1</td>\n",
       "      <td>0</td>\n",
       "      <td>5.0</td>\n",
       "      <td>0.0</td>\n",
       "      <td>0.0</td>\n",
       "      <td>86.54</td>\n",
       "      <td>15.1</td>\n",
       "      <td>0.0</td>\n",
       "      <td>97.94</td>\n",
       "      <td>86.54</td>\n",
       "    </tr>\n",
       "    <tr>\n",
       "      <th>4</th>\n",
       "      <td>0</td>\n",
       "      <td>1</td>\n",
       "      <td>0</td>\n",
       "      <td>0</td>\n",
       "      <td>1</td>\n",
       "      <td>0</td>\n",
       "      <td>1</td>\n",
       "      <td>0</td>\n",
       "      <td>0</td>\n",
       "      <td>0</td>\n",
       "      <td>...</td>\n",
       "      <td>0</td>\n",
       "      <td>1</td>\n",
       "      <td>32.0</td>\n",
       "      <td>0.0</td>\n",
       "      <td>0.0</td>\n",
       "      <td>157.35</td>\n",
       "      <td>29.7</td>\n",
       "      <td>0.0</td>\n",
       "      <td>98.71</td>\n",
       "      <td>157.35</td>\n",
       "    </tr>\n",
       "  </tbody>\n",
       "</table>\n",
       "<p>5 rows × 23 columns</p>\n",
       "</div>"
      ],
      "text/plain": [
       "   gender_Female  gender_Male  gender_Other  married_No  married_Yes  \\\n",
       "0              0            1             0           1            0   \n",
       "1              1            0             0           1            0   \n",
       "2              0            1             0           0            1   \n",
       "3              1            0             0           1            0   \n",
       "4              0            1             0           0            1   \n",
       "\n",
       "   occupation_A  occupation_B  occupation_C  occupation_D  occupation_E  ...  \\\n",
       "0             1             0             0             0             0  ...   \n",
       "1             0             1             0             0             0  ...   \n",
       "2             0             1             0             0             0  ...   \n",
       "3             1             0             0             0             0  ...   \n",
       "4             0             1             0             0             0  ...   \n",
       "\n",
       "   smoking_status_never smoked  smoking_status_smokes   age  hypertension  \\\n",
       "0                            1                      0   9.0           0.0   \n",
       "1                            0                      1  28.0           0.0   \n",
       "2                            0                      1  39.0           0.0   \n",
       "3                            1                      0   5.0           0.0   \n",
       "4                            0                      1  32.0           0.0   \n",
       "\n",
       "   heart_disease  metric_1  metric_2  metric_3  metric_4  metric_5  \n",
       "0            0.0     85.75      17.6       0.0     98.07     85.75  \n",
       "1            0.0     98.95      28.5       0.0     97.98     98.95  \n",
       "2            0.0     87.12      31.6       0.0     97.27     87.12  \n",
       "3            0.0     86.54      15.1       0.0     97.94     86.54  \n",
       "4            0.0    157.35      29.7       0.0     98.71    157.35  \n",
       "\n",
       "[5 rows x 23 columns]"
      ]
     },
     "execution_count": 50,
     "metadata": {},
     "output_type": "execute_result"
    }
   ],
   "source": [
    "X_test['copy_index'] = X_test.index\n",
    "\n",
    "X_num_test = X_test.drop(['gender', 'married', 'occupation', 'residence', 'smoking_status'], \n",
    "                 axis = 1)\n",
    "\n",
    "X_cat_test = X_test.drop(['age', 'hypertension', 'heart_disease', 'metric_1', 'metric_2', 'metric_3', 'metric_4', 'metric_5'], \n",
    "                 axis = 1)\n",
    "\n",
    "X_num_test = pd.DataFrame(imputer.fit_transform(X_num_test), columns = X_num_test.columns)\n",
    "\n",
    "X_knn_na_test = X_num_test.merge(X_cat_test[['id','smoking_status']][X_cat_test[['smoking_status']].isnull().any(axis=1)], on = 'id').set_index('copy_index') \n",
    "\n",
    "imputed_values_test = trained_model.predict(X_knn_na_test.drop(['smoking_status', 'id'], axis = 1))\n",
    "\n",
    "X_knn_na_test['smoking_status'] = imputed_values_test\n",
    "\n",
    "X_cat_imputed_test = X_cat_test.merge(X_knn_na_test, on = 'id', how = 'left').set_index('copy_index') \n",
    "\n",
    "X_cat_imputed_test = X_cat_imputed_test.drop(['age', 'hypertension', 'heart_disease', 'metric_1', 'metric_2', 'metric_3', 'metric_4', 'metric_5'], axis = 1)\n",
    "\n",
    "X_cat_imputed_test = X_cat_imputed_test.fillna('')\n",
    "\n",
    "X_cat_imputed_test['smoking_status'] = X_cat_imputed_test['smoking_status_x'] + X_cat_imputed_test['smoking_status_y']\n",
    "\n",
    "X_cat_imputed_test = X_cat_imputed_test.drop(['smoking_status_x', 'smoking_status_y'], axis = 1)\n",
    "\n",
    "X_cat_test = X_cat_imputed_test\n",
    "\n",
    "X_cat_one_hot_test = pd.concat([X_cat_test['id'],pd.get_dummies(X_cat_test.drop(['id'], axis = 1))], axis=1)\n",
    "\n",
    "X_test_one_hot = X_cat_one_hot_test.merge(X_num_test, on = 'id').drop(['copy_index'], axis = 1)\n",
    "\n",
    "X_test_one_hot = X_test_one_hot.drop(['id'], axis = 1)\n",
    "\n",
    "X_test_2 = preprocessing.StandardScaler().fit(X_test_one_hot).transform(X_test_one_hot)\n",
    "\n",
    "X_test_pca = pca.transform(X_test_2)\n",
    "\n",
    "X_test_one_hot.head()"
   ]
  },
  {
   "cell_type": "markdown",
   "metadata": {},
   "source": [
    "# Data Modeling\n",
    "## Will try a variety of quick models, then go into more complex attempts to characterize the generalizability of the different classification methods to this problem."
   ]
  },
  {
   "cell_type": "markdown",
   "metadata": {},
   "source": [
    "## Logistic Regression Classification"
   ]
  },
  {
   "cell_type": "code",
   "execution_count": 59,
   "metadata": {},
   "outputs": [
    {
     "name": "stdout",
     "output_type": "stream",
     "text": [
      "              precision    recall  f1-score   support\n",
      "\n",
      "           0       0.98      1.00      0.99     34091\n",
      "           1       0.00      0.00      0.00       626\n",
      "\n",
      "   micro avg       0.98      0.98      0.98     34717\n",
      "   macro avg       0.49      0.50      0.50     34717\n",
      "weighted avg       0.96      0.98      0.97     34717\n",
      "\n"
     ]
    },
    {
     "name": "stderr",
     "output_type": "stream",
     "text": [
      "/opt/conda/envs/Python36/lib/python3.6/site-packages/sklearn/metrics/classification.py:1143: UndefinedMetricWarning: Precision and F-score are ill-defined and being set to 0.0 in labels with no predicted samples.\n",
      "  'precision', 'predicted', average, warn_for)\n",
      "/opt/conda/envs/Python36/lib/python3.6/site-packages/sklearn/metrics/classification.py:1143: UndefinedMetricWarning: Precision and F-score are ill-defined and being set to 0.0 in labels with no predicted samples.\n",
      "  'precision', 'predicted', average, warn_for)\n",
      "/opt/conda/envs/Python36/lib/python3.6/site-packages/sklearn/metrics/classification.py:1143: UndefinedMetricWarning: Precision and F-score are ill-defined and being set to 0.0 in labels with no predicted samples.\n",
      "  'precision', 'predicted', average, warn_for)\n"
     ]
    }
   ],
   "source": [
    "LR = LogisticRegression(C=0.01, solver='liblinear').fit(X_train_pca, y_train)\n",
    "yhat_LR = LR.predict(X_train_pca)\n",
    "print (classification_report(y_train, yhat_LR))"
   ]
  },
  {
   "cell_type": "code",
   "execution_count": 60,
   "metadata": {},
   "outputs": [
    {
     "name": "stdout",
     "output_type": "stream",
     "text": [
      "              precision    recall  f1-score   support\n",
      "\n",
      "           0       0.98      1.00      0.99      8523\n",
      "           1       0.00      0.00      0.00       157\n",
      "\n",
      "   micro avg       0.98      0.98      0.98      8680\n",
      "   macro avg       0.49      0.50      0.50      8680\n",
      "weighted avg       0.96      0.98      0.97      8680\n",
      "\n"
     ]
    },
    {
     "name": "stderr",
     "output_type": "stream",
     "text": [
      "/opt/conda/envs/Python36/lib/python3.6/site-packages/sklearn/metrics/classification.py:1143: UndefinedMetricWarning: Precision and F-score are ill-defined and being set to 0.0 in labels with no predicted samples.\n",
      "  'precision', 'predicted', average, warn_for)\n",
      "/opt/conda/envs/Python36/lib/python3.6/site-packages/sklearn/metrics/classification.py:1143: UndefinedMetricWarning: Precision and F-score are ill-defined and being set to 0.0 in labels with no predicted samples.\n",
      "  'precision', 'predicted', average, warn_for)\n",
      "/opt/conda/envs/Python36/lib/python3.6/site-packages/sklearn/metrics/classification.py:1143: UndefinedMetricWarning: Precision and F-score are ill-defined and being set to 0.0 in labels with no predicted samples.\n",
      "  'precision', 'predicted', average, warn_for)\n"
     ]
    }
   ],
   "source": [
    "yhat_LR = LR.predict(X_test_pca)\n",
    "print (classification_report(y_test, yhat_LR))"
   ]
  },
  {
   "cell_type": "markdown",
   "metadata": {},
   "source": [
    "## Regularized Logistic Regression Classification"
   ]
  },
  {
   "cell_type": "code",
   "execution_count": 61,
   "metadata": {
    "scrolled": true
   },
   "outputs": [
    {
     "name": "stdout",
     "output_type": "stream",
     "text": [
      "              precision    recall  f1-score   support\n",
      "\n",
      "           0       0.98      1.00      0.99     34091\n",
      "           1       0.00      0.00      0.00       626\n",
      "\n",
      "   micro avg       0.98      0.98      0.98     34717\n",
      "   macro avg       0.49      0.50      0.50     34717\n",
      "weighted avg       0.96      0.98      0.97     34717\n",
      "\n"
     ]
    },
    {
     "name": "stderr",
     "output_type": "stream",
     "text": [
      "/opt/conda/envs/Python36/lib/python3.6/site-packages/sklearn/metrics/classification.py:1143: UndefinedMetricWarning: Precision and F-score are ill-defined and being set to 0.0 in labels with no predicted samples.\n",
      "  'precision', 'predicted', average, warn_for)\n",
      "/opt/conda/envs/Python36/lib/python3.6/site-packages/sklearn/metrics/classification.py:1143: UndefinedMetricWarning: Precision and F-score are ill-defined and being set to 0.0 in labels with no predicted samples.\n",
      "  'precision', 'predicted', average, warn_for)\n",
      "/opt/conda/envs/Python36/lib/python3.6/site-packages/sklearn/metrics/classification.py:1143: UndefinedMetricWarning: Precision and F-score are ill-defined and being set to 0.0 in labels with no predicted samples.\n",
      "  'precision', 'predicted', average, warn_for)\n"
     ]
    }
   ],
   "source": [
    "LR_reg = LogisticRegression(solver = 'lbfgs', penalty = 'l2', C=0.5).fit(X_train_pca, y_train)\n",
    "yhat_LR_reg = LR_reg.predict(X_train_pca)\n",
    "print(classification_report(y_train, yhat_LR_reg))"
   ]
  },
  {
   "cell_type": "code",
   "execution_count": 62,
   "metadata": {},
   "outputs": [
    {
     "name": "stdout",
     "output_type": "stream",
     "text": [
      "              precision    recall  f1-score   support\n",
      "\n",
      "           0       0.98      1.00      0.99      8523\n",
      "           1       0.00      0.00      0.00       157\n",
      "\n",
      "   micro avg       0.98      0.98      0.98      8680\n",
      "   macro avg       0.49      0.50      0.50      8680\n",
      "weighted avg       0.96      0.98      0.97      8680\n",
      "\n"
     ]
    },
    {
     "name": "stderr",
     "output_type": "stream",
     "text": [
      "/opt/conda/envs/Python36/lib/python3.6/site-packages/sklearn/metrics/classification.py:1143: UndefinedMetricWarning: Precision and F-score are ill-defined and being set to 0.0 in labels with no predicted samples.\n",
      "  'precision', 'predicted', average, warn_for)\n",
      "/opt/conda/envs/Python36/lib/python3.6/site-packages/sklearn/metrics/classification.py:1143: UndefinedMetricWarning: Precision and F-score are ill-defined and being set to 0.0 in labels with no predicted samples.\n",
      "  'precision', 'predicted', average, warn_for)\n",
      "/opt/conda/envs/Python36/lib/python3.6/site-packages/sklearn/metrics/classification.py:1143: UndefinedMetricWarning: Precision and F-score are ill-defined and being set to 0.0 in labels with no predicted samples.\n",
      "  'precision', 'predicted', average, warn_for)\n"
     ]
    }
   ],
   "source": [
    "yhat_LR_reg = LR_reg.predict(X_test_pca)\n",
    "print(classification_report(y_test, yhat_LR_reg))"
   ]
  },
  {
   "cell_type": "markdown",
   "metadata": {},
   "source": [
    "## k-Nearest Neighbors Classification"
   ]
  },
  {
   "cell_type": "markdown",
   "metadata": {},
   "source": [
    "### Testing for optimal k values in knn"
   ]
  },
  {
   "cell_type": "code",
   "execution_count": 63,
   "metadata": {},
   "outputs": [
    {
     "name": "stderr",
     "output_type": "stream",
     "text": [
      "/opt/conda/envs/Python36/lib/python3.6/site-packages/sklearn/metrics/classification.py:1143: UndefinedMetricWarning: F-score is ill-defined and being set to 0.0 due to no predicted samples.\n",
      "  'precision', 'predicted', average, warn_for)\n",
      "/opt/conda/envs/Python36/lib/python3.6/site-packages/sklearn/metrics/classification.py:1143: UndefinedMetricWarning: F-score is ill-defined and being set to 0.0 due to no predicted samples.\n",
      "  'precision', 'predicted', average, warn_for)\n",
      "/opt/conda/envs/Python36/lib/python3.6/site-packages/sklearn/metrics/classification.py:1143: UndefinedMetricWarning: F-score is ill-defined and being set to 0.0 due to no predicted samples.\n",
      "  'precision', 'predicted', average, warn_for)\n",
      "/opt/conda/envs/Python36/lib/python3.6/site-packages/sklearn/metrics/classification.py:1143: UndefinedMetricWarning: F-score is ill-defined and being set to 0.0 due to no predicted samples.\n",
      "  'precision', 'predicted', average, warn_for)\n",
      "/opt/conda/envs/Python36/lib/python3.6/site-packages/sklearn/metrics/classification.py:1143: UndefinedMetricWarning: F-score is ill-defined and being set to 0.0 due to no predicted samples.\n",
      "  'precision', 'predicted', average, warn_for)\n",
      "/opt/conda/envs/Python36/lib/python3.6/site-packages/sklearn/metrics/classification.py:1143: UndefinedMetricWarning: F-score is ill-defined and being set to 0.0 due to no predicted samples.\n",
      "  'precision', 'predicted', average, warn_for)\n"
     ]
    },
    {
     "data": {
      "text/plain": [
       "array([1.        , 0.10015175, 0.18559557, 0.01265823, 0.02194357,\n",
       "       0.00318979, 0.00636943, 0.        , 0.        , 0.        ,\n",
       "       0.        , 0.        , 0.        , 0.        ])"
      ]
     },
     "execution_count": 63,
     "metadata": {},
     "output_type": "execute_result"
    }
   ],
   "source": [
    "Ks = 15\n",
    "mean_f1 = np.zeros((Ks-1))\n",
    "ConfustionMx = [];\n",
    "for n in range(1,Ks):\n",
    "    \n",
    "    #Train Model and Predict  \n",
    "    neigh = KNeighborsClassifier(n_neighbors = n).fit(X_train_pca,y_train)\n",
    "    yhat=neigh.predict(X_train_pca)\n",
    "    mean_f1[n-1] = f1_score(y_train, yhat)\n",
    "\n",
    "mean_f1"
   ]
  },
  {
   "cell_type": "markdown",
   "metadata": {},
   "source": [
    "### Quick plot of F1 scores"
   ]
  },
  {
   "cell_type": "code",
   "execution_count": 64,
   "metadata": {},
   "outputs": [
    {
     "data": {
      "image/png": "[encoded data removed]",
      "text/plain": [
       "<Figure size 432x288 with 1 Axes>"
      ]
     },
     "metadata": {
      "needs_background": "light"
     },
     "output_type": "display_data"
    }
   ],
   "source": [
    "plt.plot(range(1,Ks),mean_f1,'g')\n",
    "plt.legend(('F1 Score '))\n",
    "plt.ylabel('F1 Score ')\n",
    "plt.xlabel('Number of Nabors (K)')\n",
    "plt.tight_layout()\n",
    "plt.show()"
   ]
  },
  {
   "cell_type": "markdown",
   "metadata": {},
   "source": [
    "### Training the knn model"
   ]
  },
  {
   "cell_type": "code",
   "execution_count": 66,
   "metadata": {},
   "outputs": [
    {
     "name": "stdout",
     "output_type": "stream",
     "text": [
      "              precision    recall  f1-score   support\n",
      "\n",
      "           0       1.00      1.00      1.00     34091\n",
      "           1       1.00      1.00      1.00       626\n",
      "\n",
      "   micro avg       1.00      1.00      1.00     34717\n",
      "   macro avg       1.00      1.00      1.00     34717\n",
      "weighted avg       1.00      1.00      1.00     34717\n",
      "\n"
     ]
    }
   ],
   "source": [
    "k = 1\n",
    "\n",
    "neigh = KNeighborsClassifier(n_neighbors = k).fit(X_train_pca,y_train)\n",
    "yhat_knn = neigh.predict(X_train_pca)\n",
    "print (classification_report(y_train, yhat_knn))"
   ]
  },
  {
   "cell_type": "code",
   "execution_count": 67,
   "metadata": {},
   "outputs": [
    {
     "name": "stdout",
     "output_type": "stream",
     "text": [
      "              precision    recall  f1-score   support\n",
      "\n",
      "           0       0.98      0.98      0.98      8523\n",
      "           1       0.08      0.08      0.08       157\n",
      "\n",
      "   micro avg       0.97      0.97      0.97      8680\n",
      "   macro avg       0.53      0.53      0.53      8680\n",
      "weighted avg       0.97      0.97      0.97      8680\n",
      "\n"
     ]
    }
   ],
   "source": [
    "yhat_knn = neigh.predict(X_test_pca)\n",
    "print (classification_report(y_test, yhat_knn))"
   ]
  },
  {
   "cell_type": "markdown",
   "metadata": {},
   "source": [
    "## Decision Tree Classification"
   ]
  },
  {
   "cell_type": "markdown",
   "metadata": {},
   "source": [
    "## Testing to optimize the max depth in the decision tree."
   ]
  },
  {
   "cell_type": "code",
   "execution_count": 69,
   "metadata": {},
   "outputs": [
    {
     "name": "stderr",
     "output_type": "stream",
     "text": [
      "/opt/conda/envs/Python36/lib/python3.6/site-packages/sklearn/metrics/classification.py:1143: UndefinedMetricWarning: F-score is ill-defined and being set to 0.0 due to no predicted samples.\n",
      "  'precision', 'predicted', average, warn_for)\n",
      "/opt/conda/envs/Python36/lib/python3.6/site-packages/sklearn/metrics/classification.py:1143: UndefinedMetricWarning: F-score is ill-defined and being set to 0.0 due to no predicted samples.\n",
      "  'precision', 'predicted', average, warn_for)\n",
      "/opt/conda/envs/Python36/lib/python3.6/site-packages/sklearn/metrics/classification.py:1143: UndefinedMetricWarning: F-score is ill-defined and being set to 0.0 due to no predicted samples.\n",
      "  'precision', 'predicted', average, warn_for)\n"
     ]
    },
    {
     "data": {
      "image/png": "[encoded data removed]",
      "text/plain": [
       "<Figure size 432x288 with 1 Axes>"
      ]
     },
     "metadata": {
      "needs_background": "light"
     },
     "output_type": "display_data"
    }
   ],
   "source": [
    "Ks = 50\n",
    "mean_f1 = np.zeros((Ks-1))\n",
    "ConfustionMx = [];\n",
    "for n in range(1,Ks):\n",
    "    \n",
    "    #Train Model and Predict  \n",
    "    decTree = DecisionTreeClassifier(criterion = \"entropy\", max_depth = n).fit(X_train_pca,y_train)\n",
    "    yhat=decTree.predict(X_train_pca)\n",
    "    mean_f1[n-1] = f1_score(y_train, yhat)\n",
    "\n",
    "mean_f1\n",
    "\n",
    "plt.plot(range(1,Ks),mean_f1,'g')\n",
    "plt.legend(('F1-score '))\n",
    "plt.ylabel('Accuracy ')\n",
    "plt.xlabel('Max Tree Depth (n)')\n",
    "plt.tight_layout()\n",
    "plt.show()"
   ]
  },
  {
   "cell_type": "code",
   "execution_count": 70,
   "metadata": {},
   "outputs": [
    {
     "data": {
      "text/plain": [
       "array([0.        , 0.        , 0.        , 0.00636943, 0.01898734,\n",
       "       0.04068858, 0.06779661, 0.13884786, 0.22033898, 0.27548209,\n",
       "       0.37644046, 0.44114002, 0.53193961, 0.57596372, 0.65189873,\n",
       "       0.70468432, 0.75222113, 0.78701051, 0.83989021, 0.87886826,\n",
       "       0.90165361, 0.93457944, 0.93670886, 0.94612795, 0.97142857,\n",
       "       0.98384491, 0.99032258, 0.99194847, 0.99760192, 1.        ,\n",
       "       1.        , 1.        , 1.        , 0.99920064, 1.        ,\n",
       "       1.        , 1.        , 1.        , 1.        , 1.        ,\n",
       "       1.        , 1.        , 1.        , 1.        , 1.        ,\n",
       "       1.        , 1.        , 1.        , 1.        ])"
      ]
     },
     "execution_count": 70,
     "metadata": {},
     "output_type": "execute_result"
    }
   ],
   "source": [
    "mean_f1"
   ]
  },
  {
   "cell_type": "markdown",
   "metadata": {},
   "source": [
    "### Chose the max depth based on where the 'knee' was in the curve."
   ]
  },
  {
   "cell_type": "code",
   "execution_count": 71,
   "metadata": {},
   "outputs": [
    {
     "name": "stdout",
     "output_type": "stream",
     "text": [
      "              precision    recall  f1-score   support\n",
      "\n",
      "           0       1.00      1.00      1.00     34091\n",
      "           1       0.98      0.80      0.88       626\n",
      "\n",
      "   micro avg       1.00      1.00      1.00     34717\n",
      "   macro avg       0.99      0.90      0.94     34717\n",
      "weighted avg       1.00      1.00      1.00     34717\n",
      "\n"
     ]
    }
   ],
   "source": [
    "decTree = DecisionTreeClassifier(criterion=\"entropy\", max_depth = 20)\n",
    "\n",
    "decTree.fit(X_train_pca,y_train)\n",
    "predTree = decTree.predict(X_train_pca)\n",
    "print (classification_report(y_train, predTree))"
   ]
  },
  {
   "cell_type": "code",
   "execution_count": 72,
   "metadata": {},
   "outputs": [
    {
     "name": "stdout",
     "output_type": "stream",
     "text": [
      "              precision    recall  f1-score   support\n",
      "\n",
      "           0       0.98      0.98      0.98      8523\n",
      "           1       0.05      0.04      0.05       157\n",
      "\n",
      "   micro avg       0.97      0.97      0.97      8680\n",
      "   macro avg       0.51      0.51      0.51      8680\n",
      "weighted avg       0.97      0.97      0.97      8680\n",
      "\n"
     ]
    }
   ],
   "source": [
    "predTree = decTree.predict(X_test_pca)\n",
    "print (classification_report(y_test, predTree))"
   ]
  },
  {
   "cell_type": "markdown",
   "metadata": {},
   "source": [
    "## Support Vector Machine Classification"
   ]
  },
  {
   "cell_type": "code",
   "execution_count": 73,
   "metadata": {},
   "outputs": [
    {
     "name": "stderr",
     "output_type": "stream",
     "text": [
      "/opt/conda/envs/Python36/lib/python3.6/site-packages/sklearn/svm/base.py:196: FutureWarning: The default value of gamma will change from 'auto' to 'scale' in version 0.22 to account better for unscaled features. Set gamma explicitly to 'auto' or 'scale' to avoid this warning.\n",
      "  \"avoid this warning.\", FutureWarning)\n"
     ]
    },
    {
     "name": "stdout",
     "output_type": "stream",
     "text": [
      "              precision    recall  f1-score   support\n",
      "\n",
      "           0       0.98      1.00      0.99     34091\n",
      "           1       0.00      0.00      0.00       626\n",
      "\n",
      "   micro avg       0.98      0.98      0.98     34717\n",
      "   macro avg       0.49      0.50      0.50     34717\n",
      "weighted avg       0.96      0.98      0.97     34717\n",
      "\n"
     ]
    },
    {
     "name": "stderr",
     "output_type": "stream",
     "text": [
      "/opt/conda/envs/Python36/lib/python3.6/site-packages/sklearn/metrics/classification.py:1143: UndefinedMetricWarning: Precision and F-score are ill-defined and being set to 0.0 in labels with no predicted samples.\n",
      "  'precision', 'predicted', average, warn_for)\n",
      "/opt/conda/envs/Python36/lib/python3.6/site-packages/sklearn/metrics/classification.py:1143: UndefinedMetricWarning: Precision and F-score are ill-defined and being set to 0.0 in labels with no predicted samples.\n",
      "  'precision', 'predicted', average, warn_for)\n",
      "/opt/conda/envs/Python36/lib/python3.6/site-packages/sklearn/metrics/classification.py:1143: UndefinedMetricWarning: Precision and F-score are ill-defined and being set to 0.0 in labels with no predicted samples.\n",
      "  'precision', 'predicted', average, warn_for)\n"
     ]
    }
   ],
   "source": [
    "clf = svm.SVC(kernel='rbf', C = 1)\n",
    "clf.fit(X_train_pca, y_train)\n",
    "yhat_SVM = clf.predict(X_train_pca)\n",
    "print (classification_report(y_train, yhat_SVM))"
   ]
  },
  {
   "cell_type": "code",
   "execution_count": 75,
   "metadata": {},
   "outputs": [
    {
     "name": "stdout",
     "output_type": "stream",
     "text": [
      "              precision    recall  f1-score   support\n",
      "\n",
      "           0       0.98      1.00      0.99      8523\n",
      "           1       0.00      0.00      0.00       157\n",
      "\n",
      "   micro avg       0.98      0.98      0.98      8680\n",
      "   macro avg       0.49      0.50      0.50      8680\n",
      "weighted avg       0.96      0.98      0.97      8680\n",
      "\n"
     ]
    },
    {
     "name": "stderr",
     "output_type": "stream",
     "text": [
      "/opt/conda/envs/Python36/lib/python3.6/site-packages/sklearn/metrics/classification.py:1143: UndefinedMetricWarning: Precision and F-score are ill-defined and being set to 0.0 in labels with no predicted samples.\n",
      "  'precision', 'predicted', average, warn_for)\n",
      "/opt/conda/envs/Python36/lib/python3.6/site-packages/sklearn/metrics/classification.py:1143: UndefinedMetricWarning: Precision and F-score are ill-defined and being set to 0.0 in labels with no predicted samples.\n",
      "  'precision', 'predicted', average, warn_for)\n",
      "/opt/conda/envs/Python36/lib/python3.6/site-packages/sklearn/metrics/classification.py:1143: UndefinedMetricWarning: Precision and F-score are ill-defined and being set to 0.0 in labels with no predicted samples.\n",
      "  'precision', 'predicted', average, warn_for)\n"
     ]
    }
   ],
   "source": [
    "yhat_SVM = clf.predict(X_test_pca)\n",
    "print (classification_report(y_test, yhat_SVM))"
   ]
  },
  {
   "cell_type": "markdown",
   "metadata": {},
   "source": [
    "## OK, none of the first pass models performed as well as hoped on out-of-sample F1 scores. Now trying more advanced classification models."
   ]
  },
  {
   "cell_type": "markdown",
   "metadata": {},
   "source": [
    "## One Class SVM Outlier Detection (Classification)"
   ]
  },
  {
   "cell_type": "code",
   "execution_count": 76,
   "metadata": {},
   "outputs": [
    {
     "name": "stdout",
     "output_type": "stream",
     "text": [
      "              precision    recall  f1-score   support\n",
      "\n",
      "           0       0.99      0.50      0.67     34091\n",
      "           1       0.03      0.70      0.05       626\n",
      "\n",
      "   micro avg       0.51      0.51      0.51     34717\n",
      "   macro avg       0.51      0.60      0.36     34717\n",
      "weighted avg       0.97      0.51      0.66     34717\n",
      "\n"
     ]
    }
   ],
   "source": [
    "clf = OneClassSVM(gamma='auto').fit(X_train_pca)\n",
    "yhat = clf.predict(X_train_pca)\n",
    "yhat = np.where(yhat==1, 0, yhat) \n",
    "yhat = np.where(yhat==-1, 1, yhat) \n",
    "print (classification_report(y_train, yhat))"
   ]
  },
  {
   "cell_type": "code",
   "execution_count": 77,
   "metadata": {},
   "outputs": [
    {
     "name": "stdout",
     "output_type": "stream",
     "text": [
      "              precision    recall  f1-score   support\n",
      "\n",
      "           0       0.99      0.51      0.68      8523\n",
      "           1       0.03      0.75      0.05       157\n",
      "\n",
      "   micro avg       0.52      0.52      0.52      8680\n",
      "   macro avg       0.51      0.63      0.37      8680\n",
      "weighted avg       0.97      0.52      0.67      8680\n",
      "\n"
     ]
    }
   ],
   "source": [
    "yhat = clf.predict(X_test_pca)\n",
    "yhat = np.where(yhat==1, 0, yhat) \n",
    "yhat = np.where(yhat==-1, 1, yhat) \n",
    "print (classification_report(y_test, yhat))"
   ]
  },
  {
   "cell_type": "markdown",
   "metadata": {},
   "source": [
    "## Hyperparameter-tuned Random Forest Classification"
   ]
  },
  {
   "cell_type": "code",
   "execution_count": 78,
   "metadata": {},
   "outputs": [
    {
     "name": "stdout",
     "output_type": "stream",
     "text": [
      "{'bootstrap': [True, False],\n",
      " 'max_depth': [10, 20, 30, 40, 50, 60, 70, 80, 90, 100, 110, None],\n",
      " 'max_features': ['auto', 'sqrt'],\n",
      " 'min_samples_leaf': [1, 2, 4],\n",
      " 'min_samples_split': [2, 5, 10],\n",
      " 'n_estimators': [100,\n",
      "                  109,\n",
      "                  118,\n",
      "                  127,\n",
      "                  136,\n",
      "                  145,\n",
      "                  154,\n",
      "                  163,\n",
      "                  172,\n",
      "                  181,\n",
      "                  190,\n",
      "                  200,\n",
      "                  209,\n",
      "                  218,\n",
      "                  227,\n",
      "                  236,\n",
      "                  245,\n",
      "                  254,\n",
      "                  263,\n",
      "                  272,\n",
      "                  281,\n",
      "                  290,\n",
      "                  300,\n",
      "                  309,\n",
      "                  318,\n",
      "                  327,\n",
      "                  336,\n",
      "                  345,\n",
      "                  354,\n",
      "                  363,\n",
      "                  372,\n",
      "                  381,\n",
      "                  390,\n",
      "                  400,\n",
      "                  409,\n",
      "                  418,\n",
      "                  427,\n",
      "                  436,\n",
      "                  445,\n",
      "                  454,\n",
      "                  463,\n",
      "                  472,\n",
      "                  481,\n",
      "                  490,\n",
      "                  500,\n",
      "                  509,\n",
      "                  518,\n",
      "                  527,\n",
      "                  536,\n",
      "                  545,\n",
      "                  554,\n",
      "                  563,\n",
      "                  572,\n",
      "                  581,\n",
      "                  590,\n",
      "                  600,\n",
      "                  609,\n",
      "                  618,\n",
      "                  627,\n",
      "                  636,\n",
      "                  645,\n",
      "                  654,\n",
      "                  663,\n",
      "                  672,\n",
      "                  681,\n",
      "                  690,\n",
      "                  700,\n",
      "                  709,\n",
      "                  718,\n",
      "                  727,\n",
      "                  736,\n",
      "                  745,\n",
      "                  754,\n",
      "                  763,\n",
      "                  772,\n",
      "                  781,\n",
      "                  790,\n",
      "                  800,\n",
      "                  809,\n",
      "                  818,\n",
      "                  827,\n",
      "                  836,\n",
      "                  845,\n",
      "                  854,\n",
      "                  863,\n",
      "                  872,\n",
      "                  881,\n",
      "                  890,\n",
      "                  900,\n",
      "                  909,\n",
      "                  918,\n",
      "                  927,\n",
      "                  936,\n",
      "                  945,\n",
      "                  954,\n",
      "                  963,\n",
      "                  972,\n",
      "                  981,\n",
      "                  990,\n",
      "                  1000]}\n"
     ]
    },
    {
     "data": {
      "text/plain": [
       "{'bootstrap': [True, False],\n",
       " 'max_depth': [10, 20, 30, 40, 50, 60, 70, 80, 90, 100, None],\n",
       " 'max_features': ['auto', 'sqrt'],\n",
       " 'min_samples_leaf': [1, 2, 4],\n",
       " 'min_samples_split': [2, 5, 10],\n",
       " 'n_estimators': [100, 200, 300, 400, 500, 600, 700, 800, 900, 1000]}"
      ]
     },
     "execution_count": 78,
     "metadata": {},
     "output_type": "execute_result"
    }
   ],
   "source": [
    "n_estimators = [int(x) for x in np.linspace(start = 100, stop = 1000, num = 100)]\n",
    "# Number of features to consider at every split\n",
    "max_features = ['auto', 'sqrt']\n",
    "# Maximum number of levels in tree\n",
    "max_depth = [int(x) for x in np.linspace(10, 110, num = 11)]\n",
    "max_depth.append(None)\n",
    "# Minimum number of samples required to split a node\n",
    "min_samples_split = [2, 5, 10]\n",
    "# Minimum number of samples required at each leaf node\n",
    "min_samples_leaf = [1, 2, 4]\n",
    "# Method of selecting samples for training each tree\n",
    "bootstrap = [True, False]# Create the random grid\n",
    "random_grid = {'n_estimators': n_estimators,\n",
    "               'max_features': max_features,\n",
    "               'max_depth': max_depth,\n",
    "               'min_samples_split': min_samples_split,\n",
    "               'min_samples_leaf': min_samples_leaf,\n",
    "               'bootstrap': bootstrap}\n",
    "\n",
    "pprint(random_grid)\n",
    "\n",
    "{'bootstrap': [True, False],\n",
    " 'max_depth': [10, 20, 30, 40, 50, 60, 70, 80, 90, 100, None],\n",
    " 'max_features': ['auto', 'sqrt'],\n",
    " 'min_samples_leaf': [1, 2, 4],\n",
    " 'min_samples_split': [2, 5, 10],\n",
    " 'n_estimators': [100, 200, 300, 400, 500, 600, 700, 800, 900, 1000]}"
   ]
  },
  {
   "cell_type": "code",
   "execution_count": 79,
   "metadata": {},
   "outputs": [
    {
     "name": "stdout",
     "output_type": "stream",
     "text": [
      "Fitting 3 folds for each of 30 candidates, totalling 90 fits\n",
      "[CV] n_estimators=963, min_samples_split=5, min_samples_leaf=2, max_features=sqrt, max_depth=90, bootstrap=True \n"
     ]
    },
    {
     "name": "stderr",
     "output_type": "stream",
     "text": [
      "[Parallel(n_jobs=1)]: Using backend SequentialBackend with 1 concurrent workers.\n",
      "/opt/conda/envs/Python36/lib/python3.6/site-packages/sklearn/metrics/classification.py:1143: UndefinedMetricWarning: F-score is ill-defined and being set to 0.0 due to no predicted samples.\n",
      "  'precision', 'predicted', average, warn_for)\n"
     ]
    },
    {
     "name": "stdout",
     "output_type": "stream",
     "text": [
      "[CV]  n_estimators=963, min_samples_split=5, min_samples_leaf=2, max_features=sqrt, max_depth=90, bootstrap=True, total= 1.6min\n",
      "[CV] n_estimators=963, min_samples_split=5, min_samples_leaf=2, max_features=sqrt, max_depth=90, bootstrap=True \n"
     ]
    },
    {
     "name": "stderr",
     "output_type": "stream",
     "text": [
      "[Parallel(n_jobs=1)]: Done   1 out of   1 | elapsed:  1.7min remaining:    0.0s\n",
      "/opt/conda/envs/Python36/lib/python3.6/site-packages/sklearn/metrics/classification.py:1143: UndefinedMetricWarning: F-score is ill-defined and being set to 0.0 due to no predicted samples.\n",
      "  'precision', 'predicted', average, warn_for)\n"
     ]
    },
    {
     "name": "stdout",
     "output_type": "stream",
     "text": [
      "[CV]  n_estimators=963, min_samples_split=5, min_samples_leaf=2, max_features=sqrt, max_depth=90, bootstrap=True, total= 1.6min\n",
      "[CV] n_estimators=963, min_samples_split=5, min_samples_leaf=2, max_features=sqrt, max_depth=90, bootstrap=True \n",
      "[CV]  n_estimators=963, min_samples_split=5, min_samples_leaf=2, max_features=sqrt, max_depth=90, bootstrap=True, total= 1.6min\n",
      "[CV] n_estimators=645, min_samples_split=10, min_samples_leaf=4, max_features=auto, max_depth=10, bootstrap=True \n"
     ]
    },
    {
     "name": "stderr",
     "output_type": "stream",
     "text": [
      "/opt/conda/envs/Python36/lib/python3.6/site-packages/sklearn/metrics/classification.py:1143: UndefinedMetricWarning: F-score is ill-defined and being set to 0.0 due to no predicted samples.\n",
      "  'precision', 'predicted', average, warn_for)\n",
      "/opt/conda/envs/Python36/lib/python3.6/site-packages/sklearn/metrics/classification.py:1143: UndefinedMetricWarning: F-score is ill-defined and being set to 0.0 due to no predicted samples.\n",
      "  'precision', 'predicted', average, warn_for)\n"
     ]
    },
    {
     "name": "stdout",
     "output_type": "stream",
     "text": [
      "[CV]  n_estimators=645, min_samples_split=10, min_samples_leaf=4, max_features=auto, max_depth=10, bootstrap=True, total=  45.5s\n",
      "[CV] n_estimators=645, min_samples_split=10, min_samples_leaf=4, max_features=auto, max_depth=10, bootstrap=True \n"
     ]
    },
    {
     "name": "stderr",
     "output_type": "stream",
     "text": [
      "/opt/conda/envs/Python36/lib/python3.6/site-packages/sklearn/metrics/classification.py:1143: UndefinedMetricWarning: F-score is ill-defined and being set to 0.0 due to no predicted samples.\n",
      "  'precision', 'predicted', average, warn_for)\n",
      "/opt/conda/envs/Python36/lib/python3.6/site-packages/sklearn/metrics/classification.py:1143: UndefinedMetricWarning: F-score is ill-defined and being set to 0.0 due to no predicted samples.\n",
      "  'precision', 'predicted', average, warn_for)\n"
     ]
    },
    {
     "name": "stdout",
     "output_type": "stream",
     "text": [
      "[CV]  n_estimators=645, min_samples_split=10, min_samples_leaf=4, max_features=auto, max_depth=10, bootstrap=True, total=  45.0s\n",
      "[CV] n_estimators=645, min_samples_split=10, min_samples_leaf=4, max_features=auto, max_depth=10, bootstrap=True \n"
     ]
    },
    {
     "name": "stderr",
     "output_type": "stream",
     "text": [
      "/opt/conda/envs/Python36/lib/python3.6/site-packages/sklearn/metrics/classification.py:1143: UndefinedMetricWarning: F-score is ill-defined and being set to 0.0 due to no predicted samples.\n",
      "  'precision', 'predicted', average, warn_for)\n"
     ]
    },
    {
     "name": "stdout",
     "output_type": "stream",
     "text": [
      "[CV]  n_estimators=645, min_samples_split=10, min_samples_leaf=4, max_features=auto, max_depth=10, bootstrap=True, total=  45.1s\n",
      "[CV] n_estimators=627, min_samples_split=2, min_samples_leaf=2, max_features=auto, max_depth=100, bootstrap=False \n",
      "[CV]  n_estimators=627, min_samples_split=2, min_samples_leaf=2, max_features=auto, max_depth=100, bootstrap=False, total= 1.6min\n",
      "[CV] n_estimators=627, min_samples_split=2, min_samples_leaf=2, max_features=auto, max_depth=100, bootstrap=False \n",
      "[CV]  n_estimators=627, min_samples_split=2, min_samples_leaf=2, max_features=auto, max_depth=100, bootstrap=False, total= 1.6min\n",
      "[CV] n_estimators=627, min_samples_split=2, min_samples_leaf=2, max_features=auto, max_depth=100, bootstrap=False \n",
      "[CV]  n_estimators=627, min_samples_split=2, min_samples_leaf=2, max_features=auto, max_depth=100, bootstrap=False, total= 1.6min\n",
      "[CV] n_estimators=863, min_samples_split=5, min_samples_leaf=2, max_features=auto, max_depth=70, bootstrap=True \n"
     ]
    },
    {
     "name": "stderr",
     "output_type": "stream",
     "text": [
      "/opt/conda/envs/Python36/lib/python3.6/site-packages/sklearn/metrics/classification.py:1143: UndefinedMetricWarning: F-score is ill-defined and being set to 0.0 due to no predicted samples.\n",
      "  'precision', 'predicted', average, warn_for)\n"
     ]
    },
    {
     "name": "stdout",
     "output_type": "stream",
     "text": [
      "[CV]  n_estimators=863, min_samples_split=5, min_samples_leaf=2, max_features=auto, max_depth=70, bootstrap=True, total= 1.3min\n",
      "[CV] n_estimators=863, min_samples_split=5, min_samples_leaf=2, max_features=auto, max_depth=70, bootstrap=True \n"
     ]
    },
    {
     "name": "stderr",
     "output_type": "stream",
     "text": [
      "/opt/conda/envs/Python36/lib/python3.6/site-packages/sklearn/metrics/classification.py:1143: UndefinedMetricWarning: F-score is ill-defined and being set to 0.0 due to no predicted samples.\n",
      "  'precision', 'predicted', average, warn_for)\n"
     ]
    },
    {
     "name": "stdout",
     "output_type": "stream",
     "text": [
      "[CV]  n_estimators=863, min_samples_split=5, min_samples_leaf=2, max_features=auto, max_depth=70, bootstrap=True, total= 1.3min\n",
      "[CV] n_estimators=863, min_samples_split=5, min_samples_leaf=2, max_features=auto, max_depth=70, bootstrap=True \n",
      "[CV]  n_estimators=863, min_samples_split=5, min_samples_leaf=2, max_features=auto, max_depth=70, bootstrap=True, total= 1.3min\n",
      "[CV] n_estimators=690, min_samples_split=10, min_samples_leaf=4, max_features=auto, max_depth=40, bootstrap=True \n"
     ]
    },
    {
     "name": "stderr",
     "output_type": "stream",
     "text": [
      "/opt/conda/envs/Python36/lib/python3.6/site-packages/sklearn/metrics/classification.py:1143: UndefinedMetricWarning: F-score is ill-defined and being set to 0.0 due to no predicted samples.\n",
      "  'precision', 'predicted', average, warn_for)\n",
      "/opt/conda/envs/Python36/lib/python3.6/site-packages/sklearn/metrics/classification.py:1143: UndefinedMetricWarning: F-score is ill-defined and being set to 0.0 due to no predicted samples.\n",
      "  'precision', 'predicted', average, warn_for)\n"
     ]
    },
    {
     "name": "stdout",
     "output_type": "stream",
     "text": [
      "[CV]  n_estimators=690, min_samples_split=10, min_samples_leaf=4, max_features=auto, max_depth=40, bootstrap=True, total= 1.0min\n",
      "[CV] n_estimators=690, min_samples_split=10, min_samples_leaf=4, max_features=auto, max_depth=40, bootstrap=True \n"
     ]
    },
    {
     "name": "stderr",
     "output_type": "stream",
     "text": [
      "/opt/conda/envs/Python36/lib/python3.6/site-packages/sklearn/metrics/classification.py:1143: UndefinedMetricWarning: F-score is ill-defined and being set to 0.0 due to no predicted samples.\n",
      "  'precision', 'predicted', average, warn_for)\n",
      "/opt/conda/envs/Python36/lib/python3.6/site-packages/sklearn/metrics/classification.py:1143: UndefinedMetricWarning: F-score is ill-defined and being set to 0.0 due to no predicted samples.\n",
      "  'precision', 'predicted', average, warn_for)\n"
     ]
    },
    {
     "name": "stdout",
     "output_type": "stream",
     "text": [
      "[CV]  n_estimators=690, min_samples_split=10, min_samples_leaf=4, max_features=auto, max_depth=40, bootstrap=True, total= 1.0min\n",
      "[CV] n_estimators=690, min_samples_split=10, min_samples_leaf=4, max_features=auto, max_depth=40, bootstrap=True \n"
     ]
    },
    {
     "name": "stderr",
     "output_type": "stream",
     "text": [
      "/opt/conda/envs/Python36/lib/python3.6/site-packages/sklearn/metrics/classification.py:1143: UndefinedMetricWarning: F-score is ill-defined and being set to 0.0 due to no predicted samples.\n",
      "  'precision', 'predicted', average, warn_for)\n"
     ]
    },
    {
     "name": "stdout",
     "output_type": "stream",
     "text": [
      "[CV]  n_estimators=690, min_samples_split=10, min_samples_leaf=4, max_features=auto, max_depth=40, bootstrap=True, total= 1.0min\n",
      "[CV] n_estimators=554, min_samples_split=2, min_samples_leaf=4, max_features=auto, max_depth=100, bootstrap=True \n"
     ]
    },
    {
     "name": "stderr",
     "output_type": "stream",
     "text": [
      "/opt/conda/envs/Python36/lib/python3.6/site-packages/sklearn/metrics/classification.py:1143: UndefinedMetricWarning: F-score is ill-defined and being set to 0.0 due to no predicted samples.\n",
      "  'precision', 'predicted', average, warn_for)\n"
     ]
    },
    {
     "name": "stdout",
     "output_type": "stream",
     "text": [
      "[CV]  n_estimators=554, min_samples_split=2, min_samples_leaf=4, max_features=auto, max_depth=100, bootstrap=True, total=  49.8s\n",
      "[CV] n_estimators=554, min_samples_split=2, min_samples_leaf=4, max_features=auto, max_depth=100, bootstrap=True \n"
     ]
    },
    {
     "name": "stderr",
     "output_type": "stream",
     "text": [
      "/opt/conda/envs/Python36/lib/python3.6/site-packages/sklearn/metrics/classification.py:1143: UndefinedMetricWarning: F-score is ill-defined and being set to 0.0 due to no predicted samples.\n",
      "  'precision', 'predicted', average, warn_for)\n",
      "/opt/conda/envs/Python36/lib/python3.6/site-packages/sklearn/metrics/classification.py:1143: UndefinedMetricWarning: F-score is ill-defined and being set to 0.0 due to no predicted samples.\n",
      "  'precision', 'predicted', average, warn_for)\n"
     ]
    },
    {
     "name": "stdout",
     "output_type": "stream",
     "text": [
      "[CV]  n_estimators=554, min_samples_split=2, min_samples_leaf=4, max_features=auto, max_depth=100, bootstrap=True, total=  49.5s\n",
      "[CV] n_estimators=554, min_samples_split=2, min_samples_leaf=4, max_features=auto, max_depth=100, bootstrap=True \n"
     ]
    },
    {
     "name": "stderr",
     "output_type": "stream",
     "text": [
      "/opt/conda/envs/Python36/lib/python3.6/site-packages/sklearn/metrics/classification.py:1143: UndefinedMetricWarning: F-score is ill-defined and being set to 0.0 due to no predicted samples.\n",
      "  'precision', 'predicted', average, warn_for)\n"
     ]
    },
    {
     "name": "stdout",
     "output_type": "stream",
     "text": [
      "[CV]  n_estimators=554, min_samples_split=2, min_samples_leaf=4, max_features=auto, max_depth=100, bootstrap=True, total=  49.4s\n",
      "[CV] n_estimators=954, min_samples_split=10, min_samples_leaf=1, max_features=sqrt, max_depth=90, bootstrap=False \n",
      "[CV]  n_estimators=954, min_samples_split=10, min_samples_leaf=1, max_features=sqrt, max_depth=90, bootstrap=False, total= 2.5min\n",
      "[CV] n_estimators=954, min_samples_split=10, min_samples_leaf=1, max_features=sqrt, max_depth=90, bootstrap=False \n",
      "[CV]  n_estimators=954, min_samples_split=10, min_samples_leaf=1, max_features=sqrt, max_depth=90, bootstrap=False, total= 2.5min\n",
      "[CV] n_estimators=954, min_samples_split=10, min_samples_leaf=1, max_features=sqrt, max_depth=90, bootstrap=False \n",
      "[CV]  n_estimators=954, min_samples_split=10, min_samples_leaf=1, max_features=sqrt, max_depth=90, bootstrap=False, total= 2.5min\n",
      "[CV] n_estimators=663, min_samples_split=2, min_samples_leaf=2, max_features=auto, max_depth=10, bootstrap=False \n",
      "[CV]  n_estimators=663, min_samples_split=2, min_samples_leaf=2, max_features=auto, max_depth=10, bootstrap=False, total= 1.2min\n",
      "[CV] n_estimators=663, min_samples_split=2, min_samples_leaf=2, max_features=auto, max_depth=10, bootstrap=False \n",
      "[CV]  n_estimators=663, min_samples_split=2, min_samples_leaf=2, max_features=auto, max_depth=10, bootstrap=False, total= 1.2min\n",
      "[CV] n_estimators=663, min_samples_split=2, min_samples_leaf=2, max_features=auto, max_depth=10, bootstrap=False \n",
      "[CV]  n_estimators=663, min_samples_split=2, min_samples_leaf=2, max_features=auto, max_depth=10, bootstrap=False, total= 1.2min\n",
      "[CV] n_estimators=309, min_samples_split=5, min_samples_leaf=4, max_features=sqrt, max_depth=90, bootstrap=True \n"
     ]
    },
    {
     "name": "stderr",
     "output_type": "stream",
     "text": [
      "/opt/conda/envs/Python36/lib/python3.6/site-packages/sklearn/metrics/classification.py:1143: UndefinedMetricWarning: F-score is ill-defined and being set to 0.0 due to no predicted samples.\n",
      "  'precision', 'predicted', average, warn_for)\n"
     ]
    },
    {
     "name": "stdout",
     "output_type": "stream",
     "text": [
      "[CV]  n_estimators=309, min_samples_split=5, min_samples_leaf=4, max_features=sqrt, max_depth=90, bootstrap=True, total=  28.2s\n",
      "[CV] n_estimators=309, min_samples_split=5, min_samples_leaf=4, max_features=sqrt, max_depth=90, bootstrap=True \n"
     ]
    },
    {
     "name": "stderr",
     "output_type": "stream",
     "text": [
      "/opt/conda/envs/Python36/lib/python3.6/site-packages/sklearn/metrics/classification.py:1143: UndefinedMetricWarning: F-score is ill-defined and being set to 0.0 due to no predicted samples.\n",
      "  'precision', 'predicted', average, warn_for)\n",
      "/opt/conda/envs/Python36/lib/python3.6/site-packages/sklearn/metrics/classification.py:1143: UndefinedMetricWarning: F-score is ill-defined and being set to 0.0 due to no predicted samples.\n",
      "  'precision', 'predicted', average, warn_for)\n"
     ]
    },
    {
     "name": "stdout",
     "output_type": "stream",
     "text": [
      "[CV]  n_estimators=309, min_samples_split=5, min_samples_leaf=4, max_features=sqrt, max_depth=90, bootstrap=True, total=  27.8s\n",
      "[CV] n_estimators=309, min_samples_split=5, min_samples_leaf=4, max_features=sqrt, max_depth=90, bootstrap=True \n"
     ]
    },
    {
     "name": "stderr",
     "output_type": "stream",
     "text": [
      "/opt/conda/envs/Python36/lib/python3.6/site-packages/sklearn/metrics/classification.py:1143: UndefinedMetricWarning: F-score is ill-defined and being set to 0.0 due to no predicted samples.\n",
      "  'precision', 'predicted', average, warn_for)\n"
     ]
    },
    {
     "name": "stdout",
     "output_type": "stream",
     "text": [
      "[CV]  n_estimators=309, min_samples_split=5, min_samples_leaf=4, max_features=sqrt, max_depth=90, bootstrap=True, total=  27.6s\n",
      "[CV] n_estimators=918, min_samples_split=10, min_samples_leaf=2, max_features=sqrt, max_depth=110, bootstrap=False \n",
      "[CV]  n_estimators=918, min_samples_split=10, min_samples_leaf=2, max_features=sqrt, max_depth=110, bootstrap=False, total= 2.3min\n",
      "[CV] n_estimators=918, min_samples_split=10, min_samples_leaf=2, max_features=sqrt, max_depth=110, bootstrap=False \n",
      "[CV]  n_estimators=918, min_samples_split=10, min_samples_leaf=2, max_features=sqrt, max_depth=110, bootstrap=False, total= 2.3min\n",
      "[CV] n_estimators=918, min_samples_split=10, min_samples_leaf=2, max_features=sqrt, max_depth=110, bootstrap=False \n",
      "[CV]  n_estimators=918, min_samples_split=10, min_samples_leaf=2, max_features=sqrt, max_depth=110, bootstrap=False, total= 2.3min\n",
      "[CV] n_estimators=872, min_samples_split=5, min_samples_leaf=4, max_features=sqrt, max_depth=10, bootstrap=True \n"
     ]
    },
    {
     "name": "stderr",
     "output_type": "stream",
     "text": [
      "/opt/conda/envs/Python36/lib/python3.6/site-packages/sklearn/metrics/classification.py:1143: UndefinedMetricWarning: F-score is ill-defined and being set to 0.0 due to no predicted samples.\n",
      "  'precision', 'predicted', average, warn_for)\n",
      "/opt/conda/envs/Python36/lib/python3.6/site-packages/sklearn/metrics/classification.py:1143: UndefinedMetricWarning: F-score is ill-defined and being set to 0.0 due to no predicted samples.\n",
      "  'precision', 'predicted', average, warn_for)\n"
     ]
    },
    {
     "name": "stdout",
     "output_type": "stream",
     "text": [
      "[CV]  n_estimators=872, min_samples_split=5, min_samples_leaf=4, max_features=sqrt, max_depth=10, bootstrap=True, total= 1.0min\n",
      "[CV] n_estimators=872, min_samples_split=5, min_samples_leaf=4, max_features=sqrt, max_depth=10, bootstrap=True \n"
     ]
    },
    {
     "name": "stderr",
     "output_type": "stream",
     "text": [
      "/opt/conda/envs/Python36/lib/python3.6/site-packages/sklearn/metrics/classification.py:1143: UndefinedMetricWarning: F-score is ill-defined and being set to 0.0 due to no predicted samples.\n",
      "  'precision', 'predicted', average, warn_for)\n",
      "/opt/conda/envs/Python36/lib/python3.6/site-packages/sklearn/metrics/classification.py:1143: UndefinedMetricWarning: F-score is ill-defined and being set to 0.0 due to no predicted samples.\n",
      "  'precision', 'predicted', average, warn_for)\n"
     ]
    },
    {
     "name": "stdout",
     "output_type": "stream",
     "text": [
      "[CV]  n_estimators=872, min_samples_split=5, min_samples_leaf=4, max_features=sqrt, max_depth=10, bootstrap=True, total= 1.0min\n",
      "[CV] n_estimators=872, min_samples_split=5, min_samples_leaf=4, max_features=sqrt, max_depth=10, bootstrap=True \n"
     ]
    },
    {
     "name": "stderr",
     "output_type": "stream",
     "text": [
      "/opt/conda/envs/Python36/lib/python3.6/site-packages/sklearn/metrics/classification.py:1143: UndefinedMetricWarning: F-score is ill-defined and being set to 0.0 due to no predicted samples.\n",
      "  'precision', 'predicted', average, warn_for)\n"
     ]
    },
    {
     "name": "stdout",
     "output_type": "stream",
     "text": [
      "[CV]  n_estimators=872, min_samples_split=5, min_samples_leaf=4, max_features=sqrt, max_depth=10, bootstrap=True, total= 1.1min\n",
      "[CV] n_estimators=727, min_samples_split=5, min_samples_leaf=4, max_features=auto, max_depth=10, bootstrap=True \n"
     ]
    },
    {
     "name": "stderr",
     "output_type": "stream",
     "text": [
      "/opt/conda/envs/Python36/lib/python3.6/site-packages/sklearn/metrics/classification.py:1143: UndefinedMetricWarning: F-score is ill-defined and being set to 0.0 due to no predicted samples.\n",
      "  'precision', 'predicted', average, warn_for)\n",
      "/opt/conda/envs/Python36/lib/python3.6/site-packages/sklearn/metrics/classification.py:1143: UndefinedMetricWarning: F-score is ill-defined and being set to 0.0 due to no predicted samples.\n",
      "  'precision', 'predicted', average, warn_for)\n"
     ]
    },
    {
     "name": "stdout",
     "output_type": "stream",
     "text": [
      "[CV]  n_estimators=727, min_samples_split=5, min_samples_leaf=4, max_features=auto, max_depth=10, bootstrap=True, total=  55.0s\n",
      "[CV] n_estimators=727, min_samples_split=5, min_samples_leaf=4, max_features=auto, max_depth=10, bootstrap=True \n"
     ]
    },
    {
     "name": "stderr",
     "output_type": "stream",
     "text": [
      "/opt/conda/envs/Python36/lib/python3.6/site-packages/sklearn/metrics/classification.py:1143: UndefinedMetricWarning: F-score is ill-defined and being set to 0.0 due to no predicted samples.\n",
      "  'precision', 'predicted', average, warn_for)\n",
      "/opt/conda/envs/Python36/lib/python3.6/site-packages/sklearn/metrics/classification.py:1143: UndefinedMetricWarning: F-score is ill-defined and being set to 0.0 due to no predicted samples.\n",
      "  'precision', 'predicted', average, warn_for)\n"
     ]
    },
    {
     "name": "stdout",
     "output_type": "stream",
     "text": [
      "[CV]  n_estimators=727, min_samples_split=5, min_samples_leaf=4, max_features=auto, max_depth=10, bootstrap=True, total=  55.1s\n",
      "[CV] n_estimators=727, min_samples_split=5, min_samples_leaf=4, max_features=auto, max_depth=10, bootstrap=True \n"
     ]
    },
    {
     "name": "stderr",
     "output_type": "stream",
     "text": [
      "/opt/conda/envs/Python36/lib/python3.6/site-packages/sklearn/metrics/classification.py:1143: UndefinedMetricWarning: F-score is ill-defined and being set to 0.0 due to no predicted samples.\n",
      "  'precision', 'predicted', average, warn_for)\n"
     ]
    },
    {
     "name": "stdout",
     "output_type": "stream",
     "text": [
      "[CV]  n_estimators=727, min_samples_split=5, min_samples_leaf=4, max_features=auto, max_depth=10, bootstrap=True, total=  51.7s\n",
      "[CV] n_estimators=400, min_samples_split=2, min_samples_leaf=4, max_features=auto, max_depth=20, bootstrap=True \n"
     ]
    },
    {
     "name": "stderr",
     "output_type": "stream",
     "text": [
      "/opt/conda/envs/Python36/lib/python3.6/site-packages/sklearn/metrics/classification.py:1143: UndefinedMetricWarning: F-score is ill-defined and being set to 0.0 due to no predicted samples.\n",
      "  'precision', 'predicted', average, warn_for)\n",
      "/opt/conda/envs/Python36/lib/python3.6/site-packages/sklearn/metrics/classification.py:1143: UndefinedMetricWarning: F-score is ill-defined and being set to 0.0 due to no predicted samples.\n",
      "  'precision', 'predicted', average, warn_for)\n"
     ]
    },
    {
     "name": "stdout",
     "output_type": "stream",
     "text": [
      "[CV]  n_estimators=400, min_samples_split=2, min_samples_leaf=4, max_features=auto, max_depth=20, bootstrap=True, total=  36.3s\n",
      "[CV] n_estimators=400, min_samples_split=2, min_samples_leaf=4, max_features=auto, max_depth=20, bootstrap=True \n"
     ]
    },
    {
     "name": "stderr",
     "output_type": "stream",
     "text": [
      "/opt/conda/envs/Python36/lib/python3.6/site-packages/sklearn/metrics/classification.py:1143: UndefinedMetricWarning: F-score is ill-defined and being set to 0.0 due to no predicted samples.\n",
      "  'precision', 'predicted', average, warn_for)\n",
      "/opt/conda/envs/Python36/lib/python3.6/site-packages/sklearn/metrics/classification.py:1143: UndefinedMetricWarning: F-score is ill-defined and being set to 0.0 due to no predicted samples.\n",
      "  'precision', 'predicted', average, warn_for)\n"
     ]
    },
    {
     "name": "stdout",
     "output_type": "stream",
     "text": [
      "[CV]  n_estimators=400, min_samples_split=2, min_samples_leaf=4, max_features=auto, max_depth=20, bootstrap=True, total=  35.6s\n",
      "[CV] n_estimators=400, min_samples_split=2, min_samples_leaf=4, max_features=auto, max_depth=20, bootstrap=True \n"
     ]
    },
    {
     "name": "stderr",
     "output_type": "stream",
     "text": [
      "/opt/conda/envs/Python36/lib/python3.6/site-packages/sklearn/metrics/classification.py:1143: UndefinedMetricWarning: F-score is ill-defined and being set to 0.0 due to no predicted samples.\n",
      "  'precision', 'predicted', average, warn_for)\n"
     ]
    },
    {
     "name": "stdout",
     "output_type": "stream",
     "text": [
      "[CV]  n_estimators=400, min_samples_split=2, min_samples_leaf=4, max_features=auto, max_depth=20, bootstrap=True, total=  36.1s\n",
      "[CV] n_estimators=200, min_samples_split=10, min_samples_leaf=4, max_features=sqrt, max_depth=30, bootstrap=True \n"
     ]
    },
    {
     "name": "stderr",
     "output_type": "stream",
     "text": [
      "/opt/conda/envs/Python36/lib/python3.6/site-packages/sklearn/metrics/classification.py:1143: UndefinedMetricWarning: F-score is ill-defined and being set to 0.0 due to no predicted samples.\n",
      "  'precision', 'predicted', average, warn_for)\n",
      "/opt/conda/envs/Python36/lib/python3.6/site-packages/sklearn/metrics/classification.py:1143: UndefinedMetricWarning: F-score is ill-defined and being set to 0.0 due to no predicted samples.\n",
      "  'precision', 'predicted', average, warn_for)\n"
     ]
    },
    {
     "name": "stdout",
     "output_type": "stream",
     "text": [
      "[CV]  n_estimators=200, min_samples_split=10, min_samples_leaf=4, max_features=sqrt, max_depth=30, bootstrap=True, total=  18.2s\n",
      "[CV] n_estimators=200, min_samples_split=10, min_samples_leaf=4, max_features=sqrt, max_depth=30, bootstrap=True \n"
     ]
    },
    {
     "name": "stderr",
     "output_type": "stream",
     "text": [
      "/opt/conda/envs/Python36/lib/python3.6/site-packages/sklearn/metrics/classification.py:1143: UndefinedMetricWarning: F-score is ill-defined and being set to 0.0 due to no predicted samples.\n",
      "  'precision', 'predicted', average, warn_for)\n",
      "/opt/conda/envs/Python36/lib/python3.6/site-packages/sklearn/metrics/classification.py:1143: UndefinedMetricWarning: F-score is ill-defined and being set to 0.0 due to no predicted samples.\n",
      "  'precision', 'predicted', average, warn_for)\n"
     ]
    },
    {
     "name": "stdout",
     "output_type": "stream",
     "text": [
      "[CV]  n_estimators=200, min_samples_split=10, min_samples_leaf=4, max_features=sqrt, max_depth=30, bootstrap=True, total=  17.8s\n",
      "[CV] n_estimators=200, min_samples_split=10, min_samples_leaf=4, max_features=sqrt, max_depth=30, bootstrap=True \n"
     ]
    },
    {
     "name": "stderr",
     "output_type": "stream",
     "text": [
      "/opt/conda/envs/Python36/lib/python3.6/site-packages/sklearn/metrics/classification.py:1143: UndefinedMetricWarning: F-score is ill-defined and being set to 0.0 due to no predicted samples.\n",
      "  'precision', 'predicted', average, warn_for)\n"
     ]
    },
    {
     "name": "stdout",
     "output_type": "stream",
     "text": [
      "[CV]  n_estimators=200, min_samples_split=10, min_samples_leaf=4, max_features=sqrt, max_depth=30, bootstrap=True, total=  17.6s\n",
      "[CV] n_estimators=272, min_samples_split=2, min_samples_leaf=1, max_features=auto, max_depth=100, bootstrap=False \n",
      "[CV]  n_estimators=272, min_samples_split=2, min_samples_leaf=1, max_features=auto, max_depth=100, bootstrap=False, total=  42.6s\n",
      "[CV] n_estimators=272, min_samples_split=2, min_samples_leaf=1, max_features=auto, max_depth=100, bootstrap=False \n",
      "[CV]  n_estimators=272, min_samples_split=2, min_samples_leaf=1, max_features=auto, max_depth=100, bootstrap=False, total=  42.7s\n",
      "[CV] n_estimators=272, min_samples_split=2, min_samples_leaf=1, max_features=auto, max_depth=100, bootstrap=False \n",
      "[CV]  n_estimators=272, min_samples_split=2, min_samples_leaf=1, max_features=auto, max_depth=100, bootstrap=False, total=  42.6s\n",
      "[CV] n_estimators=900, min_samples_split=5, min_samples_leaf=2, max_features=sqrt, max_depth=100, bootstrap=False \n",
      "[CV]  n_estimators=900, min_samples_split=5, min_samples_leaf=2, max_features=sqrt, max_depth=100, bootstrap=False, total= 2.3min\n",
      "[CV] n_estimators=900, min_samples_split=5, min_samples_leaf=2, max_features=sqrt, max_depth=100, bootstrap=False \n",
      "[CV]  n_estimators=900, min_samples_split=5, min_samples_leaf=2, max_features=sqrt, max_depth=100, bootstrap=False, total= 2.3min\n",
      "[CV] n_estimators=900, min_samples_split=5, min_samples_leaf=2, max_features=sqrt, max_depth=100, bootstrap=False \n",
      "[CV]  n_estimators=900, min_samples_split=5, min_samples_leaf=2, max_features=sqrt, max_depth=100, bootstrap=False, total= 2.3min\n",
      "[CV] n_estimators=718, min_samples_split=5, min_samples_leaf=2, max_features=sqrt, max_depth=100, bootstrap=True \n"
     ]
    },
    {
     "name": "stderr",
     "output_type": "stream",
     "text": [
      "/opt/conda/envs/Python36/lib/python3.6/site-packages/sklearn/metrics/classification.py:1143: UndefinedMetricWarning: F-score is ill-defined and being set to 0.0 due to no predicted samples.\n",
      "  'precision', 'predicted', average, warn_for)\n"
     ]
    },
    {
     "name": "stdout",
     "output_type": "stream",
     "text": [
      "[CV]  n_estimators=718, min_samples_split=5, min_samples_leaf=2, max_features=sqrt, max_depth=100, bootstrap=True, total= 1.1min\n",
      "[CV] n_estimators=718, min_samples_split=5, min_samples_leaf=2, max_features=sqrt, max_depth=100, bootstrap=True \n"
     ]
    },
    {
     "name": "stderr",
     "output_type": "stream",
     "text": [
      "/opt/conda/envs/Python36/lib/python3.6/site-packages/sklearn/metrics/classification.py:1143: UndefinedMetricWarning: F-score is ill-defined and being set to 0.0 due to no predicted samples.\n",
      "  'precision', 'predicted', average, warn_for)\n"
     ]
    },
    {
     "name": "stdout",
     "output_type": "stream",
     "text": [
      "[CV]  n_estimators=718, min_samples_split=5, min_samples_leaf=2, max_features=sqrt, max_depth=100, bootstrap=True, total= 1.1min\n",
      "[CV] n_estimators=718, min_samples_split=5, min_samples_leaf=2, max_features=sqrt, max_depth=100, bootstrap=True \n"
     ]
    },
    {
     "name": "stderr",
     "output_type": "stream",
     "text": [
      "/opt/conda/envs/Python36/lib/python3.6/site-packages/sklearn/metrics/classification.py:1143: UndefinedMetricWarning: F-score is ill-defined and being set to 0.0 due to no predicted samples.\n",
      "  'precision', 'predicted', average, warn_for)\n"
     ]
    },
    {
     "name": "stdout",
     "output_type": "stream",
     "text": [
      "[CV]  n_estimators=718, min_samples_split=5, min_samples_leaf=2, max_features=sqrt, max_depth=100, bootstrap=True, total= 1.1min\n",
      "[CV] n_estimators=727, min_samples_split=10, min_samples_leaf=4, max_features=sqrt, max_depth=110, bootstrap=True \n"
     ]
    },
    {
     "name": "stderr",
     "output_type": "stream",
     "text": [
      "/opt/conda/envs/Python36/lib/python3.6/site-packages/sklearn/metrics/classification.py:1143: UndefinedMetricWarning: F-score is ill-defined and being set to 0.0 due to no predicted samples.\n",
      "  'precision', 'predicted', average, warn_for)\n",
      "/opt/conda/envs/Python36/lib/python3.6/site-packages/sklearn/metrics/classification.py:1143: UndefinedMetricWarning: F-score is ill-defined and being set to 0.0 due to no predicted samples.\n",
      "  'precision', 'predicted', average, warn_for)\n"
     ]
    },
    {
     "name": "stdout",
     "output_type": "stream",
     "text": [
      "[CV]  n_estimators=727, min_samples_split=10, min_samples_leaf=4, max_features=sqrt, max_depth=110, bootstrap=True, total= 1.1min\n",
      "[CV] n_estimators=727, min_samples_split=10, min_samples_leaf=4, max_features=sqrt, max_depth=110, bootstrap=True \n"
     ]
    },
    {
     "name": "stderr",
     "output_type": "stream",
     "text": [
      "/opt/conda/envs/Python36/lib/python3.6/site-packages/sklearn/metrics/classification.py:1143: UndefinedMetricWarning: F-score is ill-defined and being set to 0.0 due to no predicted samples.\n",
      "  'precision', 'predicted', average, warn_for)\n",
      "/opt/conda/envs/Python36/lib/python3.6/site-packages/sklearn/metrics/classification.py:1143: UndefinedMetricWarning: F-score is ill-defined and being set to 0.0 due to no predicted samples.\n",
      "  'precision', 'predicted', average, warn_for)\n"
     ]
    },
    {
     "name": "stdout",
     "output_type": "stream",
     "text": [
      "[CV]  n_estimators=727, min_samples_split=10, min_samples_leaf=4, max_features=sqrt, max_depth=110, bootstrap=True, total= 1.1min\n",
      "[CV] n_estimators=727, min_samples_split=10, min_samples_leaf=4, max_features=sqrt, max_depth=110, bootstrap=True \n"
     ]
    },
    {
     "name": "stderr",
     "output_type": "stream",
     "text": [
      "/opt/conda/envs/Python36/lib/python3.6/site-packages/sklearn/metrics/classification.py:1143: UndefinedMetricWarning: F-score is ill-defined and being set to 0.0 due to no predicted samples.\n",
      "  'precision', 'predicted', average, warn_for)\n"
     ]
    },
    {
     "name": "stdout",
     "output_type": "stream",
     "text": [
      "[CV]  n_estimators=727, min_samples_split=10, min_samples_leaf=4, max_features=sqrt, max_depth=110, bootstrap=True, total= 1.1min\n",
      "[CV] n_estimators=945, min_samples_split=5, min_samples_leaf=4, max_features=sqrt, max_depth=40, bootstrap=False \n",
      "[CV]  n_estimators=945, min_samples_split=5, min_samples_leaf=4, max_features=sqrt, max_depth=40, bootstrap=False, total= 2.3min\n",
      "[CV] n_estimators=945, min_samples_split=5, min_samples_leaf=4, max_features=sqrt, max_depth=40, bootstrap=False \n",
      "[CV]  n_estimators=945, min_samples_split=5, min_samples_leaf=4, max_features=sqrt, max_depth=40, bootstrap=False, total= 2.3min\n",
      "[CV] n_estimators=945, min_samples_split=5, min_samples_leaf=4, max_features=sqrt, max_depth=40, bootstrap=False \n",
      "[CV]  n_estimators=945, min_samples_split=5, min_samples_leaf=4, max_features=sqrt, max_depth=40, bootstrap=False, total= 2.3min\n",
      "[CV] n_estimators=972, min_samples_split=2, min_samples_leaf=1, max_features=sqrt, max_depth=40, bootstrap=True \n",
      "[CV]  n_estimators=972, min_samples_split=2, min_samples_leaf=1, max_features=sqrt, max_depth=40, bootstrap=True, total= 1.6min\n",
      "[CV] n_estimators=972, min_samples_split=2, min_samples_leaf=1, max_features=sqrt, max_depth=40, bootstrap=True \n",
      "[CV]  n_estimators=972, min_samples_split=2, min_samples_leaf=1, max_features=sqrt, max_depth=40, bootstrap=True, total= 1.6min\n",
      "[CV] n_estimators=972, min_samples_split=2, min_samples_leaf=1, max_features=sqrt, max_depth=40, bootstrap=True \n",
      "[CV]  n_estimators=972, min_samples_split=2, min_samples_leaf=1, max_features=sqrt, max_depth=40, bootstrap=True, total= 1.5min\n",
      "[CV] n_estimators=827, min_samples_split=5, min_samples_leaf=2, max_features=auto, max_depth=40, bootstrap=False \n",
      "[CV]  n_estimators=827, min_samples_split=5, min_samples_leaf=2, max_features=auto, max_depth=40, bootstrap=False, total= 2.1min\n",
      "[CV] n_estimators=827, min_samples_split=5, min_samples_leaf=2, max_features=auto, max_depth=40, bootstrap=False \n",
      "[CV]  n_estimators=827, min_samples_split=5, min_samples_leaf=2, max_features=auto, max_depth=40, bootstrap=False, total= 2.1min\n",
      "[CV] n_estimators=827, min_samples_split=5, min_samples_leaf=2, max_features=auto, max_depth=40, bootstrap=False \n",
      "[CV]  n_estimators=827, min_samples_split=5, min_samples_leaf=2, max_features=auto, max_depth=40, bootstrap=False, total= 2.1min\n",
      "[CV] n_estimators=409, min_samples_split=2, min_samples_leaf=1, max_features=auto, max_depth=None, bootstrap=False \n",
      "[CV]  n_estimators=409, min_samples_split=2, min_samples_leaf=1, max_features=auto, max_depth=None, bootstrap=False, total= 1.1min\n",
      "[CV] n_estimators=409, min_samples_split=2, min_samples_leaf=1, max_features=auto, max_depth=None, bootstrap=False \n",
      "[CV]  n_estimators=409, min_samples_split=2, min_samples_leaf=1, max_features=auto, max_depth=None, bootstrap=False, total= 1.1min\n",
      "[CV] n_estimators=409, min_samples_split=2, min_samples_leaf=1, max_features=auto, max_depth=None, bootstrap=False \n",
      "[CV]  n_estimators=409, min_samples_split=2, min_samples_leaf=1, max_features=auto, max_depth=None, bootstrap=False, total= 1.1min\n",
      "[CV] n_estimators=627, min_samples_split=5, min_samples_leaf=2, max_features=auto, max_depth=30, bootstrap=False \n",
      "[CV]  n_estimators=627, min_samples_split=5, min_samples_leaf=2, max_features=auto, max_depth=30, bootstrap=False, total= 1.6min\n",
      "[CV] n_estimators=627, min_samples_split=5, min_samples_leaf=2, max_features=auto, max_depth=30, bootstrap=False \n",
      "[CV]  n_estimators=627, min_samples_split=5, min_samples_leaf=2, max_features=auto, max_depth=30, bootstrap=False, total= 1.6min\n",
      "[CV] n_estimators=627, min_samples_split=5, min_samples_leaf=2, max_features=auto, max_depth=30, bootstrap=False \n",
      "[CV]  n_estimators=627, min_samples_split=5, min_samples_leaf=2, max_features=auto, max_depth=30, bootstrap=False, total= 1.6min\n",
      "[CV] n_estimators=481, min_samples_split=2, min_samples_leaf=1, max_features=sqrt, max_depth=110, bootstrap=True \n",
      "[CV]  n_estimators=481, min_samples_split=2, min_samples_leaf=1, max_features=sqrt, max_depth=110, bootstrap=True, total=  46.1s\n",
      "[CV] n_estimators=481, min_samples_split=2, min_samples_leaf=1, max_features=sqrt, max_depth=110, bootstrap=True \n",
      "[CV]  n_estimators=481, min_samples_split=2, min_samples_leaf=1, max_features=sqrt, max_depth=110, bootstrap=True, total=  45.7s\n",
      "[CV] n_estimators=481, min_samples_split=2, min_samples_leaf=1, max_features=sqrt, max_depth=110, bootstrap=True \n",
      "[CV]  n_estimators=481, min_samples_split=2, min_samples_leaf=1, max_features=sqrt, max_depth=110, bootstrap=True, total=  45.7s\n",
      "[CV] n_estimators=381, min_samples_split=5, min_samples_leaf=2, max_features=auto, max_depth=110, bootstrap=True \n"
     ]
    },
    {
     "name": "stderr",
     "output_type": "stream",
     "text": [
      "/opt/conda/envs/Python36/lib/python3.6/site-packages/sklearn/metrics/classification.py:1143: UndefinedMetricWarning: F-score is ill-defined and being set to 0.0 due to no predicted samples.\n",
      "  'precision', 'predicted', average, warn_for)\n"
     ]
    },
    {
     "name": "stdout",
     "output_type": "stream",
     "text": [
      "[CV]  n_estimators=381, min_samples_split=5, min_samples_leaf=2, max_features=auto, max_depth=110, bootstrap=True, total=  35.0s\n",
      "[CV] n_estimators=381, min_samples_split=5, min_samples_leaf=2, max_features=auto, max_depth=110, bootstrap=True \n"
     ]
    },
    {
     "name": "stderr",
     "output_type": "stream",
     "text": [
      "/opt/conda/envs/Python36/lib/python3.6/site-packages/sklearn/metrics/classification.py:1143: UndefinedMetricWarning: F-score is ill-defined and being set to 0.0 due to no predicted samples.\n",
      "  'precision', 'predicted', average, warn_for)\n"
     ]
    },
    {
     "name": "stdout",
     "output_type": "stream",
     "text": [
      "[CV]  n_estimators=381, min_samples_split=5, min_samples_leaf=2, max_features=auto, max_depth=110, bootstrap=True, total=  35.6s\n",
      "[CV] n_estimators=381, min_samples_split=5, min_samples_leaf=2, max_features=auto, max_depth=110, bootstrap=True \n",
      "[CV]  n_estimators=381, min_samples_split=5, min_samples_leaf=2, max_features=auto, max_depth=110, bootstrap=True, total=  35.5s\n",
      "[CV] n_estimators=527, min_samples_split=2, min_samples_leaf=1, max_features=sqrt, max_depth=20, bootstrap=True \n",
      "[CV]  n_estimators=527, min_samples_split=2, min_samples_leaf=1, max_features=sqrt, max_depth=20, bootstrap=True, total=  49.2s\n",
      "[CV] n_estimators=527, min_samples_split=2, min_samples_leaf=1, max_features=sqrt, max_depth=20, bootstrap=True \n",
      "[CV]  n_estimators=527, min_samples_split=2, min_samples_leaf=1, max_features=sqrt, max_depth=20, bootstrap=True, total=  49.7s\n",
      "[CV] n_estimators=527, min_samples_split=2, min_samples_leaf=1, max_features=sqrt, max_depth=20, bootstrap=True \n",
      "[CV]  n_estimators=527, min_samples_split=2, min_samples_leaf=1, max_features=sqrt, max_depth=20, bootstrap=True, total=  49.7s\n",
      "[CV] n_estimators=909, min_samples_split=5, min_samples_leaf=1, max_features=auto, max_depth=10, bootstrap=True \n"
     ]
    },
    {
     "name": "stderr",
     "output_type": "stream",
     "text": [
      "/opt/conda/envs/Python36/lib/python3.6/site-packages/sklearn/metrics/classification.py:1143: UndefinedMetricWarning: F-score is ill-defined and being set to 0.0 due to no predicted samples.\n",
      "  'precision', 'predicted', average, warn_for)\n"
     ]
    },
    {
     "name": "stdout",
     "output_type": "stream",
     "text": [
      "[CV]  n_estimators=909, min_samples_split=5, min_samples_leaf=1, max_features=auto, max_depth=10, bootstrap=True, total= 1.1min\n",
      "[CV] n_estimators=909, min_samples_split=5, min_samples_leaf=1, max_features=auto, max_depth=10, bootstrap=True \n"
     ]
    },
    {
     "name": "stderr",
     "output_type": "stream",
     "text": [
      "/opt/conda/envs/Python36/lib/python3.6/site-packages/sklearn/metrics/classification.py:1143: UndefinedMetricWarning: F-score is ill-defined and being set to 0.0 due to no predicted samples.\n",
      "  'precision', 'predicted', average, warn_for)\n"
     ]
    },
    {
     "name": "stdout",
     "output_type": "stream",
     "text": [
      "[CV]  n_estimators=909, min_samples_split=5, min_samples_leaf=1, max_features=auto, max_depth=10, bootstrap=True, total= 1.1min\n",
      "[CV] n_estimators=909, min_samples_split=5, min_samples_leaf=1, max_features=auto, max_depth=10, bootstrap=True \n"
     ]
    },
    {
     "name": "stderr",
     "output_type": "stream",
     "text": [
      "/opt/conda/envs/Python36/lib/python3.6/site-packages/sklearn/metrics/classification.py:1143: UndefinedMetricWarning: F-score is ill-defined and being set to 0.0 due to no predicted samples.\n",
      "  'precision', 'predicted', average, warn_for)\n"
     ]
    },
    {
     "name": "stdout",
     "output_type": "stream",
     "text": [
      "[CV]  n_estimators=909, min_samples_split=5, min_samples_leaf=1, max_features=auto, max_depth=10, bootstrap=True, total= 1.1min\n",
      "[CV] n_estimators=263, min_samples_split=10, min_samples_leaf=1, max_features=sqrt, max_depth=110, bootstrap=True \n"
     ]
    },
    {
     "name": "stderr",
     "output_type": "stream",
     "text": [
      "/opt/conda/envs/Python36/lib/python3.6/site-packages/sklearn/metrics/classification.py:1143: UndefinedMetricWarning: F-score is ill-defined and being set to 0.0 due to no predicted samples.\n",
      "  'precision', 'predicted', average, warn_for)\n"
     ]
    },
    {
     "name": "stdout",
     "output_type": "stream",
     "text": [
      "[CV]  n_estimators=263, min_samples_split=10, min_samples_leaf=1, max_features=sqrt, max_depth=110, bootstrap=True, total=  24.8s\n",
      "[CV] n_estimators=263, min_samples_split=10, min_samples_leaf=1, max_features=sqrt, max_depth=110, bootstrap=True \n"
     ]
    },
    {
     "name": "stderr",
     "output_type": "stream",
     "text": [
      "/opt/conda/envs/Python36/lib/python3.6/site-packages/sklearn/metrics/classification.py:1143: UndefinedMetricWarning: F-score is ill-defined and being set to 0.0 due to no predicted samples.\n",
      "  'precision', 'predicted', average, warn_for)\n"
     ]
    },
    {
     "name": "stdout",
     "output_type": "stream",
     "text": [
      "[CV]  n_estimators=263, min_samples_split=10, min_samples_leaf=1, max_features=sqrt, max_depth=110, bootstrap=True, total=  24.9s\n",
      "[CV] n_estimators=263, min_samples_split=10, min_samples_leaf=1, max_features=sqrt, max_depth=110, bootstrap=True \n"
     ]
    },
    {
     "name": "stderr",
     "output_type": "stream",
     "text": [
      "/opt/conda/envs/Python36/lib/python3.6/site-packages/sklearn/metrics/classification.py:1143: UndefinedMetricWarning: F-score is ill-defined and being set to 0.0 due to no predicted samples.\n",
      "  'precision', 'predicted', average, warn_for)\n"
     ]
    },
    {
     "name": "stdout",
     "output_type": "stream",
     "text": [
      "[CV]  n_estimators=263, min_samples_split=10, min_samples_leaf=1, max_features=sqrt, max_depth=110, bootstrap=True, total=  24.7s\n",
      "[CV] n_estimators=763, min_samples_split=2, min_samples_leaf=4, max_features=sqrt, max_depth=80, bootstrap=False \n",
      "[CV]  n_estimators=763, min_samples_split=2, min_samples_leaf=4, max_features=sqrt, max_depth=80, bootstrap=False, total= 1.8min\n",
      "[CV] n_estimators=763, min_samples_split=2, min_samples_leaf=4, max_features=sqrt, max_depth=80, bootstrap=False \n",
      "[CV]  n_estimators=763, min_samples_split=2, min_samples_leaf=4, max_features=sqrt, max_depth=80, bootstrap=False, total= 1.8min\n",
      "[CV] n_estimators=763, min_samples_split=2, min_samples_leaf=4, max_features=sqrt, max_depth=80, bootstrap=False \n",
      "[CV]  n_estimators=763, min_samples_split=2, min_samples_leaf=4, max_features=sqrt, max_depth=80, bootstrap=False, total= 1.9min\n",
      "[CV] n_estimators=1000, min_samples_split=2, min_samples_leaf=1, max_features=auto, max_depth=20, bootstrap=True \n",
      "[CV]  n_estimators=1000, min_samples_split=2, min_samples_leaf=1, max_features=auto, max_depth=20, bootstrap=True, total= 1.6min\n",
      "[CV] n_estimators=1000, min_samples_split=2, min_samples_leaf=1, max_features=auto, max_depth=20, bootstrap=True \n",
      "[CV]  n_estimators=1000, min_samples_split=2, min_samples_leaf=1, max_features=auto, max_depth=20, bootstrap=True, total= 1.6min\n",
      "[CV] n_estimators=1000, min_samples_split=2, min_samples_leaf=1, max_features=auto, max_depth=20, bootstrap=True \n",
      "[CV]  n_estimators=1000, min_samples_split=2, min_samples_leaf=1, max_features=auto, max_depth=20, bootstrap=True, total= 1.6min\n"
     ]
    },
    {
     "name": "stderr",
     "output_type": "stream",
     "text": [
      "[Parallel(n_jobs=1)]: Done  90 out of  90 | elapsed: 116.0min finished\n"
     ]
    },
    {
     "data": {
      "text/plain": [
       "RandomizedSearchCV(cv=3, error_score='raise-deprecating',\n",
       "          estimator=RandomForestClassifier(bootstrap=True, class_weight=None, criterion='gini',\n",
       "            max_depth=None, max_features='auto', max_leaf_nodes=None,\n",
       "            min_impurity_decrease=0.0, min_impurity_split=None,\n",
       "            min_samples_leaf=1, min_samples_split=2,\n",
       "            min_weight_fraction_leaf=0.0, n_estimators='warn', n_jobs=None,\n",
       "            oob_score=False, random_state=None, verbose=0,\n",
       "            warm_start=False),\n",
       "          fit_params=None, iid='warn', n_iter=30, n_jobs=None,\n",
       "          param_distributions={'n_estimators': [100, 109, 118, 127, 136, 145, 154, 163, 172, 181, 190, 200, 209, 218, 227, 236, 245, 254, 263, 272, 281, 290, 300, 309, 318, 327, 336, 345, 354, 363, 372, 381, 390, 400, 409, 418, 427, 436, 445, 454, 463, 472, 481, 490, 500, 509, 518, 527, 536, 545, 554, 563, 57..., None], 'min_samples_split': [2, 5, 10], 'min_samples_leaf': [1, 2, 4], 'bootstrap': [True, False]},\n",
       "          pre_dispatch='2*n_jobs', random_state=42, refit=True,\n",
       "          return_train_score='warn', scoring='f1', verbose=2)"
      ]
     },
     "execution_count": 79,
     "metadata": {},
     "output_type": "execute_result"
    }
   ],
   "source": [
    "# Use the random grid to search for best hyperparameters\n",
    "# First create the base model to tune\n",
    "\n",
    "rf = RandomForestClassifier()\n",
    "\n",
    "# Random search of parameters, using 3 fold cross validation, \n",
    "# search across 30 different combinations\n",
    "rf_random = RandomizedSearchCV(estimator = rf, param_distributions = random_grid, n_iter = 30, cv = 3, verbose=2, random_state=42, scoring = 'f1')# Fit the random search model\n",
    "\n",
    "rf_random.fit(X_train_pca, y_train)"
   ]
  },
  {
   "cell_type": "code",
   "execution_count": 80,
   "metadata": {},
   "outputs": [
    {
     "data": {
      "text/plain": [
       "{'n_estimators': 272,\n",
       " 'min_samples_split': 2,\n",
       " 'min_samples_leaf': 1,\n",
       " 'max_features': 'auto',\n",
       " 'max_depth': 100,\n",
       " 'bootstrap': False}"
      ]
     },
     "execution_count": 80,
     "metadata": {},
     "output_type": "execute_result"
    }
   ],
   "source": [
    "rf_random.best_params_"
   ]
  },
  {
   "cell_type": "code",
   "execution_count": 91,
   "metadata": {},
   "outputs": [
    {
     "name": "stdout",
     "output_type": "stream",
     "text": [
      "              precision    recall  f1-score   support\n",
      "\n",
      "           0       1.00      1.00      1.00     34091\n",
      "           1       1.00      1.00      1.00       626\n",
      "\n",
      "   micro avg       1.00      1.00      1.00     34717\n",
      "   macro avg       1.00      1.00      1.00     34717\n",
      "weighted avg       1.00      1.00      1.00     34717\n",
      "\n"
     ]
    }
   ],
   "source": [
    "best_random = rf_random.best_estimator_\n",
    "print (classification_report(y_train, best_random.predict(X_train_pca)))"
   ]
  },
  {
   "cell_type": "code",
   "execution_count": 92,
   "metadata": {},
   "outputs": [
    {
     "name": "stdout",
     "output_type": "stream",
     "text": [
      "              precision    recall  f1-score   support\n",
      "\n",
      "           0       0.98      1.00      0.99      8523\n",
      "           1       0.12      0.01      0.01       157\n",
      "\n",
      "   micro avg       0.98      0.98      0.98      8680\n",
      "   macro avg       0.55      0.50      0.50      8680\n",
      "weighted avg       0.97      0.98      0.97      8680\n",
      "\n"
     ]
    }
   ],
   "source": [
    "print (classification_report(y_test, best_random.predict(X_test_pca)))"
   ]
  },
  {
   "cell_type": "markdown",
   "metadata": {},
   "source": [
    "## AdaBoost Classification"
   ]
  },
  {
   "cell_type": "code",
   "execution_count": 82,
   "metadata": {},
   "outputs": [
    {
     "name": "stdout",
     "output_type": "stream",
     "text": [
      "              precision    recall  f1-score   support\n",
      "\n",
      "           0       0.98      1.00      0.99     34091\n",
      "           1       1.00      0.00      0.00       626\n",
      "\n",
      "   micro avg       0.98      0.98      0.98     34717\n",
      "   macro avg       0.99      0.50      0.50     34717\n",
      "weighted avg       0.98      0.98      0.97     34717\n",
      "\n"
     ]
    }
   ],
   "source": [
    "clf = AdaBoostClassifier()\n",
    "clf.fit(X_train_pca, y_train)\n",
    "yhat = clf.predict(X_train_pca)\n",
    "print(classification_report(y_train, yhat))"
   ]
  },
  {
   "cell_type": "code",
   "execution_count": 83,
   "metadata": {},
   "outputs": [
    {
     "name": "stdout",
     "output_type": "stream",
     "text": [
      "              precision    recall  f1-score   support\n",
      "\n",
      "           0       0.98      1.00      0.99      8523\n",
      "           1       0.00      0.00      0.00       157\n",
      "\n",
      "   micro avg       0.98      0.98      0.98      8680\n",
      "   macro avg       0.49      0.50      0.50      8680\n",
      "weighted avg       0.96      0.98      0.97      8680\n",
      "\n"
     ]
    },
    {
     "name": "stderr",
     "output_type": "stream",
     "text": [
      "/opt/conda/envs/Python36/lib/python3.6/site-packages/sklearn/metrics/classification.py:1143: UndefinedMetricWarning: Precision and F-score are ill-defined and being set to 0.0 in labels with no predicted samples.\n",
      "  'precision', 'predicted', average, warn_for)\n",
      "/opt/conda/envs/Python36/lib/python3.6/site-packages/sklearn/metrics/classification.py:1143: UndefinedMetricWarning: Precision and F-score are ill-defined and being set to 0.0 in labels with no predicted samples.\n",
      "  'precision', 'predicted', average, warn_for)\n",
      "/opt/conda/envs/Python36/lib/python3.6/site-packages/sklearn/metrics/classification.py:1143: UndefinedMetricWarning: Precision and F-score are ill-defined and being set to 0.0 in labels with no predicted samples.\n",
      "  'precision', 'predicted', average, warn_for)\n"
     ]
    }
   ],
   "source": [
    "yhat = clf.predict(X_test_pca)\n",
    "print(classification_report(y_test, yhat))"
   ]
  },
  {
   "cell_type": "markdown",
   "metadata": {},
   "source": [
    "## Naive Bayes Classification"
   ]
  },
  {
   "cell_type": "code",
   "execution_count": 84,
   "metadata": {},
   "outputs": [
    {
     "name": "stdout",
     "output_type": "stream",
     "text": [
      "              precision    recall  f1-score   support\n",
      "\n",
      "           0       0.98      0.99      0.99     34091\n",
      "           1       0.07      0.03      0.04       626\n",
      "\n",
      "   micro avg       0.98      0.98      0.98     34717\n",
      "   macro avg       0.53      0.51      0.51     34717\n",
      "weighted avg       0.97      0.98      0.97     34717\n",
      "\n"
     ]
    }
   ],
   "source": [
    "clf = GaussianNB()\n",
    "clf.fit(X_train_pca, y_train)\n",
    "yhat = clf.predict(X_train_pca)\n",
    "print(classification_report(y_train, yhat))"
   ]
  },
  {
   "cell_type": "code",
   "execution_count": 85,
   "metadata": {},
   "outputs": [
    {
     "name": "stdout",
     "output_type": "stream",
     "text": [
      "              precision    recall  f1-score   support\n",
      "\n",
      "           0       0.98      0.99      0.99      8523\n",
      "           1       0.06      0.03      0.03       157\n",
      "\n",
      "   micro avg       0.97      0.97      0.97      8680\n",
      "   macro avg       0.52      0.51      0.51      8680\n",
      "weighted avg       0.97      0.97      0.97      8680\n",
      "\n"
     ]
    }
   ],
   "source": [
    "yhat = clf.predict(X_test_pca)\n",
    "print(classification_report(y_test, yhat))"
   ]
  },
  {
   "cell_type": "markdown",
   "metadata": {},
   "source": [
    "## Quadratic Discriminant Analysis Classification"
   ]
  },
  {
   "cell_type": "code",
   "execution_count": 86,
   "metadata": {},
   "outputs": [
    {
     "name": "stdout",
     "output_type": "stream",
     "text": [
      "              precision    recall  f1-score   support\n",
      "\n",
      "           0       0.98      0.96      0.97     34091\n",
      "           1       0.07      0.18      0.10       626\n",
      "\n",
      "   micro avg       0.95      0.95      0.95     34717\n",
      "   macro avg       0.53      0.57      0.54     34717\n",
      "weighted avg       0.97      0.95      0.96     34717\n",
      "\n"
     ]
    }
   ],
   "source": [
    "clf = QuadraticDiscriminantAnalysis()\n",
    "clf.fit(X_train_pca, y_train)\n",
    "yhat = clf.predict(X_train_pca)\n",
    "print(classification_report(y_train, yhat))"
   ]
  },
  {
   "cell_type": "code",
   "execution_count": 87,
   "metadata": {},
   "outputs": [
    {
     "name": "stdout",
     "output_type": "stream",
     "text": [
      "              precision    recall  f1-score   support\n",
      "\n",
      "           0       0.98      0.96      0.97      8523\n",
      "           1       0.07      0.15      0.09       157\n",
      "\n",
      "   micro avg       0.95      0.95      0.95      8680\n",
      "   macro avg       0.53      0.56      0.53      8680\n",
      "weighted avg       0.97      0.95      0.96      8680\n",
      "\n"
     ]
    }
   ],
   "source": [
    "yhat = clf.predict(X_test_pca)\n",
    "print(classification_report(y_test, yhat))"
   ]
  },
  {
   "cell_type": "markdown",
   "metadata": {},
   "source": [
    "## Multilayer Perceptron Classification"
   ]
  },
  {
   "cell_type": "code",
   "execution_count": 88,
   "metadata": {},
   "outputs": [
    {
     "name": "stdout",
     "output_type": "stream",
     "text": [
      "              precision    recall  f1-score   support\n",
      "\n",
      "           0       0.98      1.00      0.99     34091\n",
      "           1       0.00      0.00      0.00       626\n",
      "\n",
      "   micro avg       0.98      0.98      0.98     34717\n",
      "   macro avg       0.49      0.50      0.50     34717\n",
      "weighted avg       0.96      0.98      0.97     34717\n",
      "\n"
     ]
    },
    {
     "name": "stderr",
     "output_type": "stream",
     "text": [
      "/opt/conda/envs/Python36/lib/python3.6/site-packages/sklearn/metrics/classification.py:1143: UndefinedMetricWarning: Precision and F-score are ill-defined and being set to 0.0 in labels with no predicted samples.\n",
      "  'precision', 'predicted', average, warn_for)\n",
      "/opt/conda/envs/Python36/lib/python3.6/site-packages/sklearn/metrics/classification.py:1143: UndefinedMetricWarning: Precision and F-score are ill-defined and being set to 0.0 in labels with no predicted samples.\n",
      "  'precision', 'predicted', average, warn_for)\n",
      "/opt/conda/envs/Python36/lib/python3.6/site-packages/sklearn/metrics/classification.py:1143: UndefinedMetricWarning: Precision and F-score are ill-defined and being set to 0.0 in labels with no predicted samples.\n",
      "  'precision', 'predicted', average, warn_for)\n"
     ]
    }
   ],
   "source": [
    "clf = MLPClassifier(alpha=1, max_iter=1000)\n",
    "clf.fit(X_train_pca, y_train)\n",
    "yhat = clf.predict(X_train_pca)\n",
    "print(classification_report(y_train, yhat))"
   ]
  },
  {
   "cell_type": "code",
   "execution_count": 90,
   "metadata": {},
   "outputs": [
    {
     "name": "stdout",
     "output_type": "stream",
     "text": [
      "              precision    recall  f1-score   support\n",
      "\n",
      "           0       0.98      1.00      0.99      8523\n",
      "           1       0.00      0.00      0.00       157\n",
      "\n",
      "   micro avg       0.98      0.98      0.98      8680\n",
      "   macro avg       0.49      0.50      0.50      8680\n",
      "weighted avg       0.96      0.98      0.97      8680\n",
      "\n"
     ]
    },
    {
     "name": "stderr",
     "output_type": "stream",
     "text": [
      "/opt/conda/envs/Python36/lib/python3.6/site-packages/sklearn/metrics/classification.py:1143: UndefinedMetricWarning: Precision and F-score are ill-defined and being set to 0.0 in labels with no predicted samples.\n",
      "  'precision', 'predicted', average, warn_for)\n",
      "/opt/conda/envs/Python36/lib/python3.6/site-packages/sklearn/metrics/classification.py:1143: UndefinedMetricWarning: Precision and F-score are ill-defined and being set to 0.0 in labels with no predicted samples.\n",
      "  'precision', 'predicted', average, warn_for)\n",
      "/opt/conda/envs/Python36/lib/python3.6/site-packages/sklearn/metrics/classification.py:1143: UndefinedMetricWarning: Precision and F-score are ill-defined and being set to 0.0 in labels with no predicted samples.\n",
      "  'precision', 'predicted', average, warn_for)\n"
     ]
    }
   ],
   "source": [
    "yhat = clf.predict(X_test_pca)\n",
    "print(classification_report(y_test, yhat))"
   ]
  },
  {
   "cell_type": "markdown",
   "metadata": {},
   "source": [
    "# Results"
   ]
  },
  {
   "cell_type": "markdown",
   "metadata": {},
   "source": [
    "## Quick review of the performance of various classification models on both stroke and non-stroke (1 or 0) and in-sample vs. out-of-sample F1 scores"
   ]
  },
  {
   "cell_type": "markdown",
   "metadata": {},
   "source": [
    "| Model      | In-sample vs. Out-of-sample | Classification | Precision | Recall | F1 Score |\n",
    "| ----------- | ----------- | ----------- | ----------- |  ----------- | ----------- |\n",
    "| Logistic Regression      | In-sample       | No stroke | 0.98 | 1.0 | 0.99 |\n",
    "| Logistic Regression      | In-sample       | Stroke | 0.0 | 0.0 | 0.0 |\n",
    "| Logistic Regression      | Out-of-sample       | No stroke | 0.98 | 1.0 | 0.99 |\n",
    "| Logistic Regression      | Out-of-sample       | Stroke | 0.0 | 0.0 | 0.0 |\n",
    "| Regularized Logistic Regression      | In-sample       | No stroke | 0.98 | 1.0 | 0.99 |\n",
    "| Regularized Logistic Regression      | In-sample       | Stroke | 0.0 | 0.0 | 0.0 |\n",
    "| Regularized Logistic Regression      | Out-of-sample       | No stroke | 0.98 | 1.0 | 0.99 |\n",
    "| Regularized Logistic Regression      | Out-of-sample       | Stroke | 0.0 | 0.0 | 0.0 |\n",
    "| k-Nearest Neighbors      | In-sample       | No stroke | 1.0 | 1.0 | 1.0 |\n",
    "| k-Nearest Neighbors      | In-sample       | Stroke | 1.0 | 1.0 | 1.0 |\n",
    "| k-Nearest Neighbors      | Out-of-sample       | No stroke | 0.98 | 0.98 | 0.98 |\n",
    "| k-Nearest Neighbors      | Out-of-sample       | Stroke | 0.08 | 0.08 | 0.08 |\n",
    "| Decision Tree      | In-sample       | No stroke | 1.0 | 1.0 | 1.0 |\n",
    "| Decision Tree      | In-sample       | Stroke | 0.98 | 0.80 | 0.88 |\n",
    "| Decision Tree      | Out-of-sample       | No stroke | 0.98 | 0.98 | 0.98 |\n",
    "| Decision Tree      | Out-of-sample       | Stroke | 0.05 | 0.04 | 0.05 |\n",
    "| Support Vector Machine (2 class)      | In-sample       | No stroke | 0.98 | 1.0 | 0.99 |\n",
    "| Support Vector Machine (2 class)      | In-sample       | Stroke | 0.0 | 0.0 | 0.0 |\n",
    "| Support Vector Machine (2 class)      | Out-of-sample       | No stroke | 0.98 | 1.0 | 0.99 |\n",
    "| Support Vector Machine (2 class)      | Out-of-sample       | Stroke | 0.0 | 0.0 | 0.0 |\n",
    "| Support Vector Machine (1 class outlier)      | In-sample       | No stroke | 0.99 | 0.50 | 0.67 |\n",
    "| Support Vector Machine (1 class outlier)      | In-sample       | Stroke | 0.03 | 0.70 | 0.05 |\n",
    "| Support Vector Machine (1 class outlier)      | Out-of-sample       | No stroke | 0.99 | 0.51 | 0.68 |\n",
    "| Support Vector Machine (1 class outlier)      | Out-of-sample       | Stroke | 0.03 | 0.75 | 0.05 |\n",
    "| Hyperparameter-tuned Random Forest      | In-sample       | No stroke | 1.0 | 1.0 | 1.0 |\n",
    "| Hyperparameter-tuned Random Forest      | In-sample       | Stroke | 1.0 | 1.0 | 1.0 |\n",
    "| Hyperparameter-tuned Random Forest      | Out-of-sample       | No stroke | 0.98 | 1.0 | 0.99 |\n",
    "| Hyperparameter-tuned Random Forest      | Out-of-sample       | Stroke | 0.12 | 0.01 | 0.01 |\n",
    "| AdaBoost      | In-sample       | No stroke | 0.98 | 1.0 | 0.99 |\n",
    "| AdaBoost      | In-sample       | Stroke | 1.0 | 0.0 | 0.0 |\n",
    "| AdaBoost      | Out-of-sample       | No stroke | 0.98 | 1.0 | 0.99 |\n",
    "| AdaBoost      | Out-of-sample       | Stroke | 0.0 | 0.0 | 0.0 |\n",
    "| Naive Bayes      | In-sample       | No stroke | 0.98 | 0.99 | 0.99 |\n",
    "| Naive Bayes      | In-sample       | Stroke | 0.07 | 0.03 | 0.04 |\n",
    "| Naive Bayes      | Out-of-sample       | No stroke | 0.98 | 0.99 | 0.99 |\n",
    "| Naive Bayes      | Out-of-sample       | Stroke | 0.06 | 0.03 | 0.03 |\n",
    "| Quadratic Discriminant Analysis      | In-sample       | No stroke | 0.98 | 0.96 | 0.97 |\n",
    "| Quadratic Discriminant Analysis      | In-sample       | Stroke | 0.07 | 0.18 | 0.10 |\n",
    "| Quadratic Discriminant Analysis      | Out-of-sample       | No stroke | 0.98 | 0.96 | 0.97 |\n",
    "| Quadratic Discriminant Analysis      | Out-of-sample       | Stroke | 0.07 | 0.15 | 0.09 |\n",
    "| Multilayer Perceptron      | In-sample       | No stroke | 0.98 | 1.0 | 0.99 |\n",
    "| Multilayer Perceptron      | In-sample       | Stroke | 0.0 | 0.0 | 0.0 |\n",
    "| Multilayer Perceptron      | Out-of-sample       | No stroke | 0.98 | 1.0 | 0.99 |\n",
    "| Multilayer Perceptron      | Out-of-sample       | Stroke | 0.0 | 0.0 | 0.0 |"
   ]
  },
  {
   "cell_type": "markdown",
   "metadata": {},
   "source": [
    "## Based on the figures of merit from the modeling exercise I have the following conclusions:\n",
    "1. A stroke could be predicted well (in-sample error only) for both precision and recall using k-Nearest Neighbors, a Decision Tree, or a Random Forest, with the Random Forest being best,\n",
    "2. The most generalizable models were k-Nearest Neighbors, Naive Bayes, Quadratic Discriminant Analysis, and the one-class SVM,\n",
    "3. The performance on out-of-sample data for all models is too poor for generalization and deployment of any given model.\n"
   ]
  },
  {
   "cell_type": "markdown",
   "metadata": {},
   "source": [
    "## If the ACO wants the McAnally Consulting Group to continue pursuing a predictive data model for strokes, I have the following recommendations:\n",
    "1. Collect and provide more data either from current patients or look at engineering a larger dataset from legacy records,\n",
    "2. Provide funding for more computational resources to fit larger computational complex models for strokes using deep neural networks,\n",
    "3. If possible, provide time series datasets of patients to look for dynamic behaviour in the response variable to be predicted."
   ]
  },
  {
   "cell_type": "code",
   "execution_count": null,
   "metadata": {},
   "outputs": [],
   "source": []
  }
 ],
 "metadata": {
  "kernelspec": {
   "display_name": "Python 3.6",
   "language": "python",
   "name": "python3"
  },
  "language_info": {
   "codemirror_mode": {
    "name": "ipython",
    "version": 3
   },
   "file_extension": ".py",
   "mimetype": "text/x-python",
   "name": "python",
   "nbconvert_exporter": "python",
   "pygments_lexer": "ipython3",
   "version": "3.6.8"
  }
 },
 "nbformat": 4,
 "nbformat_minor": 1
}
